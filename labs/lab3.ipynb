{
 "cells": [
  {
   "cell_type": "markdown",
   "metadata": {},
   "source": [
    "# MATH50003 Numerical Analysis (2022–23)\n",
    "# Lab 3: Divided differences and dual numbers\n",
    "\n",
    "This lab explores different discretisations for first and higher derivatives.\n",
    "In particular we consider the following approximations:\n",
    "*Forward differences*:\n",
    "$$\n",
    "f'(x) ≈ {f(x+h) - f(x) \\over h}\n",
    "$$\n",
    "*Central differences*:\n",
    "$$\n",
    "f'(x) ≈ {f(x+h) - f(x-h) \\over 2h}\n",
    "$$\n",
    "*Second order differences*:\n",
    "$$\n",
    "f''(x) ≈ {f(x+h) - 2f(x) + f(x-h) \\over h^2}\n",
    "$$\n",
    "We also add to the implementation of `Dual` to enable\n",
    "automatic differentiation with cos, sin, and division"
   ]
  },
  {
   "cell_type": "code",
   "execution_count": 1,
   "metadata": {},
   "outputs": [
    {
     "data": {
      "text/plain": [
       "central_diff_err (generic function with 1 method)"
      ]
     },
     "execution_count": 1,
     "metadata": {},
     "output_type": "execute_result"
    }
   ],
   "source": [
    "using Plots, Test\n",
    "nanabs = x -> iszero(x) ? NaN : abs(x)\n",
    "\n",
    "f = x -> 1 + x + x^2\n",
    "fp = x -> 1 + 2x\n",
    "g = x -> 1 + x/3 + x^2\n",
    "gp = x -> 1/3 + 2*x\n",
    "\n",
    "h1 = 2.0 .^ (0:-1:-60)\n",
    "h2 = 10.0 .^ (0:-1:-16)\n",
    "\n",
    "#PROBLEM 1\n",
    "central_f_h1(x) = ((f.(x .+ h1) .- f.(x .- h1))./(2 .* h1)) .- fp(x)\n",
    "central_g_h1(x) = ((g.(x .+ h1) .- g.(x .- h1))./(2 .* h1)) .- gp(x)\n",
    "\n",
    "x = 0.0\n",
    "#plot(nanabs.(central_f_h1(x)), yaxis=:log10, label=\"f\")\n",
    "#plot!(nanabs.(central_g_h1(x)), yaxis=:log10, label=\"g\")\n",
    "\n",
    "\n",
    "# MAKE FUNCTION:\n",
    "central_diff(x, h, f) = (f(x + h) - f(x - h)) / (2* h)\n",
    "central_diff_err(x, h, f, fp) = nanabs(central_diff(x, h, f) - fp(x))\n",
    "    \n",
    "#plot(central_diff_err.(0.0, h1, f, fp), yaxis=:log10, label=\"f\")\n",
    "#plot!(central_diff_err.(0.0, h1, g, gp), yaxis=:log10, label=\"g\")\n",
    "       "
   ]
  },
  {
   "cell_type": "markdown",
   "metadata": {},
   "source": [
    "--------"
   ]
  },
  {
   "cell_type": "markdown",
   "metadata": {},
   "source": [
    "**Problem 1** Implement central differences\n",
    "for $f(x) = 1 + x + x^2$ and $g(x) = 1 + x/3 + x^2$, approximating the derivative at $x = 0$.\n",
    "Plot the absolute errors for `h = 2.0 .^ (0:-1:-60)` and `h = 10.0 .^ (0:-1:-16)`.\n",
    "\n",
    "Hint: the easiest way to do this is the copy the code from lectures/notes for forward differences,\n",
    "and replace the line `f.(h) .- f(0) ./ h` with the equivalent for central differences.\n",
    "Note that `f.(h)` is broadcast notation so creates a vector containing `[f(h[1]),…,f(h[end])]`.\n",
    "Thus that expression creates a vector containing `[(f(h[1])-f(0))/h[1], …, (f(h[end])-f(0))/h[end]]`."
   ]
  },
  {
   "cell_type": "markdown",
   "metadata": {},
   "source": [
    "-----\n",
    "**Problem 2** Use forward differences, central differences, and second-order divided differences to approximate to 5-digits the first and second\n",
    "derivatives to the following functions\n",
    "at the point $x = 0.1$:\n",
    "$$\n",
    "\\exp(\\exp x \\cos x + \\sin x), ∏_{k=1}^{1000} \\left({x \\over k}-1\\right), \\hbox{ and } f^{\\rm s}_{1000}(x)\n",
    "$$\n",
    "where $f^{\\rm s}_n(x)$ corresponds to $n$-terms of the following continued fraction:\n",
    "$$\n",
    "1 + {x-1 \\over 2 + {x-1 \\over 2 + {x-1 \\over 2 + ⋱}}},\n",
    "$$\n",
    "e.g.:\n",
    "$$f^{\\rm s}_1(x) = 1 + {x-1 \\over 2}$$\n",
    "$$f^{\\rm s}_2(x) = 1 + {x-1 \\over 2 + {x -1 \\over 2}}$$\n",
    "$$f^{\\rm s}_3(x) = 1 + {x-1 \\over 2 + {x -1 \\over 2 + {x-1 \\over 2}}}$$"
   ]
  },
  {
   "cell_type": "markdown",
   "metadata": {},
   "source": [
    "----"
   ]
  },
  {
   "cell_type": "markdown",
   "metadata": {},
   "source": [
    "We now extend our implementation of `Dual` which we began in lectures/notes as follows:"
   ]
  },
  {
   "cell_type": "code",
   "execution_count": 2,
   "metadata": {},
   "outputs": [
    {
     "name": "stdout",
     "output_type": "stream",
     "text": [
      "6.584772557020187\n",
      "6.584772542119026\n",
      "-9.007199254740992e15\n",
      "-3.593826290220022\n",
      "-3.5938265174627304\n",
      "3.377699720527872e15\n",
      "0.4303314760327339\n",
      "0.4303314797580242\n",
      "-4.503599627370496e15\n"
     ]
    },
    {
     "data": {
      "text/plain": [
       "exp (generic function with 16 methods)"
      ]
     },
     "execution_count": 2,
     "metadata": {},
     "output_type": "execute_result"
    }
   ],
   "source": [
    "#PROBLEM 2:\n",
    "h = x -> exp((exp(x)*cos(x)) + sin(x))\n",
    "    \n",
    "ip = x -> prod([x] ./ (1:1000) .- 1)\n",
    "# so this takes x and makes it a vector of 1000 columns then it  \n",
    "# divides it by each of 1:1000 and subtracts 1\n",
    "# then finds the product\n",
    "\"\"\"\n",
    "function i(x)\n",
    "    ret = 1 \n",
    "    for k=1:1000\n",
    "        ret = ret * ((x / k) - 1)\n",
    "    end\n",
    "    ret\n",
    "end \"\"\"\n",
    "   \n",
    "function j(x, k)\n",
    "    if k == 0\n",
    "        ret = 0\n",
    "    else \n",
    "        ret = 1 + (x - 1)/(2 + j(x, k-1))\n",
    "    end\n",
    "    ret \n",
    "end \n",
    "\n",
    "\n",
    "forward_diff(x, h, f) = (f(x + h) - f(x)) / h\n",
    "central_diff(x, h, f) = (f(x + h) - f(x - h)) / (2* h)\n",
    "second_ord_diff(x, h, f) = (f(x + h) - 2*f(x) + f(x - h)) / (h ^ 2)\n",
    "\n",
    "x = 0.1\n",
    "e = eps()\n",
    "println(forward_diff(x, sqrt(e), h))\n",
    "println(central_diff(x, sqrt(e), h))\n",
    "println(second_ord_diff(x, e, h))\n",
    "        \n",
    "println(forward_diff(x, sqrt(e), ip))\n",
    "println(central_diff(x, sqrt(e), ip))\n",
    "println(second_ord_diff(x, e, ip))\n",
    "        \n",
    "println(forward_diff(x, sqrt(e), x -> j(x, 1000)))\n",
    "println(central_diff(x, sqrt(e), x -> j(x, 1000)))\n",
    "println(second_ord_diff(x, e, x -> j(x, 1000)))\n",
    "        \n",
    "\n",
    "# Dual(a,b) represents a + b*ϵ\n",
    "struct Dual{T}\n",
    "    a::T\n",
    "    b::T\n",
    "end\n",
    "\n",
    "# Dual(a) represents a + 0*ϵ\n",
    "Dual(a::Real) = Dual(a, zero(a)) # for real numbers we use a + 0ϵ\n",
    "\n",
    "# Allow for a + b*ϵ syntax\n",
    "const ϵ = Dual(0, 1)\n",
    "\n",
    "# import the functions which we wish to overload\n",
    "import Base: +, *, -, /, ^, zero, exp, cos, sin, one\n",
    "\n",
    "# support polynomials like 1 + x, x - 1, 2x or x*2 by reducing to Dual\n",
    "+(x::Real, y::Dual) = Dual(x) + y\n",
    "+(x::Dual, y::Real) = x + Dual(y)\n",
    "-(x::Real, y::Dual) = Dual(x) - y\n",
    "-(x::Dual, y::Real) = x - Dual(y)\n",
    "*(x::Real, y::Dual) = Dual(x) * y\n",
    "*(x::Dual, y::Real) = x * Dual(y)\n",
    "\n",
    "# support x/2 (but not yet division of duals)\n",
    "/(x::Dual, k::Real) = Dual(x.a/k, x.b/k)\n",
    "\n",
    "# a simple recursive function to support x^2, x^3, etc.\n",
    "function ^(x::Dual, k::Integer)\n",
    "    if k < 0\n",
    "        error(\"Not implemented\")\n",
    "    elseif k == 1\n",
    "        x\n",
    "    else\n",
    "        x^(k-1) * x\n",
    "    end\n",
    "end\n",
    "\n",
    "# support identity of type Dual\n",
    "one(x::Dual) = Dual(one(eltype(x.a)))\n",
    "\n",
    "# Algebraic operations for duals\n",
    "-(x::Dual) = Dual(-x.a, -x.b)\n",
    "+(x::Dual, y::Dual) = Dual(x.a + y.a, x.b + y.b)\n",
    "-(x::Dual, y::Dual) = Dual(x.a - y.a, x.b - y.b)\n",
    "*(x::Dual, y::Dual) = Dual(x.a*y.a, x.a*y.b + x.b*y.a)\n",
    "\n",
    "exp(x::Dual) = Dual(exp(x.a), exp(x.a) * x.b)"
   ]
  },
  {
   "cell_type": "markdown",
   "metadata": {},
   "source": [
    "**Problem 3.1** Add support for `cos`, `sin`, and `/` to the type `Dual`"
   ]
  },
  {
   "cell_type": "code",
   "execution_count": 10,
   "metadata": {},
   "outputs": [
    {
     "ename": "LoadError",
     "evalue": "MethodError: no method matching Dual(::Float64, ::Int64)\n\u001b[0mClosest candidates are:\n\u001b[0m  Dual(::Real) at In[2]:53\n\u001b[0m  Dual(::T, \u001b[91m::T\u001b[39m) where T at In[2]:48",
     "output_type": "error",
     "traceback": [
      "MethodError: no method matching Dual(::Float64, ::Int64)\n\u001b[0mClosest candidates are:\n\u001b[0m  Dual(::Real) at In[2]:53\n\u001b[0m  Dual(::T, \u001b[91m::T\u001b[39m) where T at In[2]:48",
      "",
      "Stacktrace:",
      " [1] top-level scope",
      "   @ In[10]:16"
     ]
    }
   ],
   "source": [
    "function cos(x::Dual)\n",
    "    Dual(cos(x.a), - x.b*sin(x.a))\n",
    "end\n",
    "\n",
    "function sin(x::Dual)\n",
    "    Dual(sin(x.a), x.b*cos(x.a))\n",
    "end\n",
    "\n",
    "function /(x::Dual, y::Dual)\n",
    "    Dual(x.a/y.a, ((x.b * y.a) - (x.a * y.b))/(y.a^2))\n",
    "end\n",
    "\n",
    "x = 0.1\n",
    "@test cos(sin(x+ϵ)/(x+ϵ)).b ≈ -((cos(x)/x - sin(x)/x^2)sin(sin(x)/x))\n",
    "\n",
    "fdual = f(Dual(0.1, 1))\n",
    "print(fdual.b)"
   ]
  },
  {
   "cell_type": "raw",
   "metadata": {},
   "source": [
    "\n",
    "\n",
    "\n"
   ]
  },
  {
   "cell_type": "markdown",
   "metadata": {},
   "source": [
    "---\n",
    "\n",
    "*This notebook was generated using [Literate.jl](https://github.com/fredrikekre/Literate.jl).*"
   ]
  }
 ],
 "metadata": {
  "kernelspec": {
   "display_name": "Julia 1.8.5",
   "language": "julia",
   "name": "julia-1.8"
  },
  "language_info": {
   "file_extension": ".jl",
   "mimetype": "application/julia",
   "name": "julia",
   "version": "1.8.5"
  }
 },
 "nbformat": 4,
 "nbformat_minor": 3
}
