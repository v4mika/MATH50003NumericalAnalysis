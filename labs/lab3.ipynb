{
 "cells": [
  {
   "cell_type": "markdown",
   "metadata": {},
   "source": [
    "# MATH50003 Numerical Analysis (2022–23)\n",
    "# Lab 3: Divided differences and dual numbers\n",
    "\n",
    "This lab explores different discretisations for first and higher derivatives.\n",
    "In particular we consider the following approximations:\n",
    "*Forward differences*:\n",
    "$$\n",
    "f'(x) ≈ {f(x+h) - f(x) \\over h}\n",
    "$$\n",
    "*Central differences*:\n",
    "$$\n",
    "f'(x) ≈ {f(x+h) - f(x-h) \\over 2h}\n",
    "$$\n",
    "*Second order differences*:\n",
    "$$\n",
    "f''(x) ≈ {f(x+h) - 2f(x) + f(x-h) \\over h^2}\n",
    "$$\n",
    "We also add to the implementation of `Dual` to enable\n",
    "automatic differentiation with cos, sin, and division"
   ]
  },
  {
   "cell_type": "code",
   "execution_count": 30,
   "metadata": {},
   "outputs": [
    {
     "name": "stdout",
     "output_type": "stream",
     "text": [
      "[0.333333333333333, 0.3333333333333332, 0.3333333333333332, 0.33333333333333365, 0.33333333333333276, 0.33333333333333454, 0.333333333333331, 0.3333333333333381, 0.3333333333333239, 0.3333333333333523, 0.33333333333329546, 0.33333333333340914, 0.33333333333318177, 0.3333333333336365, 0.333333333332727, 0.333333333334546, 0.33333333333090803, 0.333333333338184, 0.3333333333236321, 0.3333333333527359, 0.33333333329452824, 0.33333333341094357, 0.3333333331781129, 0.3333333336437742, 0.33333333271245164, 0.3333333345750968, 0.3333333308498065, 0.3333333233992259, 0.3333333233992259, 0.3333333532015483, 0.3333332935969035, 0.33333341280619305, 0.33333317438761395, 0.33333365122477215, 0.33333269755045575, 0.33333460489908856, 0.33333079020182294, 0.3333384195963542, 0.3333231608072917, 0.3333536783854167, 0.3332926432291667, 0.3334147135416667, 0.3331705729166667, 0.3336588541666667, 0.3326822916666667, 0.3346354166666667, 0.3307291666666667, 0.3385416666666667, 0.3229166666666667, 0.3541666666666667, 0.2916666666666667, 0.4166666666666667, 0.16666666666666669, -0.3333333333333333, -0.3333333333333333, -0.3333333333333333, -0.3333333333333333, -0.3333333333333333, -0.3333333333333333, -0.3333333333333333, -0.3333333333333333]"
     ]
    },
    {
     "data": {
      "image/svg+xml": [
       "<?xml version=\"1.0\" encoding=\"utf-8\"?>\n",
       "<svg xmlns=\"http://www.w3.org/2000/svg\" xmlns:xlink=\"http://www.w3.org/1999/xlink\" width=\"600\" height=\"400\" viewBox=\"0 0 2400 1600\">\n",
       "<defs>\n",
       "  <clipPath id=\"clip000\">\n",
       "    <rect x=\"0\" y=\"0\" width=\"2400\" height=\"1600\"/>\n",
       "  </clipPath>\n",
       "</defs>\n",
       "<path clip-path=\"url(#clip000)\" d=\"\n",
       "M0 1600 L2400 1600 L2400 0 L0 0  Z\n",
       "  \" fill=\"#ffffff\" fill-rule=\"evenodd\" fill-opacity=\"1\"/>\n",
       "<defs>\n",
       "  <clipPath id=\"clip001\">\n",
       "    <rect x=\"480\" y=\"0\" width=\"1681\" height=\"1600\"/>\n",
       "  </clipPath>\n",
       "</defs>\n",
       "<path clip-path=\"url(#clip000)\" d=\"\n",
       "M225.043 1486.45 L2352.76 1486.45 L2352.76 47.2441 L225.043 47.2441  Z\n",
       "  \" fill=\"#ffffff\" fill-rule=\"evenodd\" fill-opacity=\"1\"/>\n",
       "<defs>\n",
       "  <clipPath id=\"clip002\">\n",
       "    <rect x=\"225\" y=\"47\" width=\"2129\" height=\"1440\"/>\n",
       "  </clipPath>\n",
       "</defs>\n",
       "<polyline clip-path=\"url(#clip002)\" style=\"stroke:#000000; stroke-linecap:round; stroke-linejoin:round; stroke-width:2; stroke-opacity:0.1; fill:none\" points=\"\n",
       "  251.806,1486.45 251.806,47.2441 \n",
       "  \"/>\n",
       "<polyline clip-path=\"url(#clip002)\" style=\"stroke:#000000; stroke-linecap:round; stroke-linejoin:round; stroke-width:2; stroke-opacity:0.1; fill:none\" points=\"\n",
       "  586.352,1486.45 586.352,47.2441 \n",
       "  \"/>\n",
       "<polyline clip-path=\"url(#clip002)\" style=\"stroke:#000000; stroke-linecap:round; stroke-linejoin:round; stroke-width:2; stroke-opacity:0.1; fill:none\" points=\"\n",
       "  920.899,1486.45 920.899,47.2441 \n",
       "  \"/>\n",
       "<polyline clip-path=\"url(#clip002)\" style=\"stroke:#000000; stroke-linecap:round; stroke-linejoin:round; stroke-width:2; stroke-opacity:0.1; fill:none\" points=\"\n",
       "  1255.44,1486.45 1255.44,47.2441 \n",
       "  \"/>\n",
       "<polyline clip-path=\"url(#clip002)\" style=\"stroke:#000000; stroke-linecap:round; stroke-linejoin:round; stroke-width:2; stroke-opacity:0.1; fill:none\" points=\"\n",
       "  1589.99,1486.45 1589.99,47.2441 \n",
       "  \"/>\n",
       "<polyline clip-path=\"url(#clip002)\" style=\"stroke:#000000; stroke-linecap:round; stroke-linejoin:round; stroke-width:2; stroke-opacity:0.1; fill:none\" points=\"\n",
       "  1924.54,1486.45 1924.54,47.2441 \n",
       "  \"/>\n",
       "<polyline clip-path=\"url(#clip002)\" style=\"stroke:#000000; stroke-linecap:round; stroke-linejoin:round; stroke-width:2; stroke-opacity:0.1; fill:none\" points=\"\n",
       "  2259.08,1486.45 2259.08,47.2441 \n",
       "  \"/>\n",
       "<polyline clip-path=\"url(#clip000)\" style=\"stroke:#000000; stroke-linecap:round; stroke-linejoin:round; stroke-width:4; stroke-opacity:1; fill:none\" points=\"\n",
       "  225.043,1486.45 2352.76,1486.45 \n",
       "  \"/>\n",
       "<polyline clip-path=\"url(#clip000)\" style=\"stroke:#000000; stroke-linecap:round; stroke-linejoin:round; stroke-width:4; stroke-opacity:1; fill:none\" points=\"\n",
       "  251.806,1486.45 251.806,1467.55 \n",
       "  \"/>\n",
       "<polyline clip-path=\"url(#clip000)\" style=\"stroke:#000000; stroke-linecap:round; stroke-linejoin:round; stroke-width:4; stroke-opacity:1; fill:none\" points=\"\n",
       "  586.352,1486.45 586.352,1467.55 \n",
       "  \"/>\n",
       "<polyline clip-path=\"url(#clip000)\" style=\"stroke:#000000; stroke-linecap:round; stroke-linejoin:round; stroke-width:4; stroke-opacity:1; fill:none\" points=\"\n",
       "  920.899,1486.45 920.899,1467.55 \n",
       "  \"/>\n",
       "<polyline clip-path=\"url(#clip000)\" style=\"stroke:#000000; stroke-linecap:round; stroke-linejoin:round; stroke-width:4; stroke-opacity:1; fill:none\" points=\"\n",
       "  1255.44,1486.45 1255.44,1467.55 \n",
       "  \"/>\n",
       "<polyline clip-path=\"url(#clip000)\" style=\"stroke:#000000; stroke-linecap:round; stroke-linejoin:round; stroke-width:4; stroke-opacity:1; fill:none\" points=\"\n",
       "  1589.99,1486.45 1589.99,1467.55 \n",
       "  \"/>\n",
       "<polyline clip-path=\"url(#clip000)\" style=\"stroke:#000000; stroke-linecap:round; stroke-linejoin:round; stroke-width:4; stroke-opacity:1; fill:none\" points=\"\n",
       "  1924.54,1486.45 1924.54,1467.55 \n",
       "  \"/>\n",
       "<polyline clip-path=\"url(#clip000)\" style=\"stroke:#000000; stroke-linecap:round; stroke-linejoin:round; stroke-width:4; stroke-opacity:1; fill:none\" points=\"\n",
       "  2259.08,1486.45 2259.08,1467.55 \n",
       "  \"/>\n",
       "<path clip-path=\"url(#clip000)\" d=\"M251.806 1517.37 Q248.195 1517.37 246.367 1520.93 Q244.561 1524.47 244.561 1531.6 Q244.561 1538.71 246.367 1542.27 Q248.195 1545.82 251.806 1545.82 Q255.441 1545.82 257.246 1542.27 Q259.075 1538.71 259.075 1531.6 Q259.075 1524.47 257.246 1520.93 Q255.441 1517.37 251.806 1517.37 M251.806 1513.66 Q257.616 1513.66 260.672 1518.27 Q263.751 1522.85 263.751 1531.6 Q263.751 1540.33 260.672 1544.94 Q257.616 1549.52 251.806 1549.52 Q245.996 1549.52 242.917 1544.94 Q239.862 1540.33 239.862 1531.6 Q239.862 1522.85 242.917 1518.27 Q245.996 1513.66 251.806 1513.66 Z\" fill=\"#000000\" fill-rule=\"evenodd\" fill-opacity=\"1\" /><path clip-path=\"url(#clip000)\" d=\"M561.04 1544.91 L568.679 1544.91 L568.679 1518.55 L560.369 1520.21 L560.369 1515.95 L568.633 1514.29 L573.308 1514.29 L573.308 1544.91 L580.947 1544.91 L580.947 1548.85 L561.04 1548.85 L561.04 1544.91 Z\" fill=\"#000000\" fill-rule=\"evenodd\" fill-opacity=\"1\" /><path clip-path=\"url(#clip000)\" d=\"M600.392 1517.37 Q596.781 1517.37 594.952 1520.93 Q593.146 1524.47 593.146 1531.6 Q593.146 1538.71 594.952 1542.27 Q596.781 1545.82 600.392 1545.82 Q604.026 1545.82 605.831 1542.27 Q607.66 1538.71 607.66 1531.6 Q607.66 1524.47 605.831 1520.93 Q604.026 1517.37 600.392 1517.37 M600.392 1513.66 Q606.202 1513.66 609.257 1518.27 Q612.336 1522.85 612.336 1531.6 Q612.336 1540.33 609.257 1544.94 Q606.202 1549.52 600.392 1549.52 Q594.582 1549.52 591.503 1544.94 Q588.447 1540.33 588.447 1531.6 Q588.447 1522.85 591.503 1518.27 Q594.582 1513.66 600.392 1513.66 Z\" fill=\"#000000\" fill-rule=\"evenodd\" fill-opacity=\"1\" /><path clip-path=\"url(#clip000)\" d=\"M899.672 1544.91 L915.991 1544.91 L915.991 1548.85 L894.047 1548.85 L894.047 1544.91 Q896.709 1542.16 901.292 1537.53 Q905.899 1532.88 907.079 1531.53 Q909.325 1529.01 910.204 1527.27 Q911.107 1525.51 911.107 1523.82 Q911.107 1521.07 909.162 1519.33 Q907.241 1517.6 904.139 1517.6 Q901.94 1517.6 899.487 1518.36 Q897.056 1519.13 894.278 1520.68 L894.278 1515.95 Q897.102 1514.82 899.556 1514.24 Q902.01 1513.66 904.047 1513.66 Q909.417 1513.66 912.612 1516.35 Q915.806 1519.03 915.806 1523.52 Q915.806 1525.65 914.996 1527.57 Q914.209 1529.47 912.102 1532.07 Q911.524 1532.74 908.422 1535.95 Q905.32 1539.15 899.672 1544.91 Z\" fill=\"#000000\" fill-rule=\"evenodd\" fill-opacity=\"1\" /><path clip-path=\"url(#clip000)\" d=\"M935.806 1517.37 Q932.195 1517.37 930.366 1520.93 Q928.561 1524.47 928.561 1531.6 Q928.561 1538.71 930.366 1542.27 Q932.195 1545.82 935.806 1545.82 Q939.44 1545.82 941.246 1542.27 Q943.074 1538.71 943.074 1531.6 Q943.074 1524.47 941.246 1520.93 Q939.44 1517.37 935.806 1517.37 M935.806 1513.66 Q941.616 1513.66 944.672 1518.27 Q947.75 1522.85 947.75 1531.6 Q947.75 1540.33 944.672 1544.94 Q941.616 1549.52 935.806 1549.52 Q929.996 1549.52 926.917 1544.94 Q923.861 1540.33 923.861 1531.6 Q923.861 1522.85 926.917 1518.27 Q929.996 1513.66 935.806 1513.66 Z\" fill=\"#000000\" fill-rule=\"evenodd\" fill-opacity=\"1\" /><path clip-path=\"url(#clip000)\" d=\"M1244.29 1530.21 Q1247.64 1530.93 1249.52 1533.2 Q1251.42 1535.47 1251.42 1538.8 Q1251.42 1543.92 1247.9 1546.72 Q1244.38 1549.52 1237.9 1549.52 Q1235.72 1549.52 1233.41 1549.08 Q1231.12 1548.66 1228.66 1547.81 L1228.66 1543.29 Q1230.61 1544.43 1232.92 1545.01 Q1235.24 1545.58 1237.76 1545.58 Q1242.16 1545.58 1244.45 1543.85 Q1246.76 1542.11 1246.76 1538.8 Q1246.76 1535.75 1244.61 1534.03 Q1242.48 1532.3 1238.66 1532.3 L1234.63 1532.3 L1234.63 1528.45 L1238.85 1528.45 Q1242.3 1528.45 1244.13 1527.09 Q1245.95 1525.7 1245.95 1523.11 Q1245.95 1520.45 1244.06 1519.03 Q1242.18 1517.6 1238.66 1517.6 Q1236.74 1517.6 1234.54 1518.01 Q1232.34 1518.43 1229.7 1519.31 L1229.7 1515.14 Q1232.37 1514.4 1234.68 1514.03 Q1237.02 1513.66 1239.08 1513.66 Q1244.4 1513.66 1247.5 1516.09 Q1250.61 1518.5 1250.61 1522.62 Q1250.61 1525.49 1248.96 1527.48 Q1247.32 1529.45 1244.29 1530.21 Z\" fill=\"#000000\" fill-rule=\"evenodd\" fill-opacity=\"1\" /><path clip-path=\"url(#clip000)\" d=\"M1270.28 1517.37 Q1266.67 1517.37 1264.84 1520.93 Q1263.04 1524.47 1263.04 1531.6 Q1263.04 1538.71 1264.84 1542.27 Q1266.67 1545.82 1270.28 1545.82 Q1273.92 1545.82 1275.72 1542.27 Q1277.55 1538.71 1277.55 1531.6 Q1277.55 1524.47 1275.72 1520.93 Q1273.92 1517.37 1270.28 1517.37 M1270.28 1513.66 Q1276.09 1513.66 1279.15 1518.27 Q1282.23 1522.85 1282.23 1531.6 Q1282.23 1540.33 1279.15 1544.94 Q1276.09 1549.52 1270.28 1549.52 Q1264.47 1549.52 1261.39 1544.94 Q1258.34 1540.33 1258.34 1531.6 Q1258.34 1522.85 1261.39 1518.27 Q1264.47 1513.66 1270.28 1513.66 Z\" fill=\"#000000\" fill-rule=\"evenodd\" fill-opacity=\"1\" /><path clip-path=\"url(#clip000)\" d=\"M1578.16 1518.36 L1566.36 1536.81 L1578.16 1536.81 L1578.16 1518.36 M1576.94 1514.29 L1582.81 1514.29 L1582.81 1536.81 L1587.75 1536.81 L1587.75 1540.7 L1582.81 1540.7 L1582.81 1548.85 L1578.16 1548.85 L1578.16 1540.7 L1562.56 1540.7 L1562.56 1536.19 L1576.94 1514.29 Z\" fill=\"#000000\" fill-rule=\"evenodd\" fill-opacity=\"1\" /><path clip-path=\"url(#clip000)\" d=\"M1605.48 1517.37 Q1601.87 1517.37 1600.04 1520.93 Q1598.23 1524.47 1598.23 1531.6 Q1598.23 1538.71 1600.04 1542.27 Q1601.87 1545.82 1605.48 1545.82 Q1609.11 1545.82 1610.92 1542.27 Q1612.75 1538.71 1612.75 1531.6 Q1612.75 1524.47 1610.92 1520.93 Q1609.11 1517.37 1605.48 1517.37 M1605.48 1513.66 Q1611.29 1513.66 1614.34 1518.27 Q1617.42 1522.85 1617.42 1531.6 Q1617.42 1540.33 1614.34 1544.94 Q1611.29 1549.52 1605.48 1549.52 Q1599.67 1549.52 1596.59 1544.94 Q1593.53 1540.33 1593.53 1531.6 Q1593.53 1522.85 1596.59 1518.27 Q1599.67 1513.66 1605.48 1513.66 Z\" fill=\"#000000\" fill-rule=\"evenodd\" fill-opacity=\"1\" /><path clip-path=\"url(#clip000)\" d=\"M1899.24 1514.29 L1917.59 1514.29 L1917.59 1518.22 L1903.52 1518.22 L1903.52 1526.7 Q1904.54 1526.35 1905.56 1526.19 Q1906.57 1526 1907.59 1526 Q1913.38 1526 1916.76 1529.17 Q1920.14 1532.34 1920.14 1537.76 Q1920.14 1543.34 1916.67 1546.44 Q1913.19 1549.52 1906.87 1549.52 Q1904.7 1549.52 1902.43 1549.15 Q1900.19 1548.78 1897.78 1548.04 L1897.78 1543.34 Q1899.86 1544.47 1902.08 1545.03 Q1904.31 1545.58 1906.78 1545.58 Q1910.79 1545.58 1913.12 1543.48 Q1915.46 1541.37 1915.46 1537.76 Q1915.46 1534.15 1913.12 1532.04 Q1910.79 1529.94 1906.78 1529.94 Q1904.91 1529.94 1903.03 1530.35 Q1901.18 1530.77 1899.24 1531.65 L1899.24 1514.29 Z\" fill=\"#000000\" fill-rule=\"evenodd\" fill-opacity=\"1\" /><path clip-path=\"url(#clip000)\" d=\"M1939.35 1517.37 Q1935.74 1517.37 1933.91 1520.93 Q1932.11 1524.47 1932.11 1531.6 Q1932.11 1538.71 1933.91 1542.27 Q1935.74 1545.82 1939.35 1545.82 Q1942.99 1545.82 1944.79 1542.27 Q1946.62 1538.71 1946.62 1531.6 Q1946.62 1524.47 1944.79 1520.93 Q1942.99 1517.37 1939.35 1517.37 M1939.35 1513.66 Q1945.16 1513.66 1948.22 1518.27 Q1951.3 1522.85 1951.3 1531.6 Q1951.3 1540.33 1948.22 1544.94 Q1945.16 1549.52 1939.35 1549.52 Q1933.54 1549.52 1930.46 1544.94 Q1927.41 1540.33 1927.41 1531.6 Q1927.41 1522.85 1930.46 1518.27 Q1933.54 1513.66 1939.35 1513.66 Z\" fill=\"#000000\" fill-rule=\"evenodd\" fill-opacity=\"1\" /><path clip-path=\"url(#clip000)\" d=\"M2244.49 1529.7 Q2241.34 1529.7 2239.49 1531.86 Q2237.66 1534.01 2237.66 1537.76 Q2237.66 1541.49 2239.49 1543.66 Q2241.34 1545.82 2244.49 1545.82 Q2247.64 1545.82 2249.46 1543.66 Q2251.32 1541.49 2251.32 1537.76 Q2251.32 1534.01 2249.46 1531.86 Q2247.64 1529.7 2244.49 1529.7 M2253.77 1515.05 L2253.77 1519.31 Q2252.01 1518.48 2250.21 1518.04 Q2248.42 1517.6 2246.66 1517.6 Q2242.03 1517.6 2239.58 1520.72 Q2237.15 1523.85 2236.8 1530.17 Q2238.17 1528.15 2240.23 1527.09 Q2242.29 1526 2244.77 1526 Q2249.97 1526 2252.98 1529.17 Q2256.02 1532.32 2256.02 1537.76 Q2256.02 1543.08 2252.87 1546.3 Q2249.72 1549.52 2244.49 1549.52 Q2238.49 1549.52 2235.32 1544.94 Q2232.15 1540.33 2232.15 1531.6 Q2232.15 1523.41 2236.04 1518.55 Q2239.93 1513.66 2246.48 1513.66 Q2248.24 1513.66 2250.02 1514.01 Q2251.83 1514.36 2253.77 1515.05 Z\" fill=\"#000000\" fill-rule=\"evenodd\" fill-opacity=\"1\" /><path clip-path=\"url(#clip000)\" d=\"M2274.07 1517.37 Q2270.46 1517.37 2268.63 1520.93 Q2266.83 1524.47 2266.83 1531.6 Q2266.83 1538.71 2268.63 1542.27 Q2270.46 1545.82 2274.07 1545.82 Q2277.71 1545.82 2279.51 1542.27 Q2281.34 1538.71 2281.34 1531.6 Q2281.34 1524.47 2279.51 1520.93 Q2277.71 1517.37 2274.07 1517.37 M2274.07 1513.66 Q2279.88 1513.66 2282.94 1518.27 Q2286.02 1522.85 2286.02 1531.6 Q2286.02 1540.33 2282.94 1544.94 Q2279.88 1549.52 2274.07 1549.52 Q2268.26 1549.52 2265.18 1544.94 Q2262.13 1540.33 2262.13 1531.6 Q2262.13 1522.85 2265.18 1518.27 Q2268.26 1513.66 2274.07 1513.66 Z\" fill=\"#000000\" fill-rule=\"evenodd\" fill-opacity=\"1\" /><polyline clip-path=\"url(#clip002)\" style=\"stroke:#000000; stroke-linecap:round; stroke-linejoin:round; stroke-width:2; stroke-opacity:0.1; fill:none\" points=\"\n",
       "  225.043,960.39 2352.76,960.39 \n",
       "  \"/>\n",
       "<polyline clip-path=\"url(#clip002)\" style=\"stroke:#000000; stroke-linecap:round; stroke-linejoin:round; stroke-width:2; stroke-opacity:0.1; fill:none\" points=\"\n",
       "  225.043,87.9763 2352.76,87.9763 \n",
       "  \"/>\n",
       "<polyline clip-path=\"url(#clip000)\" style=\"stroke:#000000; stroke-linecap:round; stroke-linejoin:round; stroke-width:4; stroke-opacity:1; fill:none\" points=\"\n",
       "  225.043,1486.45 225.043,47.2441 \n",
       "  \"/>\n",
       "<polyline clip-path=\"url(#clip000)\" style=\"stroke:#000000; stroke-linecap:round; stroke-linejoin:round; stroke-width:4; stroke-opacity:1; fill:none\" points=\"\n",
       "  225.043,960.39 243.94,960.39 \n",
       "  \"/>\n",
       "<polyline clip-path=\"url(#clip000)\" style=\"stroke:#000000; stroke-linecap:round; stroke-linejoin:round; stroke-width:4; stroke-opacity:1; fill:none\" points=\"\n",
       "  225.043,87.9763 243.94,87.9763 \n",
       "  \"/>\n",
       "<path clip-path=\"url(#clip000)\" d=\"M51.6634 980.182 L59.3023 980.182 L59.3023 953.817 L50.9921 955.483 L50.9921 951.224 L59.256 949.557 L63.9319 949.557 L63.9319 980.182 L71.5707 980.182 L71.5707 984.117 L51.6634 984.117 L51.6634 980.182 Z\" fill=\"#000000\" fill-rule=\"evenodd\" fill-opacity=\"1\" /><path clip-path=\"url(#clip000)\" d=\"M91.0151 952.636 Q87.404 952.636 85.5753 956.201 Q83.7697 959.743 83.7697 966.872 Q83.7697 973.979 85.5753 977.543 Q87.404 981.085 91.0151 981.085 Q94.6493 981.085 96.4548 977.543 Q98.2835 973.979 98.2835 966.872 Q98.2835 959.743 96.4548 956.201 Q94.6493 952.636 91.0151 952.636 M91.0151 948.932 Q96.8252 948.932 99.8808 953.539 Q102.959 958.122 102.959 966.872 Q102.959 975.599 99.8808 980.205 Q96.8252 984.789 91.0151 984.789 Q85.2049 984.789 82.1262 980.205 Q79.0707 975.599 79.0707 966.872 Q79.0707 958.122 82.1262 953.539 Q85.2049 948.932 91.0151 948.932 Z\" fill=\"#000000\" fill-rule=\"evenodd\" fill-opacity=\"1\" /><path clip-path=\"url(#clip000)\" d=\"M102.959 943.034 L127.071 943.034 L127.071 946.231 L102.959 946.231 L102.959 943.034 Z\" fill=\"#000000\" fill-rule=\"evenodd\" fill-opacity=\"1\" /><path clip-path=\"url(#clip000)\" d=\"M143.396 931.128 Q140.462 931.128 138.976 934.025 Q137.509 936.902 137.509 942.695 Q137.509 948.469 138.976 951.366 Q140.462 954.243 143.396 954.243 Q146.349 954.243 147.816 951.366 Q149.302 948.469 149.302 942.695 Q149.302 936.902 147.816 934.025 Q146.349 931.128 143.396 931.128 M143.396 928.119 Q148.117 928.119 150.6 931.862 Q153.101 935.586 153.101 942.695 Q153.101 949.786 150.6 953.529 Q148.117 957.252 143.396 957.252 Q138.675 957.252 136.174 953.529 Q133.691 949.786 133.691 942.695 Q133.691 935.586 136.174 931.862 Q138.675 928.119 143.396 928.119 Z\" fill=\"#000000\" fill-rule=\"evenodd\" fill-opacity=\"1\" /><path clip-path=\"url(#clip000)\" d=\"M159.778 951.93 L163.746 951.93 L163.746 956.707 L159.778 956.707 L159.778 951.93 Z\" fill=\"#000000\" fill-rule=\"evenodd\" fill-opacity=\"1\" /><path clip-path=\"url(#clip000)\" d=\"M172.059 928.627 L186.974 928.627 L186.974 931.824 L175.539 931.824 L175.539 938.708 Q176.366 938.426 177.194 938.294 Q178.021 938.144 178.849 938.144 Q183.551 938.144 186.297 940.72 Q189.043 943.297 189.043 947.698 Q189.043 952.231 186.221 954.751 Q183.4 957.252 178.266 957.252 Q176.498 957.252 174.655 956.952 Q172.83 956.651 170.874 956.049 L170.874 952.231 Q172.567 953.152 174.373 953.604 Q176.178 954.055 178.191 954.055 Q181.444 954.055 183.344 952.344 Q185.243 950.632 185.243 947.698 Q185.243 944.764 183.344 943.053 Q181.444 941.341 178.191 941.341 Q176.667 941.341 175.144 941.68 Q173.639 942.018 172.059 942.733 L172.059 928.627 Z\" fill=\"#000000\" fill-rule=\"evenodd\" fill-opacity=\"1\" /><path clip-path=\"url(#clip000)\" d=\"M81.5866 107.769 L89.2254 107.769 L89.2254 81.4031 L80.9153 83.0698 L80.9153 78.8105 L89.1791 77.1439 L93.855 77.1439 L93.855 107.769 L101.494 107.769 L101.494 111.704 L81.5866 111.704 L81.5866 107.769 Z\" fill=\"#000000\" fill-rule=\"evenodd\" fill-opacity=\"1\" /><path clip-path=\"url(#clip000)\" d=\"M120.938 80.2226 Q117.327 80.2226 115.498 83.7874 Q113.693 87.329 113.693 94.4586 Q113.693 101.565 115.498 105.13 Q117.327 108.671 120.938 108.671 Q124.572 108.671 126.378 105.13 Q128.207 101.565 128.207 94.4586 Q128.207 87.329 126.378 83.7874 Q124.572 80.2226 120.938 80.2226 M120.938 76.5189 Q126.748 76.5189 129.804 81.1253 Q132.883 85.7086 132.883 94.4586 Q132.883 103.185 129.804 107.792 Q126.748 112.375 120.938 112.375 Q115.128 112.375 112.049 107.792 Q108.994 103.185 108.994 94.4586 Q108.994 85.7086 112.049 81.1253 Q115.128 76.5189 120.938 76.5189 Z\" fill=\"#000000\" fill-rule=\"evenodd\" fill-opacity=\"1\" /><path clip-path=\"url(#clip000)\" d=\"M142.587 58.7149 Q139.653 58.7149 138.168 61.6113 Q136.701 64.4889 136.701 70.2817 Q136.701 76.0557 138.168 78.9521 Q139.653 81.8297 142.587 81.8297 Q145.54 81.8297 147.007 78.9521 Q148.493 76.0557 148.493 70.2817 Q148.493 64.4889 147.007 61.6113 Q145.54 58.7149 142.587 58.7149 M142.587 55.7057 Q147.308 55.7057 149.791 59.4484 Q152.292 63.1724 152.292 70.2817 Q152.292 77.3722 149.791 81.115 Q147.308 84.8389 142.587 84.8389 Q137.867 84.8389 135.365 81.115 Q132.883 77.3722 132.883 70.2817 Q132.883 63.1724 135.365 59.4484 Q137.867 55.7057 142.587 55.7057 Z\" fill=\"#000000\" fill-rule=\"evenodd\" fill-opacity=\"1\" /><path clip-path=\"url(#clip000)\" d=\"M158.969 79.5163 L162.937 79.5163 L162.937 84.2935 L158.969 84.2935 L158.969 79.5163 Z\" fill=\"#000000\" fill-rule=\"evenodd\" fill-opacity=\"1\" /><path clip-path=\"url(#clip000)\" d=\"M179.338 58.7149 Q176.404 58.7149 174.918 61.6113 Q173.451 64.4889 173.451 70.2817 Q173.451 76.0557 174.918 78.9521 Q176.404 81.8297 179.338 81.8297 Q182.291 81.8297 183.758 78.9521 Q185.243 76.0557 185.243 70.2817 Q185.243 64.4889 183.758 61.6113 Q182.291 58.7149 179.338 58.7149 M179.338 55.7057 Q184.059 55.7057 186.541 59.4484 Q189.043 63.1724 189.043 70.2817 Q189.043 77.3722 186.541 81.115 Q184.059 84.8389 179.338 84.8389 Q174.617 84.8389 172.116 81.115 Q169.633 77.3722 169.633 70.2817 Q169.633 63.1724 172.116 59.4484 Q174.617 55.7057 179.338 55.7057 Z\" fill=\"#000000\" fill-rule=\"evenodd\" fill-opacity=\"1\" /><polyline clip-path=\"url(#clip002)\" style=\"stroke:#009af9; stroke-linecap:round; stroke-linejoin:round; stroke-width:4; stroke-opacity:1; fill:none\" points=\"\n",
       "  285.261,87.9763 318.716,87.9763 352.17,87.9763 385.625,87.9763 419.079,87.9763 452.534,87.9763 485.989,87.9763 519.443,87.9763 552.898,87.9763 586.352,87.9763 \n",
       "  619.807,87.9763 653.262,87.9763 686.716,87.9763 720.171,87.9763 753.625,87.9763 787.08,87.9763 820.535,87.9763 853.989,87.9763 887.444,87.9763 920.899,87.9763 \n",
       "  954.353,87.9763 987.808,87.9763 1021.26,87.9763 1054.72,87.9763 1088.17,87.9763 1121.63,87.9763 1155.08,87.9763 1188.54,87.9763 1221.99,87.9763 1255.44,87.9763 \n",
       "  1288.9,87.9763 1322.35,87.9763 1355.81,87.9763 1389.26,87.9763 1422.72,87.9763 1456.17,87.9763 1489.63,87.9763 1523.08,87.9763 1556.54,87.9763 1589.99,87.9763 \n",
       "  1623.45,87.9763 1656.9,87.9763 1690.35,87.9763 1723.81,87.9763 1757.26,87.9763 1790.72,87.9763 1824.17,87.9763 1857.63,87.9763 1891.08,87.9763 1924.54,87.9763 \n",
       "  1957.99,87.9763 1991.45,87.9763 2024.9,87.9763 \n",
       "  \"/>\n",
       "<polyline clip-path=\"url(#clip002)\" style=\"stroke:#009af9; stroke-linecap:round; stroke-linejoin:round; stroke-width:4; stroke-opacity:1; fill:none\" points=\"\n",
       "  2091.81,87.9763 2125.26,87.9763 2158.72,87.9763 2192.17,87.9763 2225.63,87.9763 2259.08,87.9763 2292.54,87.9763 \n",
       "  \"/>\n",
       "<polyline clip-path=\"url(#clip002)\" style=\"stroke:#e26f46; stroke-linecap:round; stroke-linejoin:round; stroke-width:4; stroke-opacity:1; fill:none\" points=\"\n",
       "  285.261,920.47 318.716,920.47 352.17,920.47 385.625,920.47 419.079,920.47 452.534,920.47 485.989,920.47 519.443,920.47 552.898,920.47 586.352,920.47 \n",
       "  619.807,920.47 653.262,920.47 686.716,920.47 720.171,920.47 753.625,920.47 787.08,920.47 820.535,920.47 853.989,920.47 887.444,920.47 920.899,920.47 \n",
       "  954.353,920.47 987.808,920.47 1021.26,920.47 1054.72,920.47 1088.17,920.47 1121.63,920.47 1155.08,920.47 1188.54,920.47 1221.99,920.47 1255.44,920.47 \n",
       "  1288.9,920.47 1322.35,920.47 1355.81,920.471 1389.26,920.47 1422.72,920.472 1456.17,920.467 1489.63,920.476 1523.08,920.459 1556.54,920.494 1589.99,920.424 \n",
       "  1623.45,920.563 1656.9,920.285 1690.35,920.84 1723.81,919.731 1757.26,921.952 1790.72,917.516 1824.17,926.414 1857.63,908.722 1891.08,944.529 1924.54,874.531 \n",
       "  1957.99,1021.66 1991.45,751.379 2024.9,1445.72 2058.36,920.47 2091.81,920.47 2125.26,920.47 2158.72,920.47 2192.17,920.47 2225.63,920.47 2259.08,920.47 \n",
       "  2292.54,920.47 \n",
       "  \"/>\n",
       "<path clip-path=\"url(#clip000)\" d=\"\n",
       "M295.966 1438.47 L531.909 1438.47 L531.909 1282.95 L295.966 1282.95  Z\n",
       "  \" fill=\"#ffffff\" fill-rule=\"evenodd\" fill-opacity=\"1\"/>\n",
       "<polyline clip-path=\"url(#clip000)\" style=\"stroke:#000000; stroke-linecap:round; stroke-linejoin:round; stroke-width:4; stroke-opacity:1; fill:none\" points=\"\n",
       "  295.966,1438.47 531.909,1438.47 531.909,1282.95 295.966,1282.95 295.966,1438.47 \n",
       "  \"/>\n",
       "<polyline clip-path=\"url(#clip000)\" style=\"stroke:#009af9; stroke-linecap:round; stroke-linejoin:round; stroke-width:4; stroke-opacity:1; fill:none\" points=\"\n",
       "  319.608,1334.79 461.455,1334.79 \n",
       "  \"/>\n",
       "<path clip-path=\"url(#clip000)\" d=\"M501.601 1316.06 L501.601 1319.6 L497.527 1319.6 Q495.235 1319.6 494.333 1320.52 Q493.453 1321.45 493.453 1323.86 L493.453 1326.15 L500.467 1326.15 L500.467 1329.46 L493.453 1329.46 L493.453 1352.07 L489.171 1352.07 L489.171 1329.46 L485.096 1329.46 L485.096 1326.15 L489.171 1326.15 L489.171 1324.34 Q489.171 1320.01 491.184 1318.05 Q493.198 1316.06 497.573 1316.06 L501.601 1316.06 Z\" fill=\"#000000\" fill-rule=\"evenodd\" fill-opacity=\"1\" /><polyline clip-path=\"url(#clip000)\" style=\"stroke:#e26f46; stroke-linecap:round; stroke-linejoin:round; stroke-width:4; stroke-opacity:1; fill:none\" points=\"\n",
       "  319.608,1386.63 461.455,1386.63 \n",
       "  \"/>\n",
       "<path clip-path=\"url(#clip000)\" d=\"M504.008 1390.65 Q504.008 1386.02 502.087 1383.47 Q500.189 1380.93 496.74 1380.93 Q493.314 1380.93 491.393 1383.47 Q489.495 1386.02 489.495 1390.65 Q489.495 1395.26 491.393 1397.8 Q493.314 1400.35 496.74 1400.35 Q500.189 1400.35 502.087 1397.8 Q504.008 1395.26 504.008 1390.65 M508.268 1400.7 Q508.268 1407.32 505.328 1410.53 Q502.388 1413.78 496.323 1413.78 Q494.078 1413.78 492.087 1413.43 Q490.096 1413.1 488.221 1412.41 L488.221 1408.27 Q490.096 1409.28 491.925 1409.77 Q493.754 1410.26 495.652 1410.26 Q499.842 1410.26 501.925 1408.06 Q504.008 1405.88 504.008 1401.46 L504.008 1399.35 Q502.689 1401.65 500.629 1402.78 Q498.569 1403.91 495.698 1403.91 Q490.93 1403.91 488.013 1400.28 Q485.096 1396.65 485.096 1390.65 Q485.096 1384.63 488.013 1381 Q490.93 1377.36 495.698 1377.36 Q498.569 1377.36 500.629 1378.5 Q502.689 1379.63 504.008 1381.92 L504.008 1377.99 L508.268 1377.99 L508.268 1400.7 Z\" fill=\"#000000\" fill-rule=\"evenodd\" fill-opacity=\"1\" /></svg>\n"
      ]
     },
     "execution_count": 30,
     "metadata": {},
     "output_type": "execute_result"
    }
   ],
   "source": [
    "using Plots, Test\n",
    "# helper function to avoid trying to take logs of 0 in plots\n",
    "# use in plots below\n",
    "# Here COND ? EXPR1 : EXPR2\n",
    "# is another way to write\n",
    "# if COND\n",
    "#     EXPR1\n",
    "# else\n",
    "#     EXPR2\n",
    "# end\n",
    "nanabs = x -> iszero(x) ? NaN : abs(x)\n",
    "\n",
    "f = x -> 1 + x + x^2\n",
    "f′ = x -> 1 + 2x\n",
    "g = x -> 1 + x/3 + x^2\n",
    "g′ = x -> 1/3 + 2*x\n",
    "\n",
    "h1 = 2.0 .^ (0:-1:-60)\n",
    "h2 = 10.0 .^ (0:-1:-16)\n",
    "\n",
    "# want to produce a vector with the central difference of each \n",
    "# element of the vector\n",
    "\n",
    "x = 0.0\n",
    "central_f_h1 = ((f.(x .+ h1) .- f.(x .- h1))./h1) .- f′(x)\n",
    "central_g_h1 = ((g.(x .+ h1) .- g.(x .- h1))./h1) .- g′(x)\n",
    "print(central_g_h1)\n",
    "\n",
    "plot(nanabs.(central_f_h1), yaxis=:log10, label=\"f\")\n",
    "plot!(nanabs.(central_g_h1), yaxis=:log10, label=\"g\")\n",
    "\n",
    "#central_f_h2 = (f.(x .+ h2) .- f.(x .- h2))./h2\n",
    "#central_g_h2 = (g.(x .+ h2) .- g.(x .- h2))./h2"
   ]
  },
  {
   "cell_type": "markdown",
   "metadata": {},
   "source": [
    "--------"
   ]
  },
  {
   "cell_type": "markdown",
   "metadata": {},
   "source": [
    "**Problem 1** Implement central differences\n",
    "for $f(x) = 1 + x + x^2$ and $g(x) = 1 + x/3 + x^2$, approximating the derivative at $x = 0$.\n",
    "Plot the absolute errors for `h = 2.0 .^ (0:-1:-60)` and `h = 10.0 .^ (0:-1:-16)`.\n",
    "\n",
    "Hint: the easiest way to do this is the copy the code from lectures/notes for forward differences,\n",
    "and replace the line `f.(h) .- f(0) ./ h` with the equivalent for central differences.\n",
    "Note that `f.(h)` is broadcast notation so creates a vector containing `[f(h[1]),…,f(h[end])]`.\n",
    "Thus that expression creates a vector containing `[(f(h[1])-f(0))/h[1], …, (f(h[end])-f(0))/h[end]]`."
   ]
  },
  {
   "cell_type": "markdown",
   "metadata": {},
   "source": [
    "-----\n",
    "**Problem 2** Use forward differences, central differences, and second-order divided differences to approximate to 5-digits the first and second\n",
    "derivatives to the following functions\n",
    "at the point $x = 0.1$:\n",
    "$$\n",
    "\\exp(\\exp x \\cos x + \\sin x), ∏_{k=1}^{1000} \\left({x \\over k}-1\\right), \\hbox{ and } f^{\\rm s}_{1000}(x)\n",
    "$$\n",
    "where $f^{\\rm s}_n(x)$ corresponds to $n$-terms of the following continued fraction:\n",
    "$$\n",
    "1 + {x-1 \\over 2 + {x-1 \\over 2 + {x-1 \\over 2 + ⋱}}},\n",
    "$$\n",
    "e.g.:\n",
    "$$f^{\\rm s}_1(x) = 1 + {x-1 \\over 2}$$\n",
    "$$f^{\\rm s}_2(x) = 1 + {x-1 \\over 2 + {x -1 \\over 2}}$$\n",
    "$$f^{\\rm s}_3(x) = 1 + {x-1 \\over 2 + {x -1 \\over 2 + {x-1 \\over 2}}}$$"
   ]
  },
  {
   "cell_type": "markdown",
   "metadata": {},
   "source": [
    "----"
   ]
  },
  {
   "cell_type": "markdown",
   "metadata": {},
   "source": [
    "We now extend our implementation of `Dual` which we began in lectures/notes as follows:"
   ]
  },
  {
   "cell_type": "code",
   "execution_count": 2,
   "metadata": {},
   "outputs": [
    {
     "data": {
      "text/plain": [
       "exp (generic function with 16 methods)"
      ]
     },
     "execution_count": 2,
     "metadata": {},
     "output_type": "execute_result"
    }
   ],
   "source": [
    "# Dual(a,b) represents a + b*ϵ\n",
    "struct Dual{T}\n",
    "    a::T\n",
    "    b::T\n",
    "end\n",
    "\n",
    "# Dual(a) represents a + 0*ϵ\n",
    "Dual(a::Real) = Dual(a, zero(a)) # for real numbers we use a + 0ϵ\n",
    "\n",
    "# Allow for a + b*ϵ syntax\n",
    "const ϵ = Dual(0, 1)\n",
    "\n",
    "# import the functions which we wish to overload\n",
    "import Base: +, *, -, /, ^, zero, exp, cos, sin, one\n",
    "\n",
    "# support polynomials like 1 + x, x - 1, 2x or x*2 by reducing to Dual\n",
    "+(x::Real, y::Dual) = Dual(x) + y\n",
    "+(x::Dual, y::Real) = x + Dual(y)\n",
    "-(x::Real, y::Dual) = Dual(x) - y\n",
    "-(x::Dual, y::Real) = x - Dual(y)\n",
    "*(x::Real, y::Dual) = Dual(x) * y\n",
    "*(x::Dual, y::Real) = x * Dual(y)\n",
    "\n",
    "# support x/2 (but not yet division of duals)\n",
    "/(x::Dual, k::Real) = Dual(x.a/k, x.b/k)\n",
    "\n",
    "# a simple recursive function to support x^2, x^3, etc.\n",
    "function ^(x::Dual, k::Integer)\n",
    "    if k < 0\n",
    "        error(\"Not implemented\")\n",
    "    elseif k == 1\n",
    "        x\n",
    "    else\n",
    "        x^(k-1) * x\n",
    "    end\n",
    "end\n",
    "\n",
    "# support identity of type Dual\n",
    "one(x::Dual) = Dual(one(eltype(x.a)))\n",
    "\n",
    "# Algebraic operations for duals\n",
    "-(x::Dual) = Dual(-x.a, -x.b)\n",
    "+(x::Dual, y::Dual) = Dual(x.a + y.a, x.b + y.b)\n",
    "-(x::Dual, y::Dual) = Dual(x.a - y.a, x.b - y.b)\n",
    "*(x::Dual, y::Dual) = Dual(x.a*y.a, x.a*y.b + x.b*y.a)\n",
    "\n",
    "exp(x::Dual) = Dual(exp(x.a), exp(x.a) * x.b)"
   ]
  },
  {
   "cell_type": "markdown",
   "metadata": {},
   "source": [
    "**Problem 3.1** Add support for `cos`, `sin`, and `/` to the type `Dual`"
   ]
  },
  {
   "cell_type": "code",
   "execution_count": 3,
   "metadata": {},
   "outputs": [
    {
     "data": {
      "text/plain": [
       "\u001b[33m\u001b[1mTest Broken\u001b[22m\u001b[39m\n",
       "  Expression: (cos(sin(x + ϵ) / (x + ϵ))).b ≈ -((cos(x) / x - sin(x) / x ^ 2) * sin(sin(x) / x))"
      ]
     },
     "execution_count": 3,
     "metadata": {},
     "output_type": "execute_result"
    }
   ],
   "source": [
    "# by replacing the `# TODO`s in the below code.\n",
    "\n",
    "function cos(x::Dual)\n",
    "    # TODO: implement cos for Duals\n",
    "\n",
    "end\n",
    "\n",
    "function sin(x::Dual)\n",
    "    # TODO: implement sin for Duals\n",
    "\n",
    "end\n",
    "\n",
    "function /(x::Dual, y::Dual)\n",
    "    # TODO: implement division for Duals\n",
    "\n",
    "end\n",
    "\n",
    "x = 0.1\n",
    "@test_broken cos(sin(x+ϵ)/(x+ϵ)).b ≈ -((cos(x)/x - sin(x)/x^2)sin(sin(x)/x))"
   ]
  },
  {
   "cell_type": "markdown",
   "metadata": {},
   "source": [
    "**Problem 3.2** Use dual numbers to compute the derivatives to\n",
    "$$\n",
    "\\exp(\\exp x \\cos x + \\sin x), ∏_{k=1}^{1000} \\left({x \\over k}-1\\right), \\hbox{ and } f^{\\rm s}_{1000}(x).\n",
    "$$\n",
    "Does your answer match (to 5 digits) Problem 2?"
   ]
  },
  {
   "cell_type": "markdown",
   "metadata": {},
   "source": [
    "---\n",
    "\n",
    "*This notebook was generated using [Literate.jl](https://github.com/fredrikekre/Literate.jl).*"
   ]
  }
 ],
 "metadata": {
  "kernelspec": {
   "display_name": "Julia 1.8.5",
   "language": "julia",
   "name": "julia-1.8"
  },
  "language_info": {
   "file_extension": ".jl",
   "mimetype": "application/julia",
   "name": "julia",
   "version": "1.8.5"
  }
 },
 "nbformat": 4,
 "nbformat_minor": 3
}
