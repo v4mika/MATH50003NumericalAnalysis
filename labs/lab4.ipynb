{
 "cells": [
  {
   "cell_type": "markdown",
   "metadata": {},
   "source": [
    "# MATH50003 Numerical Analysis (2022–23)\n",
    "# Lab 4: Structured Matrices"
   ]
  },
  {
   "cell_type": "markdown",
   "metadata": {},
   "source": [
    "This lab explores the basics of arrays (matrices and vectors)\n",
    "in Julia. We also investigate implementation of triangular solves,\n",
    "supporting a matrix with two super-diagonals."
   ]
  },
  {
   "cell_type": "markdown",
   "metadata": {},
   "source": [
    "Note in programming there are often different ways to do the same thing.\n",
    "so some of the hints suggest multiple ways to solve the same problem.\n",
    "Remember you can use `?` to discover the functions mentioned in the hints."
   ]
  },
  {
   "cell_type": "code",
   "execution_count": 1,
   "metadata": {},
   "outputs": [],
   "source": [
    "using LinearAlgebra, Test\n",
    "\n",
    "# We will override these functions below\n",
    "import Base: getindex, setindex!, size, *, \\"
   ]
  },
  {
   "cell_type": "markdown",
   "metadata": {},
   "source": [
    "## 1. Array creation"
   ]
  },
  {
   "cell_type": "markdown",
   "metadata": {},
   "source": [
    "One can create arrays in multiple ways. For example, the function `zeros(Int, 10)` creates\n",
    "a 10-element `Vector` whose entries are all `zero(Int) == 0`. Or `fill(x, 10)` creates a\n",
    "10-element `Vector` whose entries are all equal to `x`. Or you can use a comprehension:\n",
    "for example `[k^2 for k = 1:10]` creates a vector whose entries are `[1^2, 2^2, …, 10^2]`.\n",
    "This also works for matrices: `zeros(Int, 10, 5)` creates a 10 × 5 matrix of all zeros,\n",
    "and `[k^2 + j for k=1:3, j=1:4]` creates the following:"
   ]
  },
  {
   "cell_type": "code",
   "execution_count": 2,
   "metadata": {},
   "outputs": [
    {
     "data": {
      "text/plain": [
       "3×4 Matrix{Int64}:\n",
       "  2   3   4   5\n",
       "  5   6   7   8\n",
       " 10  11  12  13"
      ]
     },
     "execution_count": 2,
     "metadata": {},
     "output_type": "execute_result"
    }
   ],
   "source": [
    "[k^2 + j for k=1:3, j=1:4]"
   ]
  },
  {
   "cell_type": "markdown",
   "metadata": {},
   "source": [
    "Note sometimes it is best to create a vector/matrix and populate it. For example, the\n",
    "previous matrix could also been constructed as follows:"
   ]
  },
  {
   "cell_type": "code",
   "execution_count": 3,
   "metadata": {},
   "outputs": [
    {
     "data": {
      "text/plain": [
       "3×4 Matrix{Int64}:\n",
       "  2   3   4   5\n",
       "  5   6   7   8\n",
       " 10  11  12  13"
      ]
     },
     "execution_count": 3,
     "metadata": {},
     "output_type": "execute_result"
    }
   ],
   "source": [
    "A = zeros(Int, 3, 4)\n",
    "for k = 1:3, j = 1:4\n",
    "    A[k,j] = k^2 + j\n",
    "end\n",
    "A"
   ]
  },
  {
   "cell_type": "markdown",
   "metadata": {},
   "source": [
    "**Problem 1.1** Create a vector of length 5 whose entries are `Int` which is\n",
    "zero in all entries. Hint: use `zeros`, `fill`, or a comprehension."
   ]
  },
  {
   "cell_type": "code",
   "execution_count": 4,
   "metadata": {},
   "outputs": [
    {
     "data": {
      "text/plain": [
       "5-element Vector{Int64}:\n",
       " 0\n",
       " 0\n",
       " 0\n",
       " 0\n",
       " 0"
      ]
     },
     "execution_count": 4,
     "metadata": {},
     "output_type": "execute_result"
    }
   ],
   "source": [
    "zeros(Int, 5)"
   ]
  },
  {
   "cell_type": "markdown",
   "metadata": {},
   "source": [
    "**Problem 1.2** Create a 5×6 matrix whose entries are `Int` which is\n",
    "one in all entries. Hint: use a for-loop, `ones`, `fill`, or a comprehension."
   ]
  },
  {
   "cell_type": "code",
   "execution_count": 5,
   "metadata": {},
   "outputs": [
    {
     "data": {
      "text/plain": [
       "5×6 Matrix{Int64}:\n",
       " 1  1  1  1  1  1\n",
       " 1  1  1  1  1  1\n",
       " 1  1  1  1  1  1\n",
       " 1  1  1  1  1  1\n",
       " 1  1  1  1  1  1"
      ]
     },
     "execution_count": 5,
     "metadata": {},
     "output_type": "execute_result"
    }
   ],
   "source": [
    "[1 for j=1:5, k=1:6]"
   ]
  },
  {
   "cell_type": "markdown",
   "metadata": {},
   "source": [
    "**Problem 1.3** Create a 1 × 5 `Matrix{Int}` with entries `A[k,j] = j`. Hint: use a for-loop or a comprehension."
   ]
  },
  {
   "cell_type": "code",
   "execution_count": 6,
   "metadata": {},
   "outputs": [
    {
     "name": "stdout",
     "output_type": "stream",
     "text": [
      "[1 2 3 4 5]"
     ]
    },
    {
     "data": {
      "text/plain": [
       "1×5 Matrix{Int64}:\n",
       " 1  2  3  4  5"
      ]
     },
     "execution_count": 6,
     "metadata": {},
     "output_type": "execute_result"
    }
   ],
   "source": [
    "[j for k=1:1, j=1:5]\n",
    "\n",
    "print((1:5)')\n",
    "\n",
    "Matrix((1:5)')"
   ]
  },
  {
   "cell_type": "markdown",
   "metadata": {},
   "source": [
    "**Problem 1.4** Create a vector of length 5 whose entries are `Float64`\n",
    "approximations of `exp(-k)`. Hint: one use a for-loop or broadcasting `f.(x)` notation."
   ]
  },
  {
   "cell_type": "code",
   "execution_count": 7,
   "metadata": {},
   "outputs": [
    {
     "name": "stdout",
     "output_type": "stream",
     "text": [
      "[0.36787944117144233, 0.1353352832366127, 0.049787068367863944, 0.01831563888873418, 0.006737946999085467]"
     ]
    },
    {
     "data": {
      "text/plain": [
       "5-element Vector{Float64}:\n",
       " 0.36787944117144233\n",
       " 0.1353352832366127\n",
       " 0.049787068367863944\n",
       " 0.01831563888873418\n",
       " 0.006737946999085467"
      ]
     },
     "execution_count": 7,
     "metadata": {},
     "output_type": "execute_result"
    }
   ],
   "source": [
    "A = zeros(5)\n",
    "f = x -> exp(-x)\n",
    "\n",
    "for k=1:5\n",
    "    A[k] = f(k)\n",
    "end\n",
    "\n",
    "print(A)\n",
    "\n",
    "[f(k) for k=1:5]\n",
    "\n",
    "exp.(-(1:5))\n",
    "\n",
    "broadcast(k -> exp(-k), (1:5))\n",
    "    "
   ]
  },
  {
   "cell_type": "markdown",
   "metadata": {},
   "source": [
    "**Problem 1.5** Create a 5 × 6 matrix `A` whose entries `A[k,j] == cos(k+j)`."
   ]
  },
  {
   "cell_type": "code",
   "execution_count": 8,
   "metadata": {},
   "outputs": [
    {
     "data": {
      "text/plain": [
       "5×6 Matrix{Float64}:\n",
       " -0.416147  -0.989992  -0.653644   0.283662   0.96017    0.753902\n",
       " -0.989992  -0.653644   0.283662   0.96017    0.753902  -0.1455\n",
       " -0.653644   0.283662   0.96017    0.753902  -0.1455    -0.91113\n",
       "  0.283662   0.96017    0.753902  -0.1455    -0.91113   -0.839072\n",
       "  0.96017    0.753902  -0.1455    -0.91113   -0.839072   0.0044257"
      ]
     },
     "execution_count": 8,
     "metadata": {},
     "output_type": "execute_result"
    }
   ],
   "source": [
    "[cos(k + j) for k=1:5, j=1:6]"
   ]
  },
  {
   "cell_type": "markdown",
   "metadata": {},
   "source": [
    "## 2. Dense Matrices"
   ]
  },
  {
   "cell_type": "markdown",
   "metadata": {},
   "source": [
    "The following problem compares the behaviour of `mul_cols` defined in lectures"
   ]
  },
  {
   "cell_type": "code",
   "execution_count": 9,
   "metadata": {},
   "outputs": [
    {
     "data": {
      "text/plain": [
       "mul_cols (generic function with 1 method)"
      ]
     },
     "execution_count": 9,
     "metadata": {},
     "output_type": "execute_result"
    }
   ],
   "source": [
    "function mul_cols(A, x)\n",
    "    m,n = size(A)\n",
    "    c = zeros(eltype(x), m) # eltype is the type of the elements of a vector/matrix\n",
    "    for j = 1:n, k = 1:m\n",
    "        c[k] += A[k, j] * x[j]\n",
    "    end\n",
    "    c\n",
    "end"
   ]
  },
  {
   "cell_type": "markdown",
   "metadata": {},
   "source": [
    "to the inbuilt matrix-vector multiplication operation `A*x`. The point is that\n",
    "sometimes the choice of algorithm, despite being mathematically equivalent, can change the exact results\n",
    "when using floating point."
   ]
  },
  {
   "cell_type": "markdown",
   "metadata": {},
   "source": [
    "**Problem 2** Show that `A*x` is not\n",
    "implemented as `mul_cols(A, x)` from the lecture notes\n",
    "by finding a `Float64` example  where the bits do not match.\n",
    "Hint: either guess-and-check, perhaps using `randn(n,n)` to make a random `n × n` matrix."
   ]
  },
  {
   "cell_type": "code",
   "execution_count": 24,
   "metadata": {},
   "outputs": [
    {
     "name": "stdout",
     "output_type": "stream",
     "text": [
      "[-1.3859762982324764 -0.6785615384163253 1.7380213168178757 0.21447644912513414 1.3257093825928807; -0.6028729147842689 -0.5694176223993844 -0.13822369965083647 -1.1088331842541457 0.27845917040301665; -0.2411488762383605 -0.6299666532195555 -1.324399540497442 0.22888098236258525 1.1946505148039956; 1.1126429886259754 0.6427201022563903 0.1942967848217922 -0.3780504422192624 -0.4189476395724376; -0.48033864816405003 -0.03238133062555717 -0.582605644376936 0.18575233043758826 -2.161729548332629]\n",
      "1.7380213168178757\n",
      "[1.3172982853076294, -1.381653492827744, -0.4154311595050972, -0.28958305025537107, -0.4251575723519242]\n",
      "[1.3172982853076296; -1.3816534928277442; -0.4154311595050972; -0.28958305025537107; -0.4251575723519242;;]\n",
      "false\n"
     ]
    }
   ],
   "source": [
    "A = randn(5, 5)\n",
    "x = randn(5, 1)\n",
    "\n",
    "mul1 = mul_cols(A, x)\n",
    "mul2 = A*x\n",
    "\n",
    "println(mul1)\n",
    "println(mul2)\n",
    "println(mul1 == mul2)"
   ]
  },
  {
   "cell_type": "markdown",
   "metadata": {},
   "source": [
    "## 3. Triangular Matrices"
   ]
  },
  {
   "cell_type": "markdown",
   "metadata": {},
   "source": [
    "In lectures we covered algorithms involving upper-triangular matrices. Here we want to implement\n",
    "the lower-triangular analogues."
   ]
  },
  {
   "cell_type": "markdown",
   "metadata": {},
   "source": [
    "**Problem 3.1** Complete the following function for lower triangular matrix-vector\n",
    "multiplication without ever accessing the zero entries of `L` above the diagonal.\n",
    "Hint: just copy code for `mul_cols` and modify the for-loop ranges a la the `UpperTriangular`\n",
    "case."
   ]
  },
  {
   "cell_type": "code",
   "execution_count": 11,
   "metadata": {},
   "outputs": [
    {
     "data": {
      "text/plain": [
       "\u001b[32m\u001b[1mTest Passed\u001b[22m\u001b[39m"
      ]
     },
     "execution_count": 11,
     "metadata": {},
     "output_type": "execute_result"
    }
   ],
   "source": [
    "function mul_cols(L::LowerTriangular, x)\n",
    "    n = size(L,1)\n",
    "\n",
    "    # promote_type type finds a type that is compatible with both types, eltype gives the type of the elements of a vector / matrix\n",
    "    T = promote_type(eltype(x),eltype(L))\n",
    "    b = zeros(T,n) # the returned vector, begins of all zeros\n",
    "    for j = 1:n, k = j:n\n",
    "        b[k] += L[k, j] * x[j]\n",
    "    end\n",
    "    b\n",
    "end\n",
    "\n",
    "L = LowerTriangular(randn(5,5))\n",
    "x = randn(5)\n",
    "@test L*x ≈ mul_cols(L, x)"
   ]
  },
  {
   "cell_type": "markdown",
   "metadata": {},
   "source": [
    "**Problem 3.2** Complete the following function for solving linear systems with\n",
    "lower triangular systems by implementing forward-substitution."
   ]
  },
  {
   "cell_type": "code",
   "execution_count": 17,
   "metadata": {},
   "outputs": [
    {
     "data": {
      "text/plain": [
       "\u001b[32m\u001b[1mTest Passed\u001b[22m\u001b[39m"
      ]
     },
     "execution_count": 17,
     "metadata": {},
     "output_type": "execute_result"
    }
   ],
   "source": [
    "function ldiv(L::LowerTriangular, b)\n",
    "    n = size(L,1)\n",
    "\n",
    "    if length(b) != n\n",
    "        error(\"The system is not compatible\")\n",
    "    end\n",
    "\n",
    "    x = zeros(n)  # the solution vector\n",
    "    \n",
    "    for k = 1:n\n",
    "        r = b[k] \n",
    "        for j = 1:k\n",
    "            r -= L[k,j]*x[j]\n",
    "        end\n",
    "        x[k] = r/L[k,k]\n",
    "    end\n",
    "    x\n",
    "    \n",
    "end\n",
    "\n",
    "\n",
    "L = LowerTriangular(randn(5,5))\n",
    "b = randn(5)\n",
    "@test L\\b ≈ ldiv(L, b)"
   ]
  },
  {
   "cell_type": "markdown",
   "metadata": {},
   "source": [
    "## 4. Banded matrices"
   ]
  },
  {
   "cell_type": "markdown",
   "metadata": {},
   "source": [
    "Banded matrices are very important in differential equations and enable much faster algorithms.\n",
    "Here we look at banded upper triangular matrices by implementing a type that encodes this\n",
    "property:"
   ]
  },
  {
   "cell_type": "code",
   "execution_count": 13,
   "metadata": {},
   "outputs": [],
   "source": [
    "struct UpperTridiagonal{T} <: AbstractMatrix{T}\n",
    "    d::Vector{T}   # diagonal entries: d[k] == U[k,k]\n",
    "    du::Vector{T}  # super-diagonal enries: du[k] == U[k,k+1]\n",
    "    du2::Vector{T} # second-super-diagonal entries: du2[k] == U[k,k+2]\n",
    "end"
   ]
  },
  {
   "cell_type": "markdown",
   "metadata": {},
   "source": [
    "This uses the notation `<: AbstractMatrix{T}`: this tells Julia that our type is in fact a matrix.\n",
    "In order for it to behave a matrix we have to overload the function `size` for our type to return\n",
    "the dimensions (in this case we just use the length of the diagonal):"
   ]
  },
  {
   "cell_type": "code",
   "execution_count": 14,
   "metadata": {},
   "outputs": [
    {
     "data": {
      "text/plain": [
       "size (generic function with 102 methods)"
      ]
     },
     "execution_count": 14,
     "metadata": {},
     "output_type": "execute_result"
    }
   ],
   "source": [
    "size(U::UpperTridiagonal) = (length(U.d),length(U.d))"
   ]
  },
  {
   "cell_type": "markdown",
   "metadata": {},
   "source": [
    "Julia still doesn't know what the entries of the matrix are. To do this we need to overload `getindex`.\n",
    "We also overload `setindex!` to allow changing the non-zero entries."
   ]
  },
  {
   "cell_type": "markdown",
   "metadata": {},
   "source": [
    "**Problem 4.1** Complete the implementation of `UpperTridiagonal` which represents a banded matrix with\n",
    "bandwidths $(l,u) = (0,2)$ by overloading `getindex` and `setindex!`. Return zero (of the same type as the other entries)\n",
    "if we are off the bands."
   ]
  },
  {
   "cell_type": "code",
   "execution_count": 27,
   "metadata": {},
   "outputs": [
    {
     "data": {
      "text/plain": [
       "\u001b[32m\u001b[1mTest Passed\u001b[22m\u001b[39m"
      ]
     },
     "execution_count": 27,
     "metadata": {},
     "output_type": "execute_result"
    }
   ],
   "source": [
    "# getindex(U, k, j) is another way to write U[k,j].\n",
    "# This function will therefore be called when we call U[k,j]\n",
    "function getindex(U::UpperTridiagonal, k::Int, j::Int)\n",
    "    d,du,du2 = U.d,U.du,U.du2\n",
    "    if j > k+2 || j < k\n",
    "        return zero(eltype(U))\n",
    "    elseif j == k \n",
    "        return d[k]\n",
    "    elseif j == k + 1\n",
    "        return du[k]\n",
    "    elseif j == k + 2\n",
    "        return du2[k]  \n",
    "    end\n",
    "end\n",
    "\n",
    "# setindex!(U, v, k, j) gets called when we write (U[k,j] = v).\n",
    "function setindex!(U::UpperTridiagonal, v, k::Int, j::Int)\n",
    "    d,du,du2 = U.d,U.du,U.du2\n",
    "    if j > k+2 || j < k\n",
    "        error(\"Cannot modify off-band\")\n",
    "    elseif j == k\n",
    "        d[k] = v\n",
    "    elseif j == k + 1 \n",
    "        du[k] = v \n",
    "    elseif j == k + 2\n",
    "        du2[k] = v\n",
    "    end\n",
    "    U \n",
    "end\n",
    "\n",
    "U = UpperTridiagonal([1,2,3,4,5], [1,2,3,4], [1,2,3])\n",
    "@test U == [1 1 1 0 0;\n",
    "            0 2 2 2 0;\n",
    "            0 0 3 3 3;\n",
    "            0 0 0 4 4;\n",
    "            0 0 0 0 5]\n",
    "\n",
    "U[3,4] = 2\n",
    "@test U == [1 1 1 0 0;\n",
    "            0 2 2 2 0;\n",
    "            0 0 3 2 3;\n",
    "            0 0 0 4 4;\n",
    "            0 0 0 0 5]"
   ]
  },
  {
   "cell_type": "markdown",
   "metadata": {},
   "source": [
    "**Problem 4.2** Complete the following implementations of `*` and `\\` for `UpperTridiagonal` so that\n",
    "they take only $O(n)$ operations. Hint: the function `max(a,b)` returns the larger of `a` or `b`\n",
    "and `min(a,b)` returns the smaller. They may help to avoid accessing zeros."
   ]
  },
  {
   "cell_type": "code",
   "execution_count": 41,
   "metadata": {},
   "outputs": [
    {
     "data": {
      "text/plain": [
       "\u001b[32m\u001b[1mTest Passed\u001b[22m\u001b[39m"
      ]
     },
     "execution_count": 41,
     "metadata": {},
     "output_type": "execute_result"
    }
   ],
   "source": [
    "function *(U::UpperTridiagonal, x::AbstractVector)\n",
    "    n = size(U,1)\n",
    "    # promote_type type finds a type that is compatible with both types, eltype gives the type of the elements of a vector / matrix\n",
    "    T = promote_type(eltype(x),eltype(U))\n",
    "    b = zeros(T, n) # the returned vector, begins of all zeros\n",
    "    \n",
    "    for j = 1:n, k = j:min(j+2, n)\n",
    "        b[j] += getindex(U, j, k) * x[k]  \n",
    "    end\n",
    "    b\n",
    "end\n",
    "\n",
    "# need to implement BACK SUBSTITUTION \n",
    "function \\(U::UpperTridiagonal, b::AbstractVector)\n",
    "    n = size(U,1)\n",
    "    T = promote_type(eltype(b),eltype(U))\n",
    "\n",
    "    if length(b) != n\n",
    "        error(\"The system is not compatible\")\n",
    "    end\n",
    "\n",
    "    x = zeros(T, n)  # the solution vector\n",
    "    ## TODO: populate x so that U*x ≈ b\n",
    "\n",
    "    for j = n:-1:1\n",
    "        r = b[j]\n",
    "        for k = j:min(j+2, n)\n",
    "            r -= U[j, k] * x[k]\n",
    "        end\n",
    "        x[j] = r/U[j, j]\n",
    "    end\n",
    "    x\n",
    "end\n",
    "\n",
    "n = 1_000_000 # under-scores are like commas: so this is a million: 1,000,000\n",
    "U = UpperTridiagonal(ones(n), fill(0.5,n-1), fill(0.1,n-2))\n",
    "x = ones(n)\n",
    "b = [fill(1.6,n-2); 1.5; 1] # exact result\n",
    "# note following should take much less than a second\n",
    "@test U*x ≈ b\n",
    "@test U\\b ≈ x"
   ]
  },
  {
   "cell_type": "markdown",
   "metadata": {},
   "source": [
    "---\n",
    "\n",
    "*This notebook was generated using [Literate.jl](https://github.com/fredrikekre/Literate.jl).*"
   ]
  }
 ],
 "metadata": {
  "kernelspec": {
   "display_name": "Julia 1.8.5",
   "language": "julia",
   "name": "julia-1.8"
  },
  "language_info": {
   "file_extension": ".jl",
   "mimetype": "application/julia",
   "name": "julia",
   "version": "1.8.5"
  }
 },
 "nbformat": 4,
 "nbformat_minor": 3
}
