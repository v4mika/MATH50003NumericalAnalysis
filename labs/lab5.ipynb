{
 "cells": [
  {
   "cell_type": "markdown",
   "metadata": {},
   "source": [
    "# MATH50003 Numerical Analysis (2022–23)\n",
    "# Lab 5: Orthogonal Matrices"
   ]
  },
  {
   "cell_type": "markdown",
   "metadata": {},
   "source": [
    "This lab explores orthogonal matrices, including permutations and reflections.\n",
    "We will construct special types to capture the structure of these orthogonal operations,\n",
    "With the goal of implementing fast matrix*vector and matrix\\vector operations."
   ]
  },
  {
   "cell_type": "code",
   "execution_count": 1,
   "metadata": {},
   "outputs": [],
   "source": [
    "using LinearAlgebra, Test\n",
    "import Base: getindex, *, size, \\"
   ]
  },
  {
   "cell_type": "markdown",
   "metadata": {},
   "source": [
    "------"
   ]
  },
  {
   "cell_type": "markdown",
   "metadata": {},
   "source": [
    "**Problem 1** Complete the implementation of a type representing\n",
    "permutation matrices that supports `P[k,j]` in $O(1)$ operations and `*` in $O(n)$ operations,\n",
    "where $n$ is the length of the permutation."
   ]
  },
  {
   "cell_type": "code",
   "execution_count": 2,
   "metadata": {},
   "outputs": [
    {
     "data": {
      "text/plain": [
       "\u001b[32m\u001b[1mTest Passed\u001b[22m\u001b[39m"
      ]
     },
     "execution_count": 2,
     "metadata": {},
     "output_type": "execute_result"
    }
   ],
   "source": [
    "struct PermutationMatrix <: AbstractMatrix{Int}\n",
    "    p::Vector{Int} # represents the permutation whose action is v[p]\n",
    "    # This is an internal constructor: allows us to check validity of the input.\n",
    "    function PermutationMatrix(p::Vector)\n",
    "        sort(p) == 1:length(p) || error(\"input is not a valid permutation\")\n",
    "        new(p)\n",
    "    end\n",
    "end\n",
    "\n",
    "function size(P::PermutationMatrix)\n",
    "    (length(P.p),length(P.p))\n",
    "end\n",
    "\n",
    "# getindex(P, k, j) is a synonym for P[k,j]\n",
    "function getindex(P::PermutationMatrix, k::Int, j::Int)\n",
    "    if P.p[k] == j\n",
    "        return 1\n",
    "    else \n",
    "        return 0\n",
    "    end\n",
    "end\n",
    "function *(P::PermutationMatrix, x::AbstractVector)\n",
    "    # TODO: return a vector whose entries are permuted according to P.p\n",
    "    x[P.p]\n",
    "    #=\n",
    "    n = size(P, 1)\n",
    "    T = promote_type(eltype(P), eltype(x))\n",
    "    v = zeros(T, n)\n",
    "    for k = 1:n\n",
    "        j = P.p[k]\n",
    "        v[k] = x[j]\n",
    "    end\n",
    "    v\n",
    "    =#\n",
    "end\n",
    "\n",
    "# If your code is correct, this \"unit test\" will succeed\n",
    "p = [1, 4, 2, 5, 3]\n",
    "P = PermutationMatrix(p)\n",
    "@test P == I(5)[p,:]\n",
    "\n",
    "n = 100_000\n",
    "p = Vector(n:-1:1) # makes a Vector corresponding to [n,n-1,…,1]\n",
    "P = PermutationMatrix(p)\n",
    "x = randn(n)\n",
    "@test P*x == x[p]"
   ]
  },
  {
   "cell_type": "markdown",
   "metadata": {},
   "source": [
    "-------"
   ]
  },
  {
   "cell_type": "markdown",
   "metadata": {},
   "source": [
    "**Problem 2.1** Complete the implementation of a type representing an n × n\n",
    "reflection that supports `Q[k,j]` in $O(1)$ operations and `*` in $O(n)$ operations.\n",
    "The reflection may be complex (that is, $Q ∈ U(n)$ is unitary)."
   ]
  },
  {
   "cell_type": "code",
   "execution_count": 7,
   "metadata": {},
   "outputs": [
    {
     "data": {
      "text/plain": [
       "\u001b[32m\u001b[1mTest Passed\u001b[22m\u001b[39m"
      ]
     },
     "execution_count": 7,
     "metadata": {},
     "output_type": "execute_result"
    }
   ],
   "source": [
    "# Represents I - 2v*v'\n",
    "struct Reflection{T} <: AbstractMatrix{T}\n",
    "    v::Vector{T}\n",
    "end\n",
    "\n",
    "Reflection(x::Vector{T}) where T = Reflection{T}(x/norm(x))\n",
    "\n",
    "function size(Q::Reflection)\n",
    "    (length(Q.v),length(Q.v))\n",
    "end\n",
    "\n",
    "# getindex(Q, k, j) is synonym for Q[k,j]\n",
    "function getindex(Q::Reflection, k::Int, j::Int)\n",
    "    if k == j\n",
    "        1 - 2 * Q.v[k] * conj(Q.v[j])\n",
    "    else\n",
    "        - 2 * Q.v[k] * conj(Q.v[j])\n",
    "    end\n",
    "end\n",
    "\n",
    "function *(Q::Reflection, x::AbstractVector)\n",
    "    # TODO: implement Q*x, equivalent to (I - 2v*v')*x but using only O(n) operations\n",
    "    x - 2*Q.v*(dot(Q.v, x))\n",
    "end\n",
    "\n",
    "# If your code is correct, these \"unit tests\" will succeed\n",
    "n = 10\n",
    "x = randn(n) + im*randn(n)\n",
    "Q = Reflection(x)\n",
    "v = x/norm(x)\n",
    "@test Q == I-2v*v'\n",
    "@test Q'Q ≈ I\n",
    "n = 100_000\n",
    "x = randn(n) + im*randn(n)\n",
    "Q = Reflection(x)\n",
    "v = x/norm(x)\n",
    "@test Q*v ≈ -v"
   ]
  },
  {
   "cell_type": "markdown",
   "metadata": {},
   "source": [
    "**Problem 2.2** Complete the following implementation of a Housholder reflection  so that the\n",
    "unit tests pass, using the `Reflection` type created above.\n",
    "Here `s == true` means the Householder reflection is sent to the positive axis and `s == false` is the negative axis."
   ]
  },
  {
   "cell_type": "code",
   "execution_count": 4,
   "metadata": {},
   "outputs": [
    {
     "data": {
      "text/plain": [
       "\u001b[32m\u001b[1mTest Passed\u001b[22m\u001b[39m"
      ]
     },
     "execution_count": 4,
     "metadata": {},
     "output_type": "execute_result"
    }
   ],
   "source": [
    "function householderreflection(s::Bool, x::AbstractVector)\n",
    "    y = copy(x)\n",
    "    sign = 0\n",
    "    if s\n",
    "        sign = -1\n",
    "    else \n",
    "        sign = 1\n",
    "    end\n",
    "    y[1] += sign * norm(x)\n",
    "    w = y / norm(y)\n",
    "    Reflection(w)\n",
    "end\n",
    "\n",
    "x = randn(5)\n",
    "Q = householderreflection(true, x)\n",
    "@test Q isa Reflection\n",
    "@test Q*x ≈ [norm(x);zeros(eltype(x),length(x)-1)]\n",
    "\n",
    "Q = householderreflection(false, x)\n",
    "@test Q isa Reflection\n",
    "@test Q*x ≈ [-norm(x);zeros(eltype(x),length(x)-1)]"
   ]
  },
  {
   "cell_type": "markdown",
   "metadata": {},
   "source": [
    "---------"
   ]
  },
  {
   "cell_type": "markdown",
   "metadata": {},
   "source": [
    "**Problem 3**\n",
    "Complete the definition of `Reflections` which supports a sequence of reflections,\n",
    "that is,\n",
    "$$\n",
    "Q = Q_{𝐯_1} ⋯ Q_{𝐯_m}\n",
    "$$\n",
    "where the vectors are stored as a matrix $V ∈ ℂ^{n × m}$ whose $j$-th column is $𝐯_j∈ ℂ^n$, and\n",
    "$$\n",
    "Q_{𝐯_j} = I - 2 𝐯_j 𝐯_j^⋆\n",
    "$$\n",
    "is a reflection."
   ]
  },
  {
   "cell_type": "code",
   "execution_count": 41,
   "metadata": {},
   "outputs": [
    {
     "data": {
      "text/plain": [
       "\u001b[32m\u001b[1mTest Passed\u001b[22m\u001b[39m"
      ]
     },
     "execution_count": 41,
     "metadata": {},
     "output_type": "execute_result"
    }
   ],
   "source": [
    "struct Reflections{T} <: AbstractMatrix{T}\n",
    "    V::Matrix{T}\n",
    "end\n",
    "\n",
    "size(Q::Reflections) = (size(Q.V,1), size(Q.V,1))\n",
    "\n",
    "\n",
    "function *(Q::Reflections, x::AbstractVector)\n",
    "    # TODO: Apply Q in O(mn) operations by applying\n",
    "    # the reflection corresponding to each column of Q.V to x\n",
    "    (n, m) = size(Q.V)\n",
    "    for i=m:-1:1\n",
    "        col = Q.V[:, i] \n",
    "        r = Reflection(col)\n",
    "        x = r * x\n",
    "    end\n",
    "    x\n",
    "end\n",
    "\n",
    "function getindex(Q::Reflections, k::Int, j::Int)\n",
    "    # TODO: Return Q[k,j] in O(mn) operations (hint: use *)\n",
    "    # multiply by ej \n",
    "    # take kth component of vector\n",
    "    (n, m) = size(Q)\n",
    "    x = [0 for i = 1:m]\n",
    "    x[j] = 1\n",
    "    (Q*x)[k]\n",
    "end\n",
    "\n",
    "\n",
    "Y = randn(5,3)\n",
    "V = Y * Diagonal([1/norm(Y[:,j]) for j=1:3])\n",
    "Q = Reflections(V)\n",
    "@test Q ≈ (I - 2V[:,1]*V[:,1]')*(I - 2V[:,2]*V[:,2]')*(I - 2V[:,3]*V[:,3]')\n",
    "@test Q'Q ≈ I"
   ]
  },
  {
   "cell_type": "markdown",
   "metadata": {},
   "source": [
    "---\n",
    "\n",
    "*This notebook was generated using [Literate.jl](https://github.com/fredrikekre/Literate.jl).*"
   ]
  }
 ],
 "metadata": {
  "kernelspec": {
   "display_name": "Julia 1.8.5",
   "language": "julia",
   "name": "julia-1.8"
  },
  "language_info": {
   "file_extension": ".jl",
   "mimetype": "application/julia",
   "name": "julia",
   "version": "1.8.5"
  }
 },
 "nbformat": 4,
 "nbformat_minor": 3
}
