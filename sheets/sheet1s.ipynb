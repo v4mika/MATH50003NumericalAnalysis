{
 "cells": [
  {
   "cell_type": "markdown",
   "metadata": {},
   "source": [
    "# MATH50003 (2022–23)\n",
    "# Problem Sheet 1\n",
    "\n",
    "This problem sheet tests the representation of numbers on the computer, using\n",
    "modular and floating point arithmetic.\n",
    "\n",
    "Please complete the problems using pen-and-paper, though some can be verified using Julia.\n",
    "\n",
    "**Problem 1** With 8-bit signed integers, what are the bits for the following: $10, 120, -10$.\n",
    "\n",
    "**SOLUTION**\n",
    "We can find the binary digits by repeatedly subtracting the largest power of 2 less than a number\n",
    "until we reach 0, e.g. $10 - 2^3 - 2 = 0$\n",
    "implies $10 = (1010)_2$.\n",
    "Thus the bits are:"
   ]
  },
  {
   "cell_type": "code",
   "execution_count": 1,
   "metadata": {
    "execution": {
     "iopub.execute_input": "2023-03-09T21:05:01.944929Z",
     "iopub.status.busy": "2023-03-09T21:05:01.345273Z",
     "iopub.status.idle": "2023-03-09T21:05:02.312896Z",
     "shell.execute_reply": "2023-03-09T21:05:02.312230Z"
    }
   },
   "outputs": [
    {
     "name": "stdout",
     "output_type": "stream",
     "text": [
      "\u001b[31m0\u001b[0m\u001b[34m0001010\u001b[0m\n"
     ]
    }
   ],
   "source": [
    "using ColorBitstring\n",
    "printlnbits(Int8(10))"
   ]
  },
  {
   "cell_type": "markdown",
   "metadata": {},
   "source": [
    "Similarly,\n",
    "$$\n",
    "120 = 2^6 + 2^5 + 2^4 + 2^3 = (1111000)_2\n",
    "$$\n",
    "Thus the bits are (meant to be deduced by hand but we use Julia to confirm):"
   ]
  },
  {
   "cell_type": "code",
   "execution_count": 2,
   "metadata": {
    "execution": {
     "iopub.execute_input": "2023-03-09T21:05:02.315056Z",
     "iopub.status.busy": "2023-03-09T21:05:02.314383Z",
     "iopub.status.idle": "2023-03-09T21:05:02.316852Z",
     "shell.execute_reply": "2023-03-09T21:05:02.316327Z"
    }
   },
   "outputs": [
    {
     "name": "stdout",
     "output_type": "stream",
     "text": [
      "\u001b[31m0\u001b[0m\u001b[34m1111000\u001b[0m\n"
     ]
    }
   ],
   "source": [
    "printlnbits(Int8(120))"
   ]
  },
  {
   "cell_type": "markdown",
   "metadata": {},
   "source": [
    "For negative numbers we perform the same trick but adding $2^p$ to make it positive, e.g.,\n",
    "$$\n",
    "-10 = 2^8 - 10 ({\\rm mod 2^8}) = 246 = 2^7 + 2^6 + 2^5 + 2^4 + 2^2 + 2 = (11110110)_2\n",
    "$$\n",
    "This the bits are:"
   ]
  },
  {
   "cell_type": "code",
   "execution_count": 3,
   "metadata": {
    "execution": {
     "iopub.execute_input": "2023-03-09T21:05:02.319212Z",
     "iopub.status.busy": "2023-03-09T21:05:02.318298Z",
     "iopub.status.idle": "2023-03-09T21:05:02.321128Z",
     "shell.execute_reply": "2023-03-09T21:05:02.319785Z"
    }
   },
   "outputs": [
    {
     "name": "stdout",
     "output_type": "stream",
     "text": [
      "\u001b[31m1\u001b[0m\u001b[34m1110110\u001b[0m\n"
     ]
    }
   ],
   "source": [
    "printlnbits(Int8(-10))"
   ]
  },
  {
   "cell_type": "markdown",
   "metadata": {},
   "source": [
    "**END**\n",
    "\n",
    "**Problem 2** What is $π$ to 5 binary places? Hint: recall that $π ≈ 3.14$.\n",
    "\n",
    "**SOLUTION**\n",
    "Note that"
   ]
  },
  {
   "cell_type": "code",
   "execution_count": 4,
   "metadata": {
    "execution": {
     "iopub.execute_input": "2023-03-09T21:05:02.323588Z",
     "iopub.status.busy": "2023-03-09T21:05:02.323013Z",
     "iopub.status.idle": "2023-03-09T21:05:02.833502Z",
     "shell.execute_reply": "2023-03-09T21:05:02.832950Z"
    }
   },
   "outputs": [
    {
     "data": {
      "text/plain": [
       "3.140625"
      ]
     },
     "execution_count": 4,
     "metadata": {},
     "output_type": "execute_result"
    }
   ],
   "source": [
    "3 + 1/8  + 1/64"
   ]
  },
  {
   "cell_type": "markdown",
   "metadata": {},
   "source": [
    "which has the binary representation $(11.001001)_2$.\n",
    "Indeed:"
   ]
  },
  {
   "cell_type": "code",
   "execution_count": 5,
   "metadata": {
    "execution": {
     "iopub.execute_input": "2023-03-09T21:05:02.835957Z",
     "iopub.status.busy": "2023-03-09T21:05:02.835215Z",
     "iopub.status.idle": "2023-03-09T21:05:02.935128Z",
     "shell.execute_reply": "2023-03-09T21:05:02.934647Z"
    }
   },
   "outputs": [
    {
     "name": "stdout",
     "output_type": "stream",
     "text": [
      "\u001b[31m0\u001b[0m\u001b[32m10000\u001b[0m\u001b[34m1001001000\u001b[0m"
     ]
    }
   ],
   "source": [
    "printbits(Float16(π))"
   ]
  },
  {
   "cell_type": "markdown",
   "metadata": {},
   "source": [
    "Instead of simply guessing the above representation we can instead continuously subtract the largest powers 2 which do not result in a negative number. For $\\pi$ the procedure then finds that we can write\n",
    "$$\n",
    "\\pi - 1*2^1 - 1*2^0 - 1*2^{-3} - 1*2^{-6} ...\n",
    "$$\n",
    "**END**\n",
    "\n",
    "**Problem 3** What are the single precision $F_{32}$ (`Float32`) floating point representations for the following: \n",
    "$$\n",
    "2, 31, 32, 23/4, (23/4)\\times 2^{100}\n",
    "$$\n",
    "\n",
    "**SOLUTION**\n",
    "Recall that we have `σ,Q,S = 127,8,23`. Thus we write\n",
    "$$\n",
    "2 = 2^{128-127} * (1.00000000000000000000000)_2\n",
    "$$\n",
    "The exponent bits are those of\n",
    "$$\n",
    "128 = 2^7 = (10000000)_2\n",
    "$$\n",
    "Hence we get"
   ]
  },
  {
   "cell_type": "code",
   "execution_count": 6,
   "metadata": {
    "execution": {
     "iopub.execute_input": "2023-03-09T21:05:02.937982Z",
     "iopub.status.busy": "2023-03-09T21:05:02.936905Z",
     "iopub.status.idle": "2023-03-09T21:05:03.026414Z",
     "shell.execute_reply": "2023-03-09T21:05:03.025977Z"
    }
   },
   "outputs": [
    {
     "name": "stdout",
     "output_type": "stream",
     "text": [
      "\u001b[31m0\u001b[0m\u001b[32m10000000\u001b[0m\u001b[34m00000000000000000000000\u001b[0m\n"
     ]
    }
   ],
   "source": [
    "printlnbits(2f0)"
   ]
  },
  {
   "cell_type": "markdown",
   "metadata": {},
   "source": [
    "We write\n",
    "$$\n",
    "31 = (11111)_2 = 2^{131-127} * (1.1111)_2\n",
    "$$\n",
    "And note that $131 = (10000011)_2$ Hence we have:"
   ]
  },
  {
   "cell_type": "code",
   "execution_count": 7,
   "metadata": {
    "execution": {
     "iopub.execute_input": "2023-03-09T21:05:03.028900Z",
     "iopub.status.busy": "2023-03-09T21:05:03.028050Z",
     "iopub.status.idle": "2023-03-09T21:05:03.030600Z",
     "shell.execute_reply": "2023-03-09T21:05:03.029485Z"
    }
   },
   "outputs": [
    {
     "name": "stdout",
     "output_type": "stream",
     "text": [
      "\u001b[31m0\u001b[0m\u001b[32m10000011\u001b[0m\u001b[34m11110000000000000000000\u001b[0m\n"
     ]
    }
   ],
   "source": [
    "printlnbits(31f0)"
   ]
  },
  {
   "cell_type": "markdown",
   "metadata": {},
   "source": [
    "On the other hand,\n",
    "$$\n",
    "32 = (100000)_2 = 2^{132-127}\n",
    "$$\n",
    "and $132 = (10000100)_2$ hence:"
   ]
  },
  {
   "cell_type": "code",
   "execution_count": 8,
   "metadata": {
    "execution": {
     "iopub.execute_input": "2023-03-09T21:05:03.032966Z",
     "iopub.status.busy": "2023-03-09T21:05:03.032140Z",
     "iopub.status.idle": "2023-03-09T21:05:03.034716Z",
     "shell.execute_reply": "2023-03-09T21:05:03.033582Z"
    }
   },
   "outputs": [
    {
     "name": "stdout",
     "output_type": "stream",
     "text": [
      "\u001b[31m0\u001b[0m\u001b[32m10000100\u001b[0m\u001b[34m00000000000000000000000\u001b[0m\n"
     ]
    }
   ],
   "source": [
    "printlnbits(32f0)"
   ]
  },
  {
   "cell_type": "markdown",
   "metadata": {},
   "source": [
    "Note that\n",
    "$$\n",
    "23/4 = 2^{-2} * (10111)_2 = 2^{129-127} * (1.0111)_2\n",
    "$$\n",
    "and $129 = (10000001)_2$ hence we get:"
   ]
  },
  {
   "cell_type": "code",
   "execution_count": 9,
   "metadata": {
    "execution": {
     "iopub.execute_input": "2023-03-09T21:05:03.037191Z",
     "iopub.status.busy": "2023-03-09T21:05:03.036508Z",
     "iopub.status.idle": "2023-03-09T21:05:03.043471Z",
     "shell.execute_reply": "2023-03-09T21:05:03.042938Z"
    }
   },
   "outputs": [
    {
     "name": "stdout",
     "output_type": "stream",
     "text": [
      "\u001b[31m0\u001b[0m\u001b[32m10000001\u001b[0m\u001b[34m01110000000000000000000\u001b[0m\n"
     ]
    }
   ],
   "source": [
    "printlnbits(23f0/4)"
   ]
  },
  {
   "cell_type": "markdown",
   "metadata": {},
   "source": [
    "Finally,\n",
    "$$\n",
    "23/4 * 2^{100} = 2^{229-127} * (1.0111)_2\n",
    "$$\n",
    "and $229 = (11100101)_2$ giving us:"
   ]
  },
  {
   "cell_type": "code",
   "execution_count": 10,
   "metadata": {
    "execution": {
     "iopub.execute_input": "2023-03-09T21:05:03.045755Z",
     "iopub.status.busy": "2023-03-09T21:05:03.045173Z",
     "iopub.status.idle": "2023-03-09T21:05:03.075126Z",
     "shell.execute_reply": "2023-03-09T21:05:03.074532Z"
    }
   },
   "outputs": [
    {
     "name": "stdout",
     "output_type": "stream",
     "text": [
      "\u001b[31m0\u001b[0m\u001b[32m11100101\u001b[0m\u001b[34m01110000000000000000000\u001b[0m\n"
     ]
    }
   ],
   "source": [
    "printlnbits(23f0/4 * 2f0^100)"
   ]
  },
  {
   "cell_type": "markdown",
   "metadata": {},
   "source": [
    "**END**\n",
    "\n",
    "\n",
    "**Problem 4** Let $m(y) = \\min\\{x \\in F_{32} : x > y \\}$ be the smallest single precision number\n",
    "greater than $y$. What is $m(2) - 2$ and $m(1024) - 1024$? \n",
    "\n",
    "**SOLUTION**\n",
    "The next float after $2$ is $2 * (1 + 2^{-23})$ hence we get $m(2) - 2 = 2^{-22}$:"
   ]
  },
  {
   "cell_type": "code",
   "execution_count": 11,
   "metadata": {
    "execution": {
     "iopub.execute_input": "2023-03-09T21:05:03.077533Z",
     "iopub.status.busy": "2023-03-09T21:05:03.076924Z",
     "iopub.status.idle": "2023-03-09T21:05:03.485206Z",
     "shell.execute_reply": "2023-03-09T21:05:03.484773Z"
    }
   },
   "outputs": [
    {
     "data": {
      "text/plain": [
       "(2.3841858f-7, 2.384185791015625e-7)"
      ]
     },
     "execution_count": 11,
     "metadata": {},
     "output_type": "execute_result"
    }
   ],
   "source": [
    "nextfloat(2f0) - 2, 2^(-22)"
   ]
  },
  {
   "cell_type": "markdown",
   "metadata": {},
   "source": [
    "similarly, for $1024 = 2^{10}$ we find that the difference $m(1024) - 1024$ is $2^{10-23} = 2^{-13}$:"
   ]
  },
  {
   "cell_type": "code",
   "execution_count": 12,
   "metadata": {
    "execution": {
     "iopub.execute_input": "2023-03-09T21:05:03.487788Z",
     "iopub.status.busy": "2023-03-09T21:05:03.486800Z",
     "iopub.status.idle": "2023-03-09T21:05:03.493532Z",
     "shell.execute_reply": "2023-03-09T21:05:03.493091Z"
    }
   },
   "outputs": [
    {
     "data": {
      "text/plain": [
       "(0.00012207031f0, 0.0001220703125)"
      ]
     },
     "execution_count": 12,
     "metadata": {},
     "output_type": "execute_result"
    }
   ],
   "source": [
    "nextfloat(1024f0) - 1024, 2^(-13)"
   ]
  },
  {
   "cell_type": "markdown",
   "metadata": {},
   "source": [
    "**END**\n",
    "\n",
    "\n",
    "**Problem 5** Suppose $x = 1.25$ and consider 16-bit floating point arithmetic ($F_{16}$). \n",
    "What is the error in approximating $x$ by the nearest float point number ${\\rm fl}(x)$?\n",
    "What is the error in approximating $2x$, $x/2$, $x + 2$ and $x - 2$ by $2 \\otimes x$, $x \\oslash 2$, $x ⊕ 2$ and $x \\ominus 2$?\n",
    "\n",
    "**SOLUTION**\n",
    "None of these computations have errors since they are all exactly representable as floating point numbers.\n",
    "**END**\n",
    "\n",
    "**Problem 6** For what floating point numbers is $x ⊘ 2 ≠ x/2$ and $x ⊕ 2 ≠ x + 2$?\n",
    "\n",
    "**SOLUTION**\n",
    "\n",
    "Consider a normal $x = ±2^{q-σ} (1.b_1… b_S)_2$.\n",
    "Provided $q > 1$  we have\n",
    "$$\n",
    "x ⊘ 2 = x/2 = ±2^{q-σ-1} (1.b_1… b_S)_2\n",
    "$$\n",
    "However, if $q = 1$ we lose a bit as we shift:\n",
    "$$\n",
    "x ⊘ 2 = ±2^{1-σ} (0.b_1… b_{S-1})_2\n",
    "$$\n",
    "and the property will be satisfy if $b_S = 1$.\n",
    "Similarily if we are sub-normal, $x = ±2^{1-σ} (0.b_1… b_S)_2$ and\n",
    "we have\n",
    "$$\n",
    "x ⊘ 2 = ±2^{1-σ} (0.0b_1… b_{S-1})_2\n",
    "$$\n",
    "and the property will be satisfy if $b_S = 1$.\n",
    "(Or `NaN`.)\n",
    "\n",
    "Here are two examples:"
   ]
  },
  {
   "cell_type": "code",
   "execution_count": 13,
   "metadata": {
    "execution": {
     "iopub.execute_input": "2023-03-09T21:05:03.495836Z",
     "iopub.status.busy": "2023-03-09T21:05:03.495041Z",
     "iopub.status.idle": "2023-03-09T21:05:04.252809Z",
     "shell.execute_reply": "2023-03-09T21:05:04.252361Z"
    }
   },
   "outputs": [
    {
     "data": {
      "text/plain": [
       "\u001b[32m\u001b[1mTest Passed\u001b[22m\u001b[39m"
      ]
     },
     "execution_count": 13,
     "metadata": {},
     "output_type": "execute_result"
    }
   ],
   "source": [
    "# normal number with q = 1 and last bit 1\n",
    "x = reinterpret(Float16, 0b0000010000000011)\n",
    "@test x/2 ≠ Float64(x)/2 # Float64 can exactly represent x/2\n",
    "# normal number with q = 1 and last bit 0\n",
    "x = reinterpret(Float16, 0b0000010000000010)\n",
    "@test x/2 == Float64(x)/2\n",
    "# sub-normal number with q = 1 and last bit 1\n",
    "x = reinterpret(Float16, 0b0000000000000011)\n",
    "@test x/2 ≠ Float64(x)/2 # Float64 can exactly represent x/2\n",
    "# sub-normal number with q = 1 and last bit 0\n",
    "x = reinterpret(Float16, 0b0000000000000010)\n",
    "@test x/2 == Float64(x)/2 # Float64 can exactly represent x/2"
   ]
  },
  {
   "cell_type": "markdown",
   "metadata": {},
   "source": [
    "For the second part, first assume $x > 0$ and  write\n",
    "$$\n",
    "x = 2^j (1.b_1…b_S)_2\n",
    "$$\n",
    "Lets begin with the case $j = 0$. We then get:\n",
    "$$\n",
    "2 ⊕ x = {\\rm fl}(2(1.1b_1…b_S)_2) = 2+x\n",
    "$$\n",
    "if and only if $b_S = 0$:"
   ]
  },
  {
   "cell_type": "code",
   "execution_count": 14,
   "metadata": {
    "execution": {
     "iopub.execute_input": "2023-03-09T21:05:04.255384Z",
     "iopub.status.busy": "2023-03-09T21:05:04.254553Z",
     "iopub.status.idle": "2023-03-09T21:05:04.264239Z",
     "shell.execute_reply": "2023-03-09T21:05:04.263661Z"
    }
   },
   "outputs": [
    {
     "data": {
      "text/plain": [
       "\u001b[32m\u001b[1mTest Passed\u001b[22m\u001b[39m"
      ]
     },
     "execution_count": 14,
     "metadata": {},
     "output_type": "execute_result"
    }
   ],
   "source": [
    "x =reinterpret(Float16, 0b0011110000000010) # b_S = 0\n",
    "@test x+2 == Float64(x)+2\n",
    "x =reinterpret(Float16, 0b0011110000000011) # b_S = 1\n",
    "@test x+2 ≠ Float64(x)+2"
   ]
  },
  {
   "cell_type": "markdown",
   "metadata": {},
   "source": [
    "If $j < 0$ then we have\n",
    "$$\n",
    "2 ⊗ x = {\\rm fl}(2(1.\\underbrace{0…0}_{-j\\hbox{  zeros}}1b_1…b_S)_2)\n",
    "$$\n",
    "hence we need $b_{S-j} = ⋯ = b_S =0$:"
   ]
  },
  {
   "cell_type": "code",
   "execution_count": 15,
   "metadata": {
    "execution": {
     "iopub.execute_input": "2023-03-09T21:05:04.266622Z",
     "iopub.status.busy": "2023-03-09T21:05:04.265961Z",
     "iopub.status.idle": "2023-03-09T21:05:04.271395Z",
     "shell.execute_reply": "2023-03-09T21:05:04.270948Z"
    }
   },
   "outputs": [
    {
     "data": {
      "text/plain": [
       "\u001b[32m\u001b[1mTest Passed\u001b[22m\u001b[39m"
      ]
     },
     "execution_count": 15,
     "metadata": {},
     "output_type": "execute_result"
    }
   ],
   "source": [
    "# this has j = -1\n",
    "x =reinterpret(Float16, 0b0011100000000100) # b_S = B_{S-1} = 0\n",
    "@test x+2 == Float64(x)+2\n",
    "x =reinterpret(Float16, 0b0011100000000110) # b_S = 0, B_{S-1} ≠ 0\n",
    "@test x+2 ≠ Float64(x)+2"
   ]
  },
  {
   "cell_type": "markdown",
   "metadata": {},
   "source": [
    "If $j = 1$ then $b_S = 0$ iff $x ⊕ 2 = x$ as we are incrementing the exponent and\n",
    "shifting the significand.\n",
    "If $1 < j < S+2$ then $b_{k} = 0$ for some $1 ≤ k ≤ j-1$ implies that $x ⊕ 2 = x$.\n",
    "Otherwise if $b_1 = ⋯ = b_{j-1} = 1$ then $b_S = 0$ iff $x ⊕ 2 = x$ \n",
    "as we are incrementing the exponent and\n",
    "shifting the significand.\n",
    "If $j ≥ S+2$ then \n",
    "$$\n",
    "x + 2 = 2^j (1.b_1…b_S\\underbrace{0…0}_{j-S-2\\hbox{ times}} 10)_2\n",
    "$$\n",
    "and when rounded the trailing $10$ will be removed.\n",
    "(Of course `Inf + 2 == Inf` and `NaN + 2 == NaN` as well.)\n",
    "\n",
    "\n",
    "Now consider $x < 0$ and it helps to write $2 = (1.111111…)_2$.\n",
    "If $j = 0$ define $b̃_k = 1 - b_k$ (that is, $1$ if $b_k = 0$ and $0$ otherwise.)\n",
    "Then we have\n",
    "$$\n",
    "2 + x = (0.b̃_1…b̃_S1111…)_2 = (0.b̃_1…b̃_S)_2 + 2^{-S} ∈ F\n",
    "$$\n",
    "as we have at most $S$ non-zero bits after the first decimal point. \n",
    "If $j = -1$ we have\n",
    "$$\n",
    "2 + x = 1.0b̃_1…b̃_S1111… = (1.0b̃_1…b̃_S)_2 + 2^{-1-S}\n",
    "$$\n",
    "and $b̃_S = 1$ (i.e. $b_S = 0$) iff $2+x = 2 ⊕ x$ (since then the the last bit is zero).\n",
    "Similarly, if $ j < -1$ we have\n",
    "$$\n",
    "2 + x = 1.\\underbrace{1…1}_{-j-1\\hbox{  times}}0b̃_1…b̃_S1111… = (1.\\underbrace{1…1}_{-j-1\\hbox{  times}}0b̃_1…b̃_S)_2 + 2^{-j-S}\n",
    "$$\n",
    "and $b̃_{S+j+1} = ⋯ = b̃_S = 1$ (i.e. $b_{S+j+1} = ⋯ = b_S = 0$) iff $2+x = 2 ⊕ x$.\n",
    "For $j = 1$ we have\n",
    "$$\n",
    "2 ⊕ x = -{\\rm fl}((1b_1.b_2…b_S)_2 - (10)_2) = -{\\rm fl}(b_1.b_2…b_S)_2 = -b_1.b_2…b_S = 2 + x.\n",
    "$$\n",
    "For $j = 2$ and $b_1 = 1$ we have\n",
    "$$\n",
    "2 ⊕ x = -{\\rm fl}((11b_2.b_3…b_S)_2 - (10)_2) = (10b_2.b_3…b_S)_2 = 2 + x\n",
    "$$\n",
    "where if $b_1 = 0$ we have\n",
    "$$\n",
    "2 ⊕ x = -{\\rm fl}((10b_2.b_3…b_S)_2 - (10)_2) = (1b_2.b_3…b_S)_2 = 2 + x.\n",
    "$$\n",
    "By similar arguments, whenever $2 ≤ j ≤ S + 1$ we have $2 ⊕ x = 2 + x$. \n",
    "If $j = S + 2$ the only case where $2 ⊕ x = 2+x$ is if $x = 2^{S+2}$:\n",
    "$$\n",
    "2 ⊕ x = -{\\rm fl}((1\\underbrace{0…0}_{S\\hbox{  zeros}}00)_2 - (10)_2) = -{\\rm fl}((\\underbrace{1…1}_{S-1\\hbox{  ones}}10)_2) = 2^{S+2} (1.\\underbrace{1…1}_{S\\hbox{  ones}})_2 = 2 + x.\n",
    "$$\n",
    "If $j ≥ S+3$  we then have $2 ⊕ x ≠ 2 + x$.\n",
    "\n",
    "Finally, if $x = 0$ then $x ⊕ 2 = {\\rm fl}(2) = 2$.\n",
    "\n",
    "**END**\n",
    "\n",
    "\n",
    "**Problem 7** What are the exact bits for $1 ⊘ 5$, $1 ⊘ 5 ⊕ 1$ computed\n",
    "using  half-precision arithmetic (`Float16`) (using default rounding)?\n",
    "\n",
    "**SOLUTION**\n",
    "\n",
    "From Problem 2.1 in Lab 2 we know that\n",
    "$$\n",
    "1/5 = 2^{-3} * (1.10011001100…)_2 ≈ 2^{-3} * (1.1001100110)_2\n",
    "$$\n",
    "where the $≈$ is rounded to the nearest 10 bits (in this case rounded down).\n",
    "This can be shown using Geometric series:\n",
    "$$\n",
    "\\begin{align*}\n",
    "(0.00110011001100…)_2 &= (2^{-3} + 2^{-4})(1.00010001000…)_2 =  (2^{-3} + 2^{-4}) \\sum_{k=0}^∞ {1 \\over 16^k} \\\\\n",
    "&= {2^{-3} + 2^{-4} \\over 1 - {1\\over 2^4}} = {3 \\over 15} = {1 \\over 5}\n",
    "\\end{align*}\n",
    "$$\n",
    "\n",
    "\n",
    "We write $-3 = 12 - 15$\n",
    "hence we have $q = 12 = (01100)_2$. \n",
    "so  we get the bits:"
   ]
  },
  {
   "cell_type": "code",
   "execution_count": 16,
   "metadata": {
    "execution": {
     "iopub.execute_input": "2023-03-09T21:05:04.273565Z",
     "iopub.status.busy": "2023-03-09T21:05:04.272855Z",
     "iopub.status.idle": "2023-03-09T21:05:04.275268Z",
     "shell.execute_reply": "2023-03-09T21:05:04.274146Z"
    }
   },
   "outputs": [
    {
     "name": "stdout",
     "output_type": "stream",
     "text": [
      "\u001b[31m0\u001b[0m\u001b[32m01100\u001b[0m\u001b[34m1001100110\u001b[0m"
     ]
    }
   ],
   "source": [
    "printbits(Float16(1)/5)"
   ]
  },
  {
   "cell_type": "markdown",
   "metadata": {},
   "source": [
    "Adding `1` we get:\n",
    "$$\n",
    "1 + 2^{-3} * (1.1001100110)_2 = (1.001100110011)_2 ≈ (1.0011001101)_2 \n",
    "$$\n",
    "Here we write the exponent as $0 = 15 - 15$ where $q = 15 = (01111)_2$. \n",
    "Thus we get:"
   ]
  },
  {
   "cell_type": "code",
   "execution_count": 17,
   "metadata": {
    "execution": {
     "iopub.execute_input": "2023-03-09T21:05:04.277327Z",
     "iopub.status.busy": "2023-03-09T21:05:04.276761Z",
     "iopub.status.idle": "2023-03-09T21:05:04.283719Z",
     "shell.execute_reply": "2023-03-09T21:05:04.283263Z"
    }
   },
   "outputs": [
    {
     "name": "stdout",
     "output_type": "stream",
     "text": [
      "\u001b[31m0\u001b[0m\u001b[32m01111\u001b[0m\u001b[34m0011001101\u001b[0m"
     ]
    }
   ],
   "source": [
    "printbits(1 + Float16(1)/5)"
   ]
  },
  {
   "cell_type": "markdown",
   "metadata": {},
   "source": [
    "**END**\n",
    "\n",
    "**Problem 8** Explain why the following does not return `1`. Can you compute the bits explicitly?"
   ]
  },
  {
   "cell_type": "code",
   "execution_count": 18,
   "metadata": {
    "execution": {
     "iopub.execute_input": "2023-03-09T21:05:04.285814Z",
     "iopub.status.busy": "2023-03-09T21:05:04.285160Z",
     "iopub.status.idle": "2023-03-09T21:05:04.537184Z",
     "shell.execute_reply": "2023-03-09T21:05:04.536708Z"
    }
   },
   "outputs": [
    {
     "data": {
      "text/plain": [
       "Float16(1.004)"
      ]
     },
     "execution_count": 18,
     "metadata": {},
     "output_type": "execute_result"
    }
   ],
   "source": [
    "Float16(0.1) / (Float16(1.1) - 1)"
   ]
  },
  {
   "cell_type": "markdown",
   "metadata": {},
   "source": [
    "**SOLUTION**\n",
    "Note that\n",
    "$$\n",
    "{1 \\over 10} = {1 \\over 2} {1 \\over 5} = 2^{-4} * (1.10011001100…)_2\n",
    "$$\n",
    "hence we have \n",
    "$$\n",
    "{\\rm fl}({1 \\over 10}) = 2^{-4} * (1.1001100110)_2\n",
    "$$\n",
    "and\n",
    "$$\n",
    "{\\rm fl}(1 + {1 \\over 10}) ={\\rm fl}(1.0001100110011…) = (1.0001100110)_2\n",
    "$$\n",
    "Thus\n",
    "$$\n",
    "{\\rm fl}(1.1) ⊖ 1 = (0.0001100110)_2 = 2^{-4} (1.1001100000)_2\n",
    "$$\n",
    "and hence we get\n",
    "$$\n",
    "{\\rm fl}(0.1) ⊘ ({\\rm fl}(1.1) ⊖ 1)= {\\rm fl}({(1.1001100110)_2 \\over (1.1001100000)_2}) ≠ 1\n",
    "$$\n",
    "To compute the bits explicitly, write $y = (1.10011)_2$ and divide through to get:\n",
    "$$\n",
    "{(1.1001100110)_2 \\over (1.10011)_2} = 1 + {2^{-8} \\over y} + {2^{-9} \\over y}\n",
    "$$\n",
    "We then have\n",
    "$$\n",
    "y^{-1} = {32 \\over 51} = 0.627… = (0.101…)_2\n",
    "$$\n",
    "Hence\n",
    "$$\n",
    "1 + {2^{-8} \\over y} + {2^{-9} \\over y} = 1 + (2^{-9} + 2^{-11} + \\cdots) + (2^{-10} + \\cdots) = (1.00000000111…)_2\n",
    "$$\n",
    "Therefore we round up (the $…$ is not exactly zero but if it was it would be a tie and we would\n",
    "round up anyways to get a zero last bit) and get:"
   ]
  },
  {
   "cell_type": "code",
   "execution_count": 19,
   "metadata": {
    "execution": {
     "iopub.execute_input": "2023-03-09T21:05:04.539338Z",
     "iopub.status.busy": "2023-03-09T21:05:04.538779Z",
     "iopub.status.idle": "2023-03-09T21:05:04.543816Z",
     "shell.execute_reply": "2023-03-09T21:05:04.543404Z"
    }
   },
   "outputs": [
    {
     "name": "stdout",
     "output_type": "stream",
     "text": [
      "\u001b[31m0\u001b[0m\u001b[32m01111\u001b[0m\u001b[34m0000000100\u001b[0m\n"
     ]
    }
   ],
   "source": [
    "printlnbits(Float16(0.1) / (Float16(1.1) - 1))"
   ]
  },
  {
   "cell_type": "markdown",
   "metadata": {},
   "source": [
    "**END**\n",
    "\n",
    "\n",
    "**Problem 9** Find a bound on the _absolute error_ in terms of a constant times machine epsilon\n",
    "$ϵ_{\\rm m}$ for the following computations\n",
    "$$\n",
    "\\begin{align*}\n",
    "(1.1 * 1.2) &+ 1.3 \\\\\n",
    "(1.1 - 1) &/ 0.1 \n",
    "\\end{align*}\n",
    "$$\n",
    "implemented using floating point arithmetic (with any precision). That is, each number is rounded\n",
    "first using ${\\rm fl}$ and each operation is replaced by its floating point analogues $⊕, ⊗, ⊖, ⊘$.\n",
    "\n",
    "\n",
    "**SOLUTION**\n",
    "\n",
    "The first problem is very similar to what we saw in lecture. Write \n",
    "$$\n",
    "({\\rm fl}(1.1)⊗ {\\rm fl}(1.2)) ⊕ {\\rm fl}(1.3) = ( 1.1(1 + δ_1)1.2(1+δ_2)(1+δ_3) + 1.3(1+δ_4))(1+δ_5)\n",
    "$$\n",
    "We first write\n",
    "$$\n",
    "1.1(1 + δ_1)1.2(1+δ_2)(1+δ_3) = 1.32( 1+ δ_6)\n",
    "$$\n",
    "where\n",
    "$$\n",
    "|δ_6| \\leq |δ_1| + |δ_2| + |δ_3| + |δ_1| |δ_2| + |δ_1| |δ_3| + |δ_2| |δ_3|+ |δ_1| |δ_2| |δ_3| \\leq 4 ϵ_{\\rm m}\n",
    "$$\n",
    "Then we have\n",
    "$$\n",
    "1.32 (1 + δ_6) + 1.3 (1 + δ_4) = 2.62 + \\underbrace{1.32 δ_6 + 1.3δ_4}_{δ_7}\n",
    "$$\n",
    "where\n",
    "$$\n",
    "|δ_7| ≤ 7 ϵ_{\\rm m}\n",
    "$$\n",
    "Finally,\n",
    "$$\n",
    "(2.62 + δ_7)(1+δ_5) = 2.62 + \\underbrace{δ_7 + 2.62δ_5 + δ_7 δ_5}_{δ_8}\n",
    "$$\n",
    "where\n",
    "$$\n",
    "|δ_8| ≤ 11 ϵ_{\\rm m}\n",
    "$$\n",
    "\n",
    "\n",
    "\n",
    "For the second part, we do:\n",
    "$$\n",
    "({\\rm fl}(1.1) ⊖ 1) ⊘ {\\rm fl}(0.1) = {(1.1 (1 + δ_1) - 1)(1 + δ_2) \\over 0.1 (1 + δ_3)} (1 + δ_4)\n",
    "$$\n",
    "Write\n",
    "$$\n",
    "{1 \\over 1 + δ_3} = 1 + δ_5\n",
    "$$\n",
    "where\n",
    "$$\n",
    "|δ_5| \\leq \\left| {δ_3 \\over 1 + δ_3} \\right| \\leq  {ϵ_{\\rm m} \\over 2} {1 \\over 1 - 1/2} \\leq ϵ_{\\rm m}\n",
    "$$\n",
    "using the fact that $|δ_3| < 1/2$.\n",
    "Further write\n",
    "$$\n",
    "(1 + δ_5)(1 + δ_4) = 1 + δ_6\n",
    "$$\n",
    "where\n",
    "$$\n",
    "|δ_6| \\leq |δ_5| + |δ_4| + |δ_5| |δ_4| \\leq 2ϵ_{\\rm m}\n",
    "$$\n",
    "We also write\n",
    "$$\n",
    "{(1.1 (1 + δ_1) - 1)(1 + δ_2) \\over 0.1} = 1 + \\underbrace{11δ_1 + δ_2 + 11δ_1δ_2}_{δ_7}\n",
    "$$\n",
    "where\n",
    "$$\n",
    "|δ_7| ≤ 12 ϵ_{\\rm m}\n",
    "$$\n",
    "Then we get \n",
    "$$\n",
    "({\\rm fl}(1.1) ⊖ 1) ⊘ {\\rm fl}(0.1) = (1 + δ_7) (1 + δ_6) =  1 + δ_7 + δ_6 + δ_6 δ_7\n",
    "$$\n",
    "and the error is bounded by:\n",
    "$$\n",
    "(12 + 2 + 34) ϵ_{\\rm m} = 48 ϵ_{\\rm m}\n",
    "$$\n",
    "This is quite pessimistic but still captures that we are on the order of $ϵ_{\\rm m}$.\n",
    "\n",
    "**END**"
   ]
  }
 ],
 "metadata": {
  "kernelspec": {
   "display_name": "Julia 1.8.3",
   "language": "julia",
   "name": "julia-1.8"
  },
  "language_info": {
   "file_extension": ".jl",
   "mimetype": "application/julia",
   "name": "julia",
   "version": "1.8.3"
  }
 },
 "nbformat": 4,
 "nbformat_minor": 2
}
