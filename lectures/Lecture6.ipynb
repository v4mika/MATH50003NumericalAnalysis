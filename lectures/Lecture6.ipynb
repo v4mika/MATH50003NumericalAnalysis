{
 "cells": [
  {
   "cell_type": "markdown",
   "id": "1e5a3a58",
   "metadata": {},
   "source": [
    "# II.4 Dual Numbers (cont.)\n",
    "\n",
    "\n",
    "Recall: dual numbers are $a + b ε$ where $ε^2 = 0$.\n",
    "\n",
    "Similar to complex numbers: $a + b {\\rm i}$ where ${\\rm i}^2 = -1$.\n",
    "\n",
    "We showed last lecture that if $p$ is polynomial that\n",
    "$$\n",
    "p(a + bε) = p(a) + bp'(a)ε.\n",
    "$$\n",
    "We want to now implement dual numbers on a computer to compute derivatives.\n",
    "\n",
    "**Forward-mode automatic differentiation**\n"
   ]
  },
  {
   "cell_type": "code",
   "execution_count": 51,
   "id": "0639b86f",
   "metadata": {},
   "outputs": [
    {
     "data": {
      "text/plain": [
       "exp_t (generic function with 1 method)"
      ]
     },
     "execution_count": 51,
     "metadata": {},
     "output_type": "execute_result"
    }
   ],
   "source": [
    "import Base: show, +, *, /, -, exp, ^ # ring operations\n",
    "\n",
    "# user Taylor series exp(x) ≈ Σ_{k=0}^n x^k/k!\n",
    "function exp_t(x, n)\n",
    "    ret = 0\n",
    "    summand = 1\n",
    "    for k = 0:n\n",
    "        ret += summand\n",
    "        summand *= x/(k+1) # uses Float64 arithmetic\n",
    "    end\n",
    "    return ret\n",
    "end"
   ]
  },
  {
   "cell_type": "code",
   "execution_count": 10,
   "id": "b0d9dd87",
   "metadata": {},
   "outputs": [
    {
     "data": {
      "text/plain": [
       "1 + 2im"
      ]
     },
     "execution_count": 10,
     "metadata": {},
     "output_type": "execute_result"
    }
   ],
   "source": [
    "# complex number in Julia\n",
    "im^2 # this is i, i.e. im^2\n",
    "z = 1 + 2im # this means 1 + 2i"
   ]
  },
  {
   "cell_type": "code",
   "execution_count": 13,
   "id": "5b8ac9b3",
   "metadata": {},
   "outputs": [
    {
     "data": {
      "text/plain": [
       "(1, 2)"
      ]
     },
     "execution_count": 13,
     "metadata": {},
     "output_type": "execute_result"
    }
   ],
   "source": [
    "# typeof(z) == Complex{Int} since the real/imag parts are Int.\n",
    "# We can create also as follows\n",
    "z = Complex(1, 2) # same as 1+2im\n",
    "# A complex number has two fields corresponding to the real and imag parts:\n",
    "z.re, z.im"
   ]
  },
  {
   "cell_type": "code",
   "execution_count": 15,
   "id": "c0cd2aee",
   "metadata": {},
   "outputs": [
    {
     "data": {
      "text/plain": [
       "-3 + 4im"
      ]
     },
     "execution_count": 15,
     "metadata": {},
     "output_type": "execute_result"
    }
   ],
   "source": [
    "# * is overloaded to perform complex multiplication\n",
    "z * z"
   ]
  },
  {
   "cell_type": "code",
   "execution_count": 17,
   "id": "8439573f",
   "metadata": {},
   "outputs": [
    {
     "data": {
      "text/plain": [
       "ComplexF64\u001b[90m (alias for \u001b[39m\u001b[90mComplex{Float64}\u001b[39m\u001b[90m)\u001b[39m"
      ]
     },
     "execution_count": 17,
     "metadata": {},
     "output_type": "execute_result"
    }
   ],
   "source": [
    "\n",
    "# When we add a Float64 and a Complex{Int} we get a Complex{Float64} ≡ ComplexF64\n",
    "z = 1.4 + 2im\n",
    "typeof(z)"
   ]
  },
  {
   "cell_type": "code",
   "execution_count": 59,
   "id": "d88bc787",
   "metadata": {},
   "outputs": [
    {
     "data": {
      "text/plain": [
       "exp (generic function with 15 methods)"
      ]
     },
     "execution_count": 59,
     "metadata": {},
     "output_type": "execute_result"
    }
   ],
   "source": [
    "# Dual(a,b) represents a + b*ε\n",
    "struct Dual{T}\n",
    "    a::T # this means a is type T, usually Float64\n",
    "    b::T\n",
    "end\n",
    "\n",
    "# This is called if a and b are different types. If they are the same type `T`\n",
    "# then it creates a Dual{T}. This can be made explicit via Dual{T}(a,b)\n",
    "function Dual(a, b)\n",
    "    T = promote_type(typeof(a), typeof(b)) # usually find bigger type, Float64\n",
    "    Dual{T}(a, b) # creates Dual{T}, converts a and b to type T\n",
    "end\n",
    "\n",
    "# const means the variable cannot change\n",
    "const ε = Dual(0,1)\n",
    "\n",
    "\n",
    "\n",
    "# overload show to change the display (non-examinable)\n",
    "show(io::IO, x::Dual) = print(io, string(x.a) * \" + \" * string(x.b) * \"ε\")\n",
    "\n",
    "# When adding a Real (say an Int) to a Dual, we modify only `a`\n",
    "+(x::Real, y::Dual) = Dual(x+y.a, y.b)\n",
    "+(x::Dual, y::Dual) = Dual(x.a+y.a, x.b+y.b)\n",
    "# This allows us to negate dual numbers\n",
    "-(x::Dual) = Dual(-x.a, -x.b)\n",
    "\n",
    "# Dividing/multiplying by a Real divides/multiplies each component as its a vector sace\n",
    "/(x::Dual, y::Real) = Dual(x.a/y,x.b/y)\n",
    "*(x::Real, y::Dual) = Dual(x*y.a, x*y.b)\n",
    "\n",
    "# (a+b*ε)*(c+d*ε)== a*c + (b*c+a*d)ε\n",
    "*(x::Dual, y::Dual) = Dual(x.a*y.a, x.b*y.a + x.a*y.b)\n",
    "\n",
    "# to support x^2 (which is equivalent to the call ^(x, 2)), we need to overload ^. \n",
    "function ^(x::Dual, k::Integer) # Integer is a abstract type contain Int, UInt8, etc\n",
    "    if k < 0\n",
    "        error(\"Not implemented\")\n",
    "    elseif k == 1\n",
    "        x\n",
    "    else\n",
    "        x^(k-1) * x\n",
    "    end\n",
    "end\n",
    "\n",
    "# Can extend non-polynomials by using the \"dual extension\"\n",
    "exp(x::Dual) = Dual(exp(x.a), x.b*exp(x.a))"
   ]
  },
  {
   "cell_type": "code",
   "execution_count": 42,
   "id": "ed16f144",
   "metadata": {},
   "outputs": [
    {
     "data": {
      "text/plain": [
       "2.7182818284590455 + 2.7182818284590455ε"
      ]
     },
     "execution_count": 42,
     "metadata": {},
     "output_type": "execute_result"
    }
   ],
   "source": [
    "# We now support all the operations used in exp_t:\n",
    "exp_t(Dual(1.0,1.0), 50) # should be exp_t(1) + exp_t'(1)\n",
    "# incredibly accurate!"
   ]
  },
  {
   "cell_type": "code",
   "execution_count": 43,
   "id": "1f07e40e",
   "metadata": {},
   "outputs": [
    {
     "data": {
      "text/plain": [
       "2.7182818353176117"
      ]
     },
     "execution_count": 43,
     "metadata": {},
     "output_type": "execute_result"
    }
   ],
   "source": [
    "# More accurate than divided differences (w/ quasi-optimal choice of h)\n",
    "h = sqrt(eps())\n",
    "(exp_t(1+h, 50)-exp_t(1, 50))/h"
   ]
  },
  {
   "cell_type": "code",
   "execution_count": 48,
   "id": "eed6260f",
   "metadata": {},
   "outputs": [
    {
     "data": {
      "text/plain": [
       "15.154262241479262 + 41.193555674716116ε"
      ]
     },
     "execution_count": 48,
     "metadata": {},
     "output_type": "execute_result"
    }
   ],
   "source": [
    "# we can compose functions\n",
    "exp(exp(1 + ε))"
   ]
  },
  {
   "cell_type": "code",
   "execution_count": 57,
   "id": "878e0b57",
   "metadata": {},
   "outputs": [
    {
     "data": {
      "text/plain": [
       "0.000617978989331094 + -0.009132562840255837ε"
      ]
     },
     "execution_count": 57,
     "metadata": {},
     "output_type": "execute_result"
    }
   ],
   "source": [
    "# a more complicated example\n",
    "f = x -> exp(-exp(x)^2)\n",
    "f(1+ε)"
   ]
  },
  {
   "cell_type": "code",
   "execution_count": 61,
   "id": "b9586233",
   "metadata": {},
   "outputs": [
    {
     "data": {
      "text/plain": [
       "1.3097995858041505 + 3.175573917841343e-23ε"
      ]
     },
     "execution_count": 61,
     "metadata": {},
     "output_type": "execute_result"
    }
   ],
   "source": [
    "# lets diff. exp(-exp(exp(-exp(… exp(x))))) where the ... is say 100 time\n",
    "\n",
    "x = 1.1 + ε\n",
    "for k = 1:100\n",
    "    x = exp((-1)^k * x)\n",
    "end\n",
    "x"
   ]
  },
  {
   "cell_type": "code",
   "execution_count": 62,
   "id": "122346e1",
   "metadata": {},
   "outputs": [
    {
     "data": {
      "text/plain": [
       "1.309799585804150477669227636073309794231627797088119910659089904813984183832131 + 3.175573917841337600563247262642274789510873995540578821780919894216315914212658e-23ε"
      ]
     },
     "execution_count": 62,
     "metadata": {},
     "output_type": "execute_result"
    }
   ],
   "source": [
    "# Lets check the accuracy using high-precision big flaots:\n",
    "x = big(1.1) + ε\n",
    "for k = 1:100\n",
    "    x = exp((-1)^k * x)\n",
    "end\n",
    "x # amazingly, the derivative is accurate to 15 digits!"
   ]
  }
 ],
 "metadata": {
  "kernelspec": {
   "display_name": "Julia 1.8.3-pre",
   "language": "julia",
   "name": "julia-1.8"
  },
  "language_info": {
   "file_extension": ".jl",
   "mimetype": "application/julia",
   "name": "julia",
   "version": "1.8.3"
  }
 },
 "nbformat": 4,
 "nbformat_minor": 5
}
