{
 "cells": [
  {
   "cell_type": "code",
   "execution_count": 1,
   "id": "d587b709",
   "metadata": {},
   "outputs": [],
   "source": [
    "using LinearAlgebra, Test"
   ]
  },
  {
   "cell_type": "code",
   "execution_count": null,
   "id": "b6e7aefa",
   "metadata": {},
   "outputs": [],
   "source": [
    "A = [1 2 3; \n",
    "     4 5 6;\n",
    "     7 8 9; \n",
    "     10 11 12]\n",
    "rank(A)"
   ]
  },
  {
   "cell_type": "code",
   "execution_count": null,
   "id": "d7253ead",
   "metadata": {},
   "outputs": [],
   "source": [
    "function householderreflection(x)\n",
    "    T = float(eltype(x))\n",
    "    y = Vector{T}(x)\n",
    "    y[1] += norm(x)*sign(x[1])\n",
    "    w = y/norm(y)\n",
    "    I - 2w*w' # I represents identity matrix on any dimension\n",
    "end"
   ]
  },
  {
   "cell_type": "code",
   "execution_count": null,
   "id": "73a901ac",
   "metadata": {},
   "outputs": [],
   "source": [
    "A = [1 2 3; \n",
    "     4 5 6;\n",
    "     7 8 9; \n",
    "     10 11 13]\n",
    "\n",
    "m,n = size(A)\n",
    "\n",
    "𝐚₁ = A[:,1]\n",
    "Q₁ = householderreflection(𝐚₁)\n",
    "Q₁*𝐚₁ # first column made \"sparse\""
   ]
  },
  {
   "cell_type": "code",
   "execution_count": null,
   "id": "2e476188",
   "metadata": {},
   "outputs": [],
   "source": [
    "Q₁A = Q₁*A # first column made \"sparse\"\n",
    "α₁, 𝐰₁ = Q₁A[1,1],Q₁A[1,:]\n",
    "\n",
    "R₁ = Q₁ * R₁\n",
    "A ≈ Q₁ * R₁ # partial-QR"
   ]
  },
  {
   "cell_type": "code",
   "execution_count": null,
   "id": "3ab0ee6a",
   "metadata": {},
   "outputs": [],
   "source": [
    "A₂ = Q₁A[2:end,2:end]\n",
    "𝐚₂ = A₂[:,1]\n",
    "α₂, 𝐰₂ = R₂[1,1],R₂[1,:]\n",
    "Q₂ = householderreflection(𝐚₂)\n",
    "\n",
    "Q₂ * A₂"
   ]
  },
  {
   "cell_type": "code",
   "execution_count": null,
   "id": "9e55fc74",
   "metadata": {},
   "outputs": [],
   "source": [
    "Q̃₂ = Matrix(1.0I, m, m)\n",
    "Q̃₂[2:end, 2:end] = Q₂\n",
    "\n",
    "R₂ = Q̃₂*Q₁*A # first two columns made sparse\n",
    "\n",
    "A ≈  Q₁*Q̃₂ * R₂ # partial-QR"
   ]
  },
  {
   "cell_type": "code",
   "execution_count": null,
   "id": "999e50c2",
   "metadata": {},
   "outputs": [],
   "source": [
    "A₃ = (Q₂ * A₂)[2:end,2:end]\n",
    "𝐚₃ = A₃[:,1]\n",
    "\n",
    "Q₃ = householderreflection(𝐚₃)\n",
    "Q̃₃ = Matrix(1.0I, m, m)\n",
    "Q̃₃[3:end, 3:end] = Q₃\n",
    "\n",
    "R = Q̃₃ * Q̃₂*Q₁*A # first two columns made sparse\n",
    "\n",
    "Q = Q₁*Q̃₂*Q̃₃\n",
    "\n",
    "@test A ≈ Q*R\n",
    "@test Q'Q ≈ I"
   ]
  },
  {
   "cell_type": "code",
   "execution_count": null,
   "id": "9c56a708",
   "metadata": {},
   "outputs": [],
   "source": [
    "Q₁ * Q̃₂ # Q₂ acts on just columns 2:n\n",
    "Q = copy(Q₁)\n",
    "Q[:,2:end] = Q[:,2:end] * Q₂\n",
    "@test Q == Q₁ * Q̃₂\n",
    "\n",
    "Q₁ * Q̃₂ *Q̃₃ # Q₃ acts on just columns 3:n\n",
    "Q[:,3:end] = Q[:,3:end] * Q₃\n",
    "@test Q ≈ Q₁ * Q̃₂ *Q̃₃\n",
    "\n",
    "@test A ≈ Q*R"
   ]
  },
  {
   "cell_type": "code",
   "execution_count": null,
   "id": "002c4283",
   "metadata": {},
   "outputs": [],
   "source": [
    "# algorithm\n",
    "function householderqr(A)\n",
    "\n",
    "    m,n = size(A)\n",
    "\n",
    "    T = float(eltype(A))\n",
    "    R = zeros(T, m, n)\n",
    "    Q = Matrix{T}(I, m, m)\n",
    "\n",
    "    Aⱼ = A\n",
    "\n",
    "\n",
    "    for j = 1:n\n",
    "        𝐚ⱼ = Aⱼ[:,1]\n",
    "        Qⱼ = householderreflection(𝐚ⱼ)\n",
    "        QⱼAⱼ = Qⱼ*Aⱼ # WARNING!!! O(n*m^2) operations! should be O(n*m)\n",
    "        α,𝐰 = QⱼAⱼ[1,1],QⱼAⱼ[1,2:end]\n",
    "        Aⱼ₊₁ = QⱼAⱼ[2:end,2:end]\n",
    "\n",
    "        # populate R\n",
    "        R[j,j] = α\n",
    "        R[j,j+1:end] = 𝐰\n",
    "\n",
    "        # update Q\n",
    "        Q[:,j:end] = Q[:,j:end] * Qⱼ\n",
    "\n",
    "        Aⱼ = Aⱼ₊₁\n",
    "    end\n",
    "\n",
    "    Q,R\n",
    "    \n",
    "end"
   ]
  }
 ],
 "metadata": {
  "kernelspec": {
   "display_name": "Julia 1.8.3-pre",
   "language": "julia",
   "name": "julia-1.8"
  },
  "language_info": {
   "file_extension": ".jl",
   "mimetype": "application/julia",
   "name": "julia",
   "version": "1.8.3"
  }
 },
 "nbformat": 4,
 "nbformat_minor": 5
}
