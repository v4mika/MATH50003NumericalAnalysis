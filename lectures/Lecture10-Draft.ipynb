{
 "cells": [
  {
   "cell_type": "code",
   "execution_count": 62,
   "id": "87900383",
   "metadata": {},
   "outputs": [],
   "source": [
    "using Plots, Test"
   ]
  },
  {
   "cell_type": "code",
   "execution_count": 4,
   "id": "350e9859",
   "metadata": {},
   "outputs": [
    {
     "data": {
      "image/svg+xml": [
       "<?xml version=\"1.0\" encoding=\"utf-8\"?>\n",
       "<svg xmlns=\"http://www.w3.org/2000/svg\" xmlns:xlink=\"http://www.w3.org/1999/xlink\" width=\"600\" height=\"400\" viewBox=\"0 0 2400 1600\">\n",
       "<defs>\n",
       "  <clipPath id=\"clip400\">\n",
       "    <rect x=\"0\" y=\"0\" width=\"2400\" height=\"1600\"/>\n",
       "  </clipPath>\n",
       "</defs>\n",
       "<path clip-path=\"url(#clip400)\" d=\"\n",
       "M0 1600 L2400 1600 L2400 0 L0 0  Z\n",
       "  \" fill=\"#ffffff\" fill-rule=\"evenodd\" fill-opacity=\"1\"/>\n",
       "<defs>\n",
       "  <clipPath id=\"clip401\">\n",
       "    <rect x=\"480\" y=\"0\" width=\"1681\" height=\"1600\"/>\n",
       "  </clipPath>\n",
       "</defs>\n",
       "<path clip-path=\"url(#clip400)\" d=\"\n",
       "M112.177 1486.45 L2352.76 1486.45 L2352.76 47.2441 L112.177 47.2441  Z\n",
       "  \" fill=\"#ffffff\" fill-rule=\"evenodd\" fill-opacity=\"1\"/>\n",
       "<defs>\n",
       "  <clipPath id=\"clip402\">\n",
       "    <rect x=\"112\" y=\"47\" width=\"2242\" height=\"1440\"/>\n",
       "  </clipPath>\n",
       "</defs>\n",
       "<polyline clip-path=\"url(#clip402)\" style=\"stroke:#000000; stroke-linecap:round; stroke-linejoin:round; stroke-width:2; stroke-opacity:0.1; fill:none\" points=\"\n",
       "  175.59,1486.45 175.59,47.2441 \n",
       "  \"/>\n",
       "<polyline clip-path=\"url(#clip402)\" style=\"stroke:#000000; stroke-linecap:round; stroke-linejoin:round; stroke-width:2; stroke-opacity:0.1; fill:none\" points=\"\n",
       "  704.028,1486.45 704.028,47.2441 \n",
       "  \"/>\n",
       "<polyline clip-path=\"url(#clip402)\" style=\"stroke:#000000; stroke-linecap:round; stroke-linejoin:round; stroke-width:2; stroke-opacity:0.1; fill:none\" points=\"\n",
       "  1232.47,1486.45 1232.47,47.2441 \n",
       "  \"/>\n",
       "<polyline clip-path=\"url(#clip402)\" style=\"stroke:#000000; stroke-linecap:round; stroke-linejoin:round; stroke-width:2; stroke-opacity:0.1; fill:none\" points=\"\n",
       "  1760.9,1486.45 1760.9,47.2441 \n",
       "  \"/>\n",
       "<polyline clip-path=\"url(#clip402)\" style=\"stroke:#000000; stroke-linecap:round; stroke-linejoin:round; stroke-width:2; stroke-opacity:0.1; fill:none\" points=\"\n",
       "  2289.34,1486.45 2289.34,47.2441 \n",
       "  \"/>\n",
       "<polyline clip-path=\"url(#clip400)\" style=\"stroke:#000000; stroke-linecap:round; stroke-linejoin:round; stroke-width:4; stroke-opacity:1; fill:none\" points=\"\n",
       "  112.177,1486.45 2352.76,1486.45 \n",
       "  \"/>\n",
       "<polyline clip-path=\"url(#clip400)\" style=\"stroke:#000000; stroke-linecap:round; stroke-linejoin:round; stroke-width:4; stroke-opacity:1; fill:none\" points=\"\n",
       "  175.59,1486.45 175.59,1467.55 \n",
       "  \"/>\n",
       "<polyline clip-path=\"url(#clip400)\" style=\"stroke:#000000; stroke-linecap:round; stroke-linejoin:round; stroke-width:4; stroke-opacity:1; fill:none\" points=\"\n",
       "  704.028,1486.45 704.028,1467.55 \n",
       "  \"/>\n",
       "<polyline clip-path=\"url(#clip400)\" style=\"stroke:#000000; stroke-linecap:round; stroke-linejoin:round; stroke-width:4; stroke-opacity:1; fill:none\" points=\"\n",
       "  1232.47,1486.45 1232.47,1467.55 \n",
       "  \"/>\n",
       "<polyline clip-path=\"url(#clip400)\" style=\"stroke:#000000; stroke-linecap:round; stroke-linejoin:round; stroke-width:4; stroke-opacity:1; fill:none\" points=\"\n",
       "  1760.9,1486.45 1760.9,1467.55 \n",
       "  \"/>\n",
       "<polyline clip-path=\"url(#clip400)\" style=\"stroke:#000000; stroke-linecap:round; stroke-linejoin:round; stroke-width:4; stroke-opacity:1; fill:none\" points=\"\n",
       "  2289.34,1486.45 2289.34,1467.55 \n",
       "  \"/>\n",
       "<path clip-path=\"url(#clip400)\" d=\"M137.893 1517.37 Q134.282 1517.37 132.453 1520.93 Q130.648 1524.47 130.648 1531.6 Q130.648 1538.71 132.453 1542.27 Q134.282 1545.82 137.893 1545.82 Q141.527 1545.82 143.333 1542.27 Q145.162 1538.71 145.162 1531.6 Q145.162 1524.47 143.333 1520.93 Q141.527 1517.37 137.893 1517.37 M137.893 1513.66 Q143.703 1513.66 146.759 1518.27 Q149.838 1522.85 149.838 1531.6 Q149.838 1540.33 146.759 1544.94 Q143.703 1549.52 137.893 1549.52 Q132.083 1549.52 129.004 1544.94 Q125.949 1540.33 125.949 1531.6 Q125.949 1522.85 129.004 1518.27 Q132.083 1513.66 137.893 1513.66 Z\" fill=\"#000000\" fill-rule=\"evenodd\" fill-opacity=\"1\" /><path clip-path=\"url(#clip400)\" d=\"M158.055 1542.97 L162.939 1542.97 L162.939 1548.85 L158.055 1548.85 L158.055 1542.97 Z\" fill=\"#000000\" fill-rule=\"evenodd\" fill-opacity=\"1\" /><path clip-path=\"url(#clip400)\" d=\"M183.124 1517.37 Q179.513 1517.37 177.685 1520.93 Q175.879 1524.47 175.879 1531.6 Q175.879 1538.71 177.685 1542.27 Q179.513 1545.82 183.124 1545.82 Q186.759 1545.82 188.564 1542.27 Q190.393 1538.71 190.393 1531.6 Q190.393 1524.47 188.564 1520.93 Q186.759 1517.37 183.124 1517.37 M183.124 1513.66 Q188.935 1513.66 191.99 1518.27 Q195.069 1522.85 195.069 1531.6 Q195.069 1540.33 191.99 1544.94 Q188.935 1549.52 183.124 1549.52 Q177.314 1549.52 174.236 1544.94 Q171.18 1540.33 171.18 1531.6 Q171.18 1522.85 174.236 1518.27 Q177.314 1513.66 183.124 1513.66 Z\" fill=\"#000000\" fill-rule=\"evenodd\" fill-opacity=\"1\" /><path clip-path=\"url(#clip400)\" d=\"M213.286 1517.37 Q209.675 1517.37 207.847 1520.93 Q206.041 1524.47 206.041 1531.6 Q206.041 1538.71 207.847 1542.27 Q209.675 1545.82 213.286 1545.82 Q216.921 1545.82 218.726 1542.27 Q220.555 1538.71 220.555 1531.6 Q220.555 1524.47 218.726 1520.93 Q216.921 1517.37 213.286 1517.37 M213.286 1513.66 Q219.096 1513.66 222.152 1518.27 Q225.231 1522.85 225.231 1531.6 Q225.231 1540.33 222.152 1544.94 Q219.096 1549.52 213.286 1549.52 Q207.476 1549.52 204.397 1544.94 Q201.342 1540.33 201.342 1531.6 Q201.342 1522.85 204.397 1518.27 Q207.476 1513.66 213.286 1513.66 Z\" fill=\"#000000\" fill-rule=\"evenodd\" fill-opacity=\"1\" /><path clip-path=\"url(#clip400)\" d=\"M666.829 1517.37 Q663.218 1517.37 661.39 1520.93 Q659.584 1524.47 659.584 1531.6 Q659.584 1538.71 661.39 1542.27 Q663.218 1545.82 666.829 1545.82 Q670.464 1545.82 672.269 1542.27 Q674.098 1538.71 674.098 1531.6 Q674.098 1524.47 672.269 1520.93 Q670.464 1517.37 666.829 1517.37 M666.829 1513.66 Q672.639 1513.66 675.695 1518.27 Q678.774 1522.85 678.774 1531.6 Q678.774 1540.33 675.695 1544.94 Q672.639 1549.52 666.829 1549.52 Q661.019 1549.52 657.94 1544.94 Q654.885 1540.33 654.885 1531.6 Q654.885 1522.85 657.94 1518.27 Q661.019 1513.66 666.829 1513.66 Z\" fill=\"#000000\" fill-rule=\"evenodd\" fill-opacity=\"1\" /><path clip-path=\"url(#clip400)\" d=\"M686.991 1542.97 L691.875 1542.97 L691.875 1548.85 L686.991 1548.85 L686.991 1542.97 Z\" fill=\"#000000\" fill-rule=\"evenodd\" fill-opacity=\"1\" /><path clip-path=\"url(#clip400)\" d=\"M706.088 1544.91 L722.408 1544.91 L722.408 1548.85 L700.463 1548.85 L700.463 1544.91 Q703.125 1542.16 707.709 1537.53 Q712.315 1532.88 713.496 1531.53 Q715.741 1529.01 716.621 1527.27 Q717.523 1525.51 717.523 1523.82 Q717.523 1521.07 715.579 1519.33 Q713.658 1517.6 710.556 1517.6 Q708.357 1517.6 705.903 1518.36 Q703.473 1519.13 700.695 1520.68 L700.695 1515.95 Q703.519 1514.82 705.973 1514.24 Q708.426 1513.66 710.463 1513.66 Q715.834 1513.66 719.028 1516.35 Q722.223 1519.03 722.223 1523.52 Q722.223 1525.65 721.412 1527.57 Q720.625 1529.47 718.519 1532.07 Q717.94 1532.74 714.838 1535.95 Q711.736 1539.15 706.088 1544.91 Z\" fill=\"#000000\" fill-rule=\"evenodd\" fill-opacity=\"1\" /><path clip-path=\"url(#clip400)\" d=\"M732.269 1514.29 L750.625 1514.29 L750.625 1518.22 L736.551 1518.22 L736.551 1526.7 Q737.57 1526.35 738.588 1526.19 Q739.607 1526 740.625 1526 Q746.412 1526 749.792 1529.17 Q753.171 1532.34 753.171 1537.76 Q753.171 1543.34 749.699 1546.44 Q746.227 1549.52 739.908 1549.52 Q737.732 1549.52 735.463 1549.15 Q733.218 1548.78 730.81 1548.04 L730.81 1543.34 Q732.894 1544.47 735.116 1545.03 Q737.338 1545.58 739.815 1545.58 Q743.82 1545.58 746.158 1543.48 Q748.496 1541.37 748.496 1537.76 Q748.496 1534.15 746.158 1532.04 Q743.82 1529.94 739.815 1529.94 Q737.94 1529.94 736.065 1530.35 Q734.213 1530.77 732.269 1531.65 L732.269 1514.29 Z\" fill=\"#000000\" fill-rule=\"evenodd\" fill-opacity=\"1\" /><path clip-path=\"url(#clip400)\" d=\"M1194.77 1517.37 Q1191.16 1517.37 1189.33 1520.93 Q1187.52 1524.47 1187.52 1531.6 Q1187.52 1538.71 1189.33 1542.27 Q1191.16 1545.82 1194.77 1545.82 Q1198.4 1545.82 1200.21 1542.27 Q1202.04 1538.71 1202.04 1531.6 Q1202.04 1524.47 1200.21 1520.93 Q1198.4 1517.37 1194.77 1517.37 M1194.77 1513.66 Q1200.58 1513.66 1203.64 1518.27 Q1206.71 1522.85 1206.71 1531.6 Q1206.71 1540.33 1203.64 1544.94 Q1200.58 1549.52 1194.77 1549.52 Q1188.96 1549.52 1185.88 1544.94 Q1182.83 1540.33 1182.83 1531.6 Q1182.83 1522.85 1185.88 1518.27 Q1188.96 1513.66 1194.77 1513.66 Z\" fill=\"#000000\" fill-rule=\"evenodd\" fill-opacity=\"1\" /><path clip-path=\"url(#clip400)\" d=\"M1214.93 1542.97 L1219.82 1542.97 L1219.82 1548.85 L1214.93 1548.85 L1214.93 1542.97 Z\" fill=\"#000000\" fill-rule=\"evenodd\" fill-opacity=\"1\" /><path clip-path=\"url(#clip400)\" d=\"M1230.05 1514.29 L1248.4 1514.29 L1248.4 1518.22 L1234.33 1518.22 L1234.33 1526.7 Q1235.35 1526.35 1236.37 1526.19 Q1237.39 1526 1238.4 1526 Q1244.19 1526 1247.57 1529.17 Q1250.95 1532.34 1250.95 1537.76 Q1250.95 1543.34 1247.48 1546.44 Q1244.01 1549.52 1237.69 1549.52 Q1235.51 1549.52 1233.24 1549.15 Q1231 1548.78 1228.59 1548.04 L1228.59 1543.34 Q1230.67 1544.47 1232.89 1545.03 Q1235.12 1545.58 1237.59 1545.58 Q1241.6 1545.58 1243.94 1543.48 Q1246.27 1541.37 1246.27 1537.76 Q1246.27 1534.15 1243.94 1532.04 Q1241.6 1529.94 1237.59 1529.94 Q1235.72 1529.94 1233.84 1530.35 Q1231.99 1530.77 1230.05 1531.65 L1230.05 1514.29 Z\" fill=\"#000000\" fill-rule=\"evenodd\" fill-opacity=\"1\" /><path clip-path=\"url(#clip400)\" d=\"M1270.16 1517.37 Q1266.55 1517.37 1264.72 1520.93 Q1262.92 1524.47 1262.92 1531.6 Q1262.92 1538.71 1264.72 1542.27 Q1266.55 1545.82 1270.16 1545.82 Q1273.8 1545.82 1275.6 1542.27 Q1277.43 1538.71 1277.43 1531.6 Q1277.43 1524.47 1275.6 1520.93 Q1273.8 1517.37 1270.16 1517.37 M1270.16 1513.66 Q1275.97 1513.66 1279.03 1518.27 Q1282.11 1522.85 1282.11 1531.6 Q1282.11 1540.33 1279.03 1544.94 Q1275.97 1549.52 1270.16 1549.52 Q1264.35 1549.52 1261.27 1544.94 Q1258.22 1540.33 1258.22 1531.6 Q1258.22 1522.85 1261.27 1518.27 Q1264.35 1513.66 1270.16 1513.66 Z\" fill=\"#000000\" fill-rule=\"evenodd\" fill-opacity=\"1\" /><path clip-path=\"url(#clip400)\" d=\"M1723.71 1517.37 Q1720.09 1517.37 1718.27 1520.93 Q1716.46 1524.47 1716.46 1531.6 Q1716.46 1538.71 1718.27 1542.27 Q1720.09 1545.82 1723.71 1545.82 Q1727.34 1545.82 1729.15 1542.27 Q1730.97 1538.71 1730.97 1531.6 Q1730.97 1524.47 1729.15 1520.93 Q1727.34 1517.37 1723.71 1517.37 M1723.71 1513.66 Q1729.52 1513.66 1732.57 1518.27 Q1735.65 1522.85 1735.65 1531.6 Q1735.65 1540.33 1732.57 1544.94 Q1729.52 1549.52 1723.71 1549.52 Q1717.9 1549.52 1714.82 1544.94 Q1711.76 1540.33 1711.76 1531.6 Q1711.76 1522.85 1714.82 1518.27 Q1717.9 1513.66 1723.71 1513.66 Z\" fill=\"#000000\" fill-rule=\"evenodd\" fill-opacity=\"1\" /><path clip-path=\"url(#clip400)\" d=\"M1743.87 1542.97 L1748.75 1542.97 L1748.75 1548.85 L1743.87 1548.85 L1743.87 1542.97 Z\" fill=\"#000000\" fill-rule=\"evenodd\" fill-opacity=\"1\" /><path clip-path=\"url(#clip400)\" d=\"M1757.76 1514.29 L1779.98 1514.29 L1779.98 1516.28 L1767.43 1548.85 L1762.55 1548.85 L1774.35 1518.22 L1757.76 1518.22 L1757.76 1514.29 Z\" fill=\"#000000\" fill-rule=\"evenodd\" fill-opacity=\"1\" /><path clip-path=\"url(#clip400)\" d=\"M1789.15 1514.29 L1807.5 1514.29 L1807.5 1518.22 L1793.43 1518.22 L1793.43 1526.7 Q1794.45 1526.35 1795.46 1526.19 Q1796.48 1526 1797.5 1526 Q1803.29 1526 1806.67 1529.17 Q1810.05 1532.34 1810.05 1537.76 Q1810.05 1543.34 1806.58 1546.44 Q1803.1 1549.52 1796.78 1549.52 Q1794.61 1549.52 1792.34 1549.15 Q1790.09 1548.78 1787.69 1548.04 L1787.69 1543.34 Q1789.77 1544.47 1791.99 1545.03 Q1794.21 1545.58 1796.69 1545.58 Q1800.7 1545.58 1803.03 1543.48 Q1805.37 1541.37 1805.37 1537.76 Q1805.37 1534.15 1803.03 1532.04 Q1800.7 1529.94 1796.69 1529.94 Q1794.82 1529.94 1792.94 1530.35 Q1791.09 1530.77 1789.15 1531.65 L1789.15 1514.29 Z\" fill=\"#000000\" fill-rule=\"evenodd\" fill-opacity=\"1\" /><path clip-path=\"url(#clip400)\" d=\"M2241.42 1544.91 L2249.05 1544.91 L2249.05 1518.55 L2240.74 1520.21 L2240.74 1515.95 L2249.01 1514.29 L2253.68 1514.29 L2253.68 1544.91 L2261.32 1544.91 L2261.32 1548.85 L2241.42 1548.85 L2241.42 1544.91 Z\" fill=\"#000000\" fill-rule=\"evenodd\" fill-opacity=\"1\" /><path clip-path=\"url(#clip400)\" d=\"M2270.77 1542.97 L2275.65 1542.97 L2275.65 1548.85 L2270.77 1548.85 L2270.77 1542.97 Z\" fill=\"#000000\" fill-rule=\"evenodd\" fill-opacity=\"1\" /><path clip-path=\"url(#clip400)\" d=\"M2295.84 1517.37 Q2292.23 1517.37 2290.4 1520.93 Q2288.59 1524.47 2288.59 1531.6 Q2288.59 1538.71 2290.4 1542.27 Q2292.23 1545.82 2295.84 1545.82 Q2299.47 1545.82 2301.28 1542.27 Q2303.1 1538.71 2303.1 1531.6 Q2303.1 1524.47 2301.28 1520.93 Q2299.47 1517.37 2295.84 1517.37 M2295.84 1513.66 Q2301.65 1513.66 2304.7 1518.27 Q2307.78 1522.85 2307.78 1531.6 Q2307.78 1540.33 2304.7 1544.94 Q2301.65 1549.52 2295.84 1549.52 Q2290.03 1549.52 2286.95 1544.94 Q2283.89 1540.33 2283.89 1531.6 Q2283.89 1522.85 2286.95 1518.27 Q2290.03 1513.66 2295.84 1513.66 Z\" fill=\"#000000\" fill-rule=\"evenodd\" fill-opacity=\"1\" /><path clip-path=\"url(#clip400)\" d=\"M2326 1517.37 Q2322.39 1517.37 2320.56 1520.93 Q2318.75 1524.47 2318.75 1531.6 Q2318.75 1538.71 2320.56 1542.27 Q2322.39 1545.82 2326 1545.82 Q2329.63 1545.82 2331.44 1542.27 Q2333.27 1538.71 2333.27 1531.6 Q2333.27 1524.47 2331.44 1520.93 Q2329.63 1517.37 2326 1517.37 M2326 1513.66 Q2331.81 1513.66 2334.86 1518.27 Q2337.94 1522.85 2337.94 1531.6 Q2337.94 1540.33 2334.86 1544.94 Q2331.81 1549.52 2326 1549.52 Q2320.19 1549.52 2317.11 1544.94 Q2314.05 1540.33 2314.05 1531.6 Q2314.05 1522.85 2317.11 1518.27 Q2320.19 1513.66 2326 1513.66 Z\" fill=\"#000000\" fill-rule=\"evenodd\" fill-opacity=\"1\" /><polyline clip-path=\"url(#clip402)\" style=\"stroke:#000000; stroke-linecap:round; stroke-linejoin:round; stroke-width:2; stroke-opacity:0.1; fill:none\" points=\"\n",
       "  112.177,1362.71 2352.76,1362.71 \n",
       "  \"/>\n",
       "<polyline clip-path=\"url(#clip402)\" style=\"stroke:#000000; stroke-linecap:round; stroke-linejoin:round; stroke-width:2; stroke-opacity:0.1; fill:none\" points=\"\n",
       "  112.177,951.3 2352.76,951.3 \n",
       "  \"/>\n",
       "<polyline clip-path=\"url(#clip402)\" style=\"stroke:#000000; stroke-linecap:round; stroke-linejoin:round; stroke-width:2; stroke-opacity:0.1; fill:none\" points=\"\n",
       "  112.177,539.888 2352.76,539.888 \n",
       "  \"/>\n",
       "<polyline clip-path=\"url(#clip402)\" style=\"stroke:#000000; stroke-linecap:round; stroke-linejoin:round; stroke-width:2; stroke-opacity:0.1; fill:none\" points=\"\n",
       "  112.177,128.475 2352.76,128.475 \n",
       "  \"/>\n",
       "<polyline clip-path=\"url(#clip400)\" style=\"stroke:#000000; stroke-linecap:round; stroke-linejoin:round; stroke-width:4; stroke-opacity:1; fill:none\" points=\"\n",
       "  112.177,1486.45 112.177,47.2441 \n",
       "  \"/>\n",
       "<polyline clip-path=\"url(#clip400)\" style=\"stroke:#000000; stroke-linecap:round; stroke-linejoin:round; stroke-width:4; stroke-opacity:1; fill:none\" points=\"\n",
       "  112.177,1362.71 131.075,1362.71 \n",
       "  \"/>\n",
       "<polyline clip-path=\"url(#clip400)\" style=\"stroke:#000000; stroke-linecap:round; stroke-linejoin:round; stroke-width:4; stroke-opacity:1; fill:none\" points=\"\n",
       "  112.177,951.3 131.075,951.3 \n",
       "  \"/>\n",
       "<polyline clip-path=\"url(#clip400)\" style=\"stroke:#000000; stroke-linecap:round; stroke-linejoin:round; stroke-width:4; stroke-opacity:1; fill:none\" points=\"\n",
       "  112.177,539.888 131.075,539.888 \n",
       "  \"/>\n",
       "<polyline clip-path=\"url(#clip400)\" style=\"stroke:#000000; stroke-linecap:round; stroke-linejoin:round; stroke-width:4; stroke-opacity:1; fill:none\" points=\"\n",
       "  112.177,128.475 131.075,128.475 \n",
       "  \"/>\n",
       "<path clip-path=\"url(#clip400)\" d=\"M56.2699 1376.06 L63.9087 1376.06 L63.9087 1349.69 L55.5986 1351.36 L55.5986 1347.1 L63.8624 1345.43 L68.5383 1345.43 L68.5383 1376.06 L76.1772 1376.06 L76.1772 1379.99 L56.2699 1379.99 L56.2699 1376.06 Z\" fill=\"#000000\" fill-rule=\"evenodd\" fill-opacity=\"1\" /><path clip-path=\"url(#clip400)\" d=\"M59.8578 964.645 L76.1772 964.645 L76.1772 968.58 L54.2328 968.58 L54.2328 964.645 Q56.8949 961.89 61.4782 957.261 Q66.0846 952.608 67.2652 951.265 Q69.5105 948.742 70.3902 947.006 Q71.2929 945.247 71.2929 943.557 Q71.2929 940.803 69.3485 939.066 Q67.4272 937.33 64.3254 937.33 Q62.1263 937.33 59.6726 938.094 Q57.2421 938.858 54.4643 940.409 L54.4643 935.687 Q57.2884 934.553 59.7421 933.974 Q62.1958 933.395 64.2328 933.395 Q69.6031 933.395 72.7976 936.08 Q75.992 938.766 75.992 943.256 Q75.992 945.386 75.1818 947.307 Q74.3948 949.205 72.2883 951.798 Q71.7096 952.469 68.6078 955.687 Q65.5059 958.881 59.8578 964.645 Z\" fill=\"#000000\" fill-rule=\"evenodd\" fill-opacity=\"1\" /><path clip-path=\"url(#clip400)\" d=\"M69.0476 538.533 Q72.404 539.251 74.279 541.519 Q76.1772 543.788 76.1772 547.121 Q76.1772 552.237 72.6587 555.038 Q69.1402 557.839 62.6587 557.839 Q60.4828 557.839 58.168 557.399 Q55.8764 556.982 53.4227 556.126 L53.4227 551.612 Q55.3671 552.746 57.6819 553.325 Q59.9967 553.904 62.5198 553.904 Q66.918 553.904 69.2096 552.168 Q71.5244 550.431 71.5244 547.121 Q71.5244 544.066 69.3717 542.353 Q67.242 540.617 63.4226 540.617 L59.3949 540.617 L59.3949 536.774 L63.6078 536.774 Q67.0569 536.774 68.8855 535.408 Q70.7142 534.019 70.7142 531.427 Q70.7142 528.765 68.8161 527.353 Q66.9411 525.918 63.4226 525.918 Q61.5013 525.918 59.3023 526.334 Q57.1032 526.751 54.4643 527.631 L54.4643 523.464 Q57.1264 522.723 59.4412 522.353 Q61.7791 521.983 63.8393 521.983 Q69.1633 521.983 72.2652 524.413 Q75.367 526.82 75.367 530.941 Q75.367 533.811 73.7235 535.802 Q72.08 537.769 69.0476 538.533 Z\" fill=\"#000000\" fill-rule=\"evenodd\" fill-opacity=\"1\" /><path clip-path=\"url(#clip400)\" d=\"M66.5939 115.269 L54.7884 133.718 L66.5939 133.718 L66.5939 115.269 M65.367 111.195 L71.2466 111.195 L71.2466 133.718 L76.1772 133.718 L76.1772 137.607 L71.2466 137.607 L71.2466 145.755 L66.5939 145.755 L66.5939 137.607 L50.9921 137.607 L50.9921 133.093 L65.367 111.195 Z\" fill=\"#000000\" fill-rule=\"evenodd\" fill-opacity=\"1\" /><circle clip-path=\"url(#clip402)\" cx=\"175.59\" cy=\"1346.44\" r=\"14.4\" fill=\"#009af9\" fill-rule=\"evenodd\" fill-opacity=\"1\" stroke=\"#000000\" stroke-opacity=\"1\" stroke-width=\"3.2\"/>\n",
       "<circle clip-path=\"url(#clip402)\" cx=\"186.212\" cy=\"1339.55\" r=\"14.4\" fill=\"#009af9\" fill-rule=\"evenodd\" fill-opacity=\"1\" stroke=\"#000000\" stroke-opacity=\"1\" stroke-width=\"3.2\"/>\n",
       "<circle clip-path=\"url(#clip402)\" cx=\"196.834\" cy=\"1445.72\" r=\"14.4\" fill=\"#009af9\" fill-rule=\"evenodd\" fill-opacity=\"1\" stroke=\"#000000\" stroke-opacity=\"1\" stroke-width=\"3.2\"/>\n",
       "<circle clip-path=\"url(#clip402)\" cx=\"207.455\" cy=\"1335.61\" r=\"14.4\" fill=\"#009af9\" fill-rule=\"evenodd\" fill-opacity=\"1\" stroke=\"#000000\" stroke-opacity=\"1\" stroke-width=\"3.2\"/>\n",
       "<circle clip-path=\"url(#clip402)\" cx=\"218.077\" cy=\"1320.99\" r=\"14.4\" fill=\"#009af9\" fill-rule=\"evenodd\" fill-opacity=\"1\" stroke=\"#000000\" stroke-opacity=\"1\" stroke-width=\"3.2\"/>\n",
       "<circle clip-path=\"url(#clip402)\" cx=\"228.699\" cy=\"1345.05\" r=\"14.4\" fill=\"#009af9\" fill-rule=\"evenodd\" fill-opacity=\"1\" stroke=\"#000000\" stroke-opacity=\"1\" stroke-width=\"3.2\"/>\n",
       "<circle clip-path=\"url(#clip402)\" cx=\"239.321\" cy=\"1297.83\" r=\"14.4\" fill=\"#009af9\" fill-rule=\"evenodd\" fill-opacity=\"1\" stroke=\"#000000\" stroke-opacity=\"1\" stroke-width=\"3.2\"/>\n",
       "<circle clip-path=\"url(#clip402)\" cx=\"249.943\" cy=\"1271.35\" r=\"14.4\" fill=\"#009af9\" fill-rule=\"evenodd\" fill-opacity=\"1\" stroke=\"#000000\" stroke-opacity=\"1\" stroke-width=\"3.2\"/>\n",
       "<circle clip-path=\"url(#clip402)\" cx=\"260.565\" cy=\"1347.04\" r=\"14.4\" fill=\"#009af9\" fill-rule=\"evenodd\" fill-opacity=\"1\" stroke=\"#000000\" stroke-opacity=\"1\" stroke-width=\"3.2\"/>\n",
       "<circle clip-path=\"url(#clip402)\" cx=\"271.187\" cy=\"1295.06\" r=\"14.4\" fill=\"#009af9\" fill-rule=\"evenodd\" fill-opacity=\"1\" stroke=\"#000000\" stroke-opacity=\"1\" stroke-width=\"3.2\"/>\n",
       "<circle clip-path=\"url(#clip402)\" cx=\"281.809\" cy=\"1417.71\" r=\"14.4\" fill=\"#009af9\" fill-rule=\"evenodd\" fill-opacity=\"1\" stroke=\"#000000\" stroke-opacity=\"1\" stroke-width=\"3.2\"/>\n",
       "<circle clip-path=\"url(#clip402)\" cx=\"292.43\" cy=\"1313.36\" r=\"14.4\" fill=\"#009af9\" fill-rule=\"evenodd\" fill-opacity=\"1\" stroke=\"#000000\" stroke-opacity=\"1\" stroke-width=\"3.2\"/>\n",
       "<circle clip-path=\"url(#clip402)\" cx=\"303.052\" cy=\"1339.59\" r=\"14.4\" fill=\"#009af9\" fill-rule=\"evenodd\" fill-opacity=\"1\" stroke=\"#000000\" stroke-opacity=\"1\" stroke-width=\"3.2\"/>\n",
       "<circle clip-path=\"url(#clip402)\" cx=\"313.674\" cy=\"1312.07\" r=\"14.4\" fill=\"#009af9\" fill-rule=\"evenodd\" fill-opacity=\"1\" stroke=\"#000000\" stroke-opacity=\"1\" stroke-width=\"3.2\"/>\n",
       "<circle clip-path=\"url(#clip402)\" cx=\"324.296\" cy=\"1385.41\" r=\"14.4\" fill=\"#009af9\" fill-rule=\"evenodd\" fill-opacity=\"1\" stroke=\"#000000\" stroke-opacity=\"1\" stroke-width=\"3.2\"/>\n",
       "<circle clip-path=\"url(#clip402)\" cx=\"334.918\" cy=\"1305.11\" r=\"14.4\" fill=\"#009af9\" fill-rule=\"evenodd\" fill-opacity=\"1\" stroke=\"#000000\" stroke-opacity=\"1\" stroke-width=\"3.2\"/>\n",
       "<circle clip-path=\"url(#clip402)\" cx=\"345.54\" cy=\"1236.11\" r=\"14.4\" fill=\"#009af9\" fill-rule=\"evenodd\" fill-opacity=\"1\" stroke=\"#000000\" stroke-opacity=\"1\" stroke-width=\"3.2\"/>\n",
       "<circle clip-path=\"url(#clip402)\" cx=\"356.162\" cy=\"1308.52\" r=\"14.4\" fill=\"#009af9\" fill-rule=\"evenodd\" fill-opacity=\"1\" stroke=\"#000000\" stroke-opacity=\"1\" stroke-width=\"3.2\"/>\n",
       "<circle clip-path=\"url(#clip402)\" cx=\"366.784\" cy=\"1259.73\" r=\"14.4\" fill=\"#009af9\" fill-rule=\"evenodd\" fill-opacity=\"1\" stroke=\"#000000\" stroke-opacity=\"1\" stroke-width=\"3.2\"/>\n",
       "<circle clip-path=\"url(#clip402)\" cx=\"377.405\" cy=\"1289.35\" r=\"14.4\" fill=\"#009af9\" fill-rule=\"evenodd\" fill-opacity=\"1\" stroke=\"#000000\" stroke-opacity=\"1\" stroke-width=\"3.2\"/>\n",
       "<circle clip-path=\"url(#clip402)\" cx=\"388.027\" cy=\"1237.03\" r=\"14.4\" fill=\"#009af9\" fill-rule=\"evenodd\" fill-opacity=\"1\" stroke=\"#000000\" stroke-opacity=\"1\" stroke-width=\"3.2\"/>\n",
       "<circle clip-path=\"url(#clip402)\" cx=\"398.649\" cy=\"1248.97\" r=\"14.4\" fill=\"#009af9\" fill-rule=\"evenodd\" fill-opacity=\"1\" stroke=\"#000000\" stroke-opacity=\"1\" stroke-width=\"3.2\"/>\n",
       "<circle clip-path=\"url(#clip402)\" cx=\"409.271\" cy=\"1236.53\" r=\"14.4\" fill=\"#009af9\" fill-rule=\"evenodd\" fill-opacity=\"1\" stroke=\"#000000\" stroke-opacity=\"1\" stroke-width=\"3.2\"/>\n",
       "<circle clip-path=\"url(#clip402)\" cx=\"419.893\" cy=\"1252.76\" r=\"14.4\" fill=\"#009af9\" fill-rule=\"evenodd\" fill-opacity=\"1\" stroke=\"#000000\" stroke-opacity=\"1\" stroke-width=\"3.2\"/>\n",
       "<circle clip-path=\"url(#clip402)\" cx=\"430.515\" cy=\"1280.77\" r=\"14.4\" fill=\"#009af9\" fill-rule=\"evenodd\" fill-opacity=\"1\" stroke=\"#000000\" stroke-opacity=\"1\" stroke-width=\"3.2\"/>\n",
       "<circle clip-path=\"url(#clip402)\" cx=\"441.137\" cy=\"1223.93\" r=\"14.4\" fill=\"#009af9\" fill-rule=\"evenodd\" fill-opacity=\"1\" stroke=\"#000000\" stroke-opacity=\"1\" stroke-width=\"3.2\"/>\n",
       "<circle clip-path=\"url(#clip402)\" cx=\"451.759\" cy=\"1196.74\" r=\"14.4\" fill=\"#009af9\" fill-rule=\"evenodd\" fill-opacity=\"1\" stroke=\"#000000\" stroke-opacity=\"1\" stroke-width=\"3.2\"/>\n",
       "<circle clip-path=\"url(#clip402)\" cx=\"462.38\" cy=\"1271.89\" r=\"14.4\" fill=\"#009af9\" fill-rule=\"evenodd\" fill-opacity=\"1\" stroke=\"#000000\" stroke-opacity=\"1\" stroke-width=\"3.2\"/>\n",
       "<circle clip-path=\"url(#clip402)\" cx=\"473.002\" cy=\"1231.65\" r=\"14.4\" fill=\"#009af9\" fill-rule=\"evenodd\" fill-opacity=\"1\" stroke=\"#000000\" stroke-opacity=\"1\" stroke-width=\"3.2\"/>\n",
       "<circle clip-path=\"url(#clip402)\" cx=\"483.624\" cy=\"1201.74\" r=\"14.4\" fill=\"#009af9\" fill-rule=\"evenodd\" fill-opacity=\"1\" stroke=\"#000000\" stroke-opacity=\"1\" stroke-width=\"3.2\"/>\n",
       "<circle clip-path=\"url(#clip402)\" cx=\"494.246\" cy=\"1213.36\" r=\"14.4\" fill=\"#009af9\" fill-rule=\"evenodd\" fill-opacity=\"1\" stroke=\"#000000\" stroke-opacity=\"1\" stroke-width=\"3.2\"/>\n",
       "<circle clip-path=\"url(#clip402)\" cx=\"504.868\" cy=\"1245.79\" r=\"14.4\" fill=\"#009af9\" fill-rule=\"evenodd\" fill-opacity=\"1\" stroke=\"#000000\" stroke-opacity=\"1\" stroke-width=\"3.2\"/>\n",
       "<circle clip-path=\"url(#clip402)\" cx=\"515.49\" cy=\"1248.56\" r=\"14.4\" fill=\"#009af9\" fill-rule=\"evenodd\" fill-opacity=\"1\" stroke=\"#000000\" stroke-opacity=\"1\" stroke-width=\"3.2\"/>\n",
       "<circle clip-path=\"url(#clip402)\" cx=\"526.112\" cy=\"1194.11\" r=\"14.4\" fill=\"#009af9\" fill-rule=\"evenodd\" fill-opacity=\"1\" stroke=\"#000000\" stroke-opacity=\"1\" stroke-width=\"3.2\"/>\n",
       "<circle clip-path=\"url(#clip402)\" cx=\"536.734\" cy=\"1274.93\" r=\"14.4\" fill=\"#009af9\" fill-rule=\"evenodd\" fill-opacity=\"1\" stroke=\"#000000\" stroke-opacity=\"1\" stroke-width=\"3.2\"/>\n",
       "<circle clip-path=\"url(#clip402)\" cx=\"547.355\" cy=\"1275.09\" r=\"14.4\" fill=\"#009af9\" fill-rule=\"evenodd\" fill-opacity=\"1\" stroke=\"#000000\" stroke-opacity=\"1\" stroke-width=\"3.2\"/>\n",
       "<circle clip-path=\"url(#clip402)\" cx=\"557.977\" cy=\"1237.48\" r=\"14.4\" fill=\"#009af9\" fill-rule=\"evenodd\" fill-opacity=\"1\" stroke=\"#000000\" stroke-opacity=\"1\" stroke-width=\"3.2\"/>\n",
       "<circle clip-path=\"url(#clip402)\" cx=\"568.599\" cy=\"1195.05\" r=\"14.4\" fill=\"#009af9\" fill-rule=\"evenodd\" fill-opacity=\"1\" stroke=\"#000000\" stroke-opacity=\"1\" stroke-width=\"3.2\"/>\n",
       "<circle clip-path=\"url(#clip402)\" cx=\"579.221\" cy=\"1240.01\" r=\"14.4\" fill=\"#009af9\" fill-rule=\"evenodd\" fill-opacity=\"1\" stroke=\"#000000\" stroke-opacity=\"1\" stroke-width=\"3.2\"/>\n",
       "<circle clip-path=\"url(#clip402)\" cx=\"589.843\" cy=\"1184.61\" r=\"14.4\" fill=\"#009af9\" fill-rule=\"evenodd\" fill-opacity=\"1\" stroke=\"#000000\" stroke-opacity=\"1\" stroke-width=\"3.2\"/>\n",
       "<circle clip-path=\"url(#clip402)\" cx=\"600.465\" cy=\"1111.53\" r=\"14.4\" fill=\"#009af9\" fill-rule=\"evenodd\" fill-opacity=\"1\" stroke=\"#000000\" stroke-opacity=\"1\" stroke-width=\"3.2\"/>\n",
       "<circle clip-path=\"url(#clip402)\" cx=\"611.087\" cy=\"1195.45\" r=\"14.4\" fill=\"#009af9\" fill-rule=\"evenodd\" fill-opacity=\"1\" stroke=\"#000000\" stroke-opacity=\"1\" stroke-width=\"3.2\"/>\n",
       "<circle clip-path=\"url(#clip402)\" cx=\"621.709\" cy=\"1254.77\" r=\"14.4\" fill=\"#009af9\" fill-rule=\"evenodd\" fill-opacity=\"1\" stroke=\"#000000\" stroke-opacity=\"1\" stroke-width=\"3.2\"/>\n",
       "<circle clip-path=\"url(#clip402)\" cx=\"632.33\" cy=\"1155.27\" r=\"14.4\" fill=\"#009af9\" fill-rule=\"evenodd\" fill-opacity=\"1\" stroke=\"#000000\" stroke-opacity=\"1\" stroke-width=\"3.2\"/>\n",
       "<circle clip-path=\"url(#clip402)\" cx=\"642.952\" cy=\"1090.88\" r=\"14.4\" fill=\"#009af9\" fill-rule=\"evenodd\" fill-opacity=\"1\" stroke=\"#000000\" stroke-opacity=\"1\" stroke-width=\"3.2\"/>\n",
       "<circle clip-path=\"url(#clip402)\" cx=\"653.574\" cy=\"1130.91\" r=\"14.4\" fill=\"#009af9\" fill-rule=\"evenodd\" fill-opacity=\"1\" stroke=\"#000000\" stroke-opacity=\"1\" stroke-width=\"3.2\"/>\n",
       "<circle clip-path=\"url(#clip402)\" cx=\"664.196\" cy=\"1257.99\" r=\"14.4\" fill=\"#009af9\" fill-rule=\"evenodd\" fill-opacity=\"1\" stroke=\"#000000\" stroke-opacity=\"1\" stroke-width=\"3.2\"/>\n",
       "<circle clip-path=\"url(#clip402)\" cx=\"674.818\" cy=\"1169.16\" r=\"14.4\" fill=\"#009af9\" fill-rule=\"evenodd\" fill-opacity=\"1\" stroke=\"#000000\" stroke-opacity=\"1\" stroke-width=\"3.2\"/>\n",
       "<circle clip-path=\"url(#clip402)\" cx=\"685.44\" cy=\"1141.21\" r=\"14.4\" fill=\"#009af9\" fill-rule=\"evenodd\" fill-opacity=\"1\" stroke=\"#000000\" stroke-opacity=\"1\" stroke-width=\"3.2\"/>\n",
       "<circle clip-path=\"url(#clip402)\" cx=\"696.062\" cy=\"1142.26\" r=\"14.4\" fill=\"#009af9\" fill-rule=\"evenodd\" fill-opacity=\"1\" stroke=\"#000000\" stroke-opacity=\"1\" stroke-width=\"3.2\"/>\n",
       "<circle clip-path=\"url(#clip402)\" cx=\"706.684\" cy=\"1086.47\" r=\"14.4\" fill=\"#009af9\" fill-rule=\"evenodd\" fill-opacity=\"1\" stroke=\"#000000\" stroke-opacity=\"1\" stroke-width=\"3.2\"/>\n",
       "<circle clip-path=\"url(#clip402)\" cx=\"717.306\" cy=\"1155.94\" r=\"14.4\" fill=\"#009af9\" fill-rule=\"evenodd\" fill-opacity=\"1\" stroke=\"#000000\" stroke-opacity=\"1\" stroke-width=\"3.2\"/>\n",
       "<circle clip-path=\"url(#clip402)\" cx=\"727.927\" cy=\"1077.88\" r=\"14.4\" fill=\"#009af9\" fill-rule=\"evenodd\" fill-opacity=\"1\" stroke=\"#000000\" stroke-opacity=\"1\" stroke-width=\"3.2\"/>\n",
       "<circle clip-path=\"url(#clip402)\" cx=\"738.549\" cy=\"1145.02\" r=\"14.4\" fill=\"#009af9\" fill-rule=\"evenodd\" fill-opacity=\"1\" stroke=\"#000000\" stroke-opacity=\"1\" stroke-width=\"3.2\"/>\n",
       "<circle clip-path=\"url(#clip402)\" cx=\"749.171\" cy=\"1169.27\" r=\"14.4\" fill=\"#009af9\" fill-rule=\"evenodd\" fill-opacity=\"1\" stroke=\"#000000\" stroke-opacity=\"1\" stroke-width=\"3.2\"/>\n",
       "<circle clip-path=\"url(#clip402)\" cx=\"759.793\" cy=\"1114.26\" r=\"14.4\" fill=\"#009af9\" fill-rule=\"evenodd\" fill-opacity=\"1\" stroke=\"#000000\" stroke-opacity=\"1\" stroke-width=\"3.2\"/>\n",
       "<circle clip-path=\"url(#clip402)\" cx=\"770.415\" cy=\"1107.23\" r=\"14.4\" fill=\"#009af9\" fill-rule=\"evenodd\" fill-opacity=\"1\" stroke=\"#000000\" stroke-opacity=\"1\" stroke-width=\"3.2\"/>\n",
       "<circle clip-path=\"url(#clip402)\" cx=\"781.037\" cy=\"1139.52\" r=\"14.4\" fill=\"#009af9\" fill-rule=\"evenodd\" fill-opacity=\"1\" stroke=\"#000000\" stroke-opacity=\"1\" stroke-width=\"3.2\"/>\n",
       "<circle clip-path=\"url(#clip402)\" cx=\"791.659\" cy=\"1132.04\" r=\"14.4\" fill=\"#009af9\" fill-rule=\"evenodd\" fill-opacity=\"1\" stroke=\"#000000\" stroke-opacity=\"1\" stroke-width=\"3.2\"/>\n",
       "<circle clip-path=\"url(#clip402)\" cx=\"802.281\" cy=\"1060.49\" r=\"14.4\" fill=\"#009af9\" fill-rule=\"evenodd\" fill-opacity=\"1\" stroke=\"#000000\" stroke-opacity=\"1\" stroke-width=\"3.2\"/>\n",
       "<circle clip-path=\"url(#clip402)\" cx=\"812.902\" cy=\"998.475\" r=\"14.4\" fill=\"#009af9\" fill-rule=\"evenodd\" fill-opacity=\"1\" stroke=\"#000000\" stroke-opacity=\"1\" stroke-width=\"3.2\"/>\n",
       "<circle clip-path=\"url(#clip402)\" cx=\"823.524\" cy=\"1045.69\" r=\"14.4\" fill=\"#009af9\" fill-rule=\"evenodd\" fill-opacity=\"1\" stroke=\"#000000\" stroke-opacity=\"1\" stroke-width=\"3.2\"/>\n",
       "<circle clip-path=\"url(#clip402)\" cx=\"834.146\" cy=\"1051.44\" r=\"14.4\" fill=\"#009af9\" fill-rule=\"evenodd\" fill-opacity=\"1\" stroke=\"#000000\" stroke-opacity=\"1\" stroke-width=\"3.2\"/>\n",
       "<circle clip-path=\"url(#clip402)\" cx=\"844.768\" cy=\"1056.05\" r=\"14.4\" fill=\"#009af9\" fill-rule=\"evenodd\" fill-opacity=\"1\" stroke=\"#000000\" stroke-opacity=\"1\" stroke-width=\"3.2\"/>\n",
       "<circle clip-path=\"url(#clip402)\" cx=\"855.39\" cy=\"1096.46\" r=\"14.4\" fill=\"#009af9\" fill-rule=\"evenodd\" fill-opacity=\"1\" stroke=\"#000000\" stroke-opacity=\"1\" stroke-width=\"3.2\"/>\n",
       "<circle clip-path=\"url(#clip402)\" cx=\"866.012\" cy=\"1106.92\" r=\"14.4\" fill=\"#009af9\" fill-rule=\"evenodd\" fill-opacity=\"1\" stroke=\"#000000\" stroke-opacity=\"1\" stroke-width=\"3.2\"/>\n",
       "<circle clip-path=\"url(#clip402)\" cx=\"876.634\" cy=\"1077.77\" r=\"14.4\" fill=\"#009af9\" fill-rule=\"evenodd\" fill-opacity=\"1\" stroke=\"#000000\" stroke-opacity=\"1\" stroke-width=\"3.2\"/>\n",
       "<circle clip-path=\"url(#clip402)\" cx=\"887.256\" cy=\"1047.86\" r=\"14.4\" fill=\"#009af9\" fill-rule=\"evenodd\" fill-opacity=\"1\" stroke=\"#000000\" stroke-opacity=\"1\" stroke-width=\"3.2\"/>\n",
       "<circle clip-path=\"url(#clip402)\" cx=\"897.877\" cy=\"1089.25\" r=\"14.4\" fill=\"#009af9\" fill-rule=\"evenodd\" fill-opacity=\"1\" stroke=\"#000000\" stroke-opacity=\"1\" stroke-width=\"3.2\"/>\n",
       "<circle clip-path=\"url(#clip402)\" cx=\"908.499\" cy=\"1002.31\" r=\"14.4\" fill=\"#009af9\" fill-rule=\"evenodd\" fill-opacity=\"1\" stroke=\"#000000\" stroke-opacity=\"1\" stroke-width=\"3.2\"/>\n",
       "<circle clip-path=\"url(#clip402)\" cx=\"919.121\" cy=\"1008.12\" r=\"14.4\" fill=\"#009af9\" fill-rule=\"evenodd\" fill-opacity=\"1\" stroke=\"#000000\" stroke-opacity=\"1\" stroke-width=\"3.2\"/>\n",
       "<circle clip-path=\"url(#clip402)\" cx=\"929.743\" cy=\"951.099\" r=\"14.4\" fill=\"#009af9\" fill-rule=\"evenodd\" fill-opacity=\"1\" stroke=\"#000000\" stroke-opacity=\"1\" stroke-width=\"3.2\"/>\n",
       "<circle clip-path=\"url(#clip402)\" cx=\"940.365\" cy=\"980.375\" r=\"14.4\" fill=\"#009af9\" fill-rule=\"evenodd\" fill-opacity=\"1\" stroke=\"#000000\" stroke-opacity=\"1\" stroke-width=\"3.2\"/>\n",
       "<circle clip-path=\"url(#clip402)\" cx=\"950.987\" cy=\"969.987\" r=\"14.4\" fill=\"#009af9\" fill-rule=\"evenodd\" fill-opacity=\"1\" stroke=\"#000000\" stroke-opacity=\"1\" stroke-width=\"3.2\"/>\n",
       "<circle clip-path=\"url(#clip402)\" cx=\"961.609\" cy=\"1049.75\" r=\"14.4\" fill=\"#009af9\" fill-rule=\"evenodd\" fill-opacity=\"1\" stroke=\"#000000\" stroke-opacity=\"1\" stroke-width=\"3.2\"/>\n",
       "<circle clip-path=\"url(#clip402)\" cx=\"972.231\" cy=\"972.689\" r=\"14.4\" fill=\"#009af9\" fill-rule=\"evenodd\" fill-opacity=\"1\" stroke=\"#000000\" stroke-opacity=\"1\" stroke-width=\"3.2\"/>\n",
       "<circle clip-path=\"url(#clip402)\" cx=\"982.852\" cy=\"982.211\" r=\"14.4\" fill=\"#009af9\" fill-rule=\"evenodd\" fill-opacity=\"1\" stroke=\"#000000\" stroke-opacity=\"1\" stroke-width=\"3.2\"/>\n",
       "<circle clip-path=\"url(#clip402)\" cx=\"993.474\" cy=\"905.559\" r=\"14.4\" fill=\"#009af9\" fill-rule=\"evenodd\" fill-opacity=\"1\" stroke=\"#000000\" stroke-opacity=\"1\" stroke-width=\"3.2\"/>\n",
       "<circle clip-path=\"url(#clip402)\" cx=\"1004.1\" cy=\"1085.29\" r=\"14.4\" fill=\"#009af9\" fill-rule=\"evenodd\" fill-opacity=\"1\" stroke=\"#000000\" stroke-opacity=\"1\" stroke-width=\"3.2\"/>\n",
       "<circle clip-path=\"url(#clip402)\" cx=\"1014.72\" cy=\"961.677\" r=\"14.4\" fill=\"#009af9\" fill-rule=\"evenodd\" fill-opacity=\"1\" stroke=\"#000000\" stroke-opacity=\"1\" stroke-width=\"3.2\"/>\n",
       "<circle clip-path=\"url(#clip402)\" cx=\"1025.34\" cy=\"915.751\" r=\"14.4\" fill=\"#009af9\" fill-rule=\"evenodd\" fill-opacity=\"1\" stroke=\"#000000\" stroke-opacity=\"1\" stroke-width=\"3.2\"/>\n",
       "<circle clip-path=\"url(#clip402)\" cx=\"1035.96\" cy=\"940.981\" r=\"14.4\" fill=\"#009af9\" fill-rule=\"evenodd\" fill-opacity=\"1\" stroke=\"#000000\" stroke-opacity=\"1\" stroke-width=\"3.2\"/>\n",
       "<circle clip-path=\"url(#clip402)\" cx=\"1046.58\" cy=\"967.912\" r=\"14.4\" fill=\"#009af9\" fill-rule=\"evenodd\" fill-opacity=\"1\" stroke=\"#000000\" stroke-opacity=\"1\" stroke-width=\"3.2\"/>\n",
       "<circle clip-path=\"url(#clip402)\" cx=\"1057.21\" cy=\"950.038\" r=\"14.4\" fill=\"#009af9\" fill-rule=\"evenodd\" fill-opacity=\"1\" stroke=\"#000000\" stroke-opacity=\"1\" stroke-width=\"3.2\"/>\n",
       "<circle clip-path=\"url(#clip402)\" cx=\"1067.83\" cy=\"974.792\" r=\"14.4\" fill=\"#009af9\" fill-rule=\"evenodd\" fill-opacity=\"1\" stroke=\"#000000\" stroke-opacity=\"1\" stroke-width=\"3.2\"/>\n",
       "<circle clip-path=\"url(#clip402)\" cx=\"1078.45\" cy=\"956.579\" r=\"14.4\" fill=\"#009af9\" fill-rule=\"evenodd\" fill-opacity=\"1\" stroke=\"#000000\" stroke-opacity=\"1\" stroke-width=\"3.2\"/>\n",
       "<circle clip-path=\"url(#clip402)\" cx=\"1089.07\" cy=\"922.841\" r=\"14.4\" fill=\"#009af9\" fill-rule=\"evenodd\" fill-opacity=\"1\" stroke=\"#000000\" stroke-opacity=\"1\" stroke-width=\"3.2\"/>\n",
       "<circle clip-path=\"url(#clip402)\" cx=\"1099.69\" cy=\"853.607\" r=\"14.4\" fill=\"#009af9\" fill-rule=\"evenodd\" fill-opacity=\"1\" stroke=\"#000000\" stroke-opacity=\"1\" stroke-width=\"3.2\"/>\n",
       "<circle clip-path=\"url(#clip402)\" cx=\"1110.31\" cy=\"919.912\" r=\"14.4\" fill=\"#009af9\" fill-rule=\"evenodd\" fill-opacity=\"1\" stroke=\"#000000\" stroke-opacity=\"1\" stroke-width=\"3.2\"/>\n",
       "<circle clip-path=\"url(#clip402)\" cx=\"1120.94\" cy=\"852.054\" r=\"14.4\" fill=\"#009af9\" fill-rule=\"evenodd\" fill-opacity=\"1\" stroke=\"#000000\" stroke-opacity=\"1\" stroke-width=\"3.2\"/>\n",
       "<circle clip-path=\"url(#clip402)\" cx=\"1131.56\" cy=\"882.711\" r=\"14.4\" fill=\"#009af9\" fill-rule=\"evenodd\" fill-opacity=\"1\" stroke=\"#000000\" stroke-opacity=\"1\" stroke-width=\"3.2\"/>\n",
       "<circle clip-path=\"url(#clip402)\" cx=\"1142.18\" cy=\"903.074\" r=\"14.4\" fill=\"#009af9\" fill-rule=\"evenodd\" fill-opacity=\"1\" stroke=\"#000000\" stroke-opacity=\"1\" stroke-width=\"3.2\"/>\n",
       "<circle clip-path=\"url(#clip402)\" cx=\"1152.8\" cy=\"934.092\" r=\"14.4\" fill=\"#009af9\" fill-rule=\"evenodd\" fill-opacity=\"1\" stroke=\"#000000\" stroke-opacity=\"1\" stroke-width=\"3.2\"/>\n",
       "<circle clip-path=\"url(#clip402)\" cx=\"1163.42\" cy=\"824.815\" r=\"14.4\" fill=\"#009af9\" fill-rule=\"evenodd\" fill-opacity=\"1\" stroke=\"#000000\" stroke-opacity=\"1\" stroke-width=\"3.2\"/>\n",
       "<circle clip-path=\"url(#clip402)\" cx=\"1174.05\" cy=\"952.702\" r=\"14.4\" fill=\"#009af9\" fill-rule=\"evenodd\" fill-opacity=\"1\" stroke=\"#000000\" stroke-opacity=\"1\" stroke-width=\"3.2\"/>\n",
       "<circle clip-path=\"url(#clip402)\" cx=\"1184.67\" cy=\"778.627\" r=\"14.4\" fill=\"#009af9\" fill-rule=\"evenodd\" fill-opacity=\"1\" stroke=\"#000000\" stroke-opacity=\"1\" stroke-width=\"3.2\"/>\n",
       "<circle clip-path=\"url(#clip402)\" cx=\"1195.29\" cy=\"839.53\" r=\"14.4\" fill=\"#009af9\" fill-rule=\"evenodd\" fill-opacity=\"1\" stroke=\"#000000\" stroke-opacity=\"1\" stroke-width=\"3.2\"/>\n",
       "<circle clip-path=\"url(#clip402)\" cx=\"1205.91\" cy=\"829.385\" r=\"14.4\" fill=\"#009af9\" fill-rule=\"evenodd\" fill-opacity=\"1\" stroke=\"#000000\" stroke-opacity=\"1\" stroke-width=\"3.2\"/>\n",
       "<circle clip-path=\"url(#clip402)\" cx=\"1216.53\" cy=\"849.771\" r=\"14.4\" fill=\"#009af9\" fill-rule=\"evenodd\" fill-opacity=\"1\" stroke=\"#000000\" stroke-opacity=\"1\" stroke-width=\"3.2\"/>\n",
       "<circle clip-path=\"url(#clip402)\" cx=\"1227.16\" cy=\"860.064\" r=\"14.4\" fill=\"#009af9\" fill-rule=\"evenodd\" fill-opacity=\"1\" stroke=\"#000000\" stroke-opacity=\"1\" stroke-width=\"3.2\"/>\n",
       "<circle clip-path=\"url(#clip402)\" cx=\"1237.78\" cy=\"823.362\" r=\"14.4\" fill=\"#009af9\" fill-rule=\"evenodd\" fill-opacity=\"1\" stroke=\"#000000\" stroke-opacity=\"1\" stroke-width=\"3.2\"/>\n",
       "<circle clip-path=\"url(#clip402)\" cx=\"1248.4\" cy=\"873.633\" r=\"14.4\" fill=\"#009af9\" fill-rule=\"evenodd\" fill-opacity=\"1\" stroke=\"#000000\" stroke-opacity=\"1\" stroke-width=\"3.2\"/>\n",
       "<circle clip-path=\"url(#clip402)\" cx=\"1259.02\" cy=\"896.823\" r=\"14.4\" fill=\"#009af9\" fill-rule=\"evenodd\" fill-opacity=\"1\" stroke=\"#000000\" stroke-opacity=\"1\" stroke-width=\"3.2\"/>\n",
       "<circle clip-path=\"url(#clip402)\" cx=\"1269.64\" cy=\"810.415\" r=\"14.4\" fill=\"#009af9\" fill-rule=\"evenodd\" fill-opacity=\"1\" stroke=\"#000000\" stroke-opacity=\"1\" stroke-width=\"3.2\"/>\n",
       "<circle clip-path=\"url(#clip402)\" cx=\"1280.26\" cy=\"799.796\" r=\"14.4\" fill=\"#009af9\" fill-rule=\"evenodd\" fill-opacity=\"1\" stroke=\"#000000\" stroke-opacity=\"1\" stroke-width=\"3.2\"/>\n",
       "<circle clip-path=\"url(#clip402)\" cx=\"1290.89\" cy=\"875.345\" r=\"14.4\" fill=\"#009af9\" fill-rule=\"evenodd\" fill-opacity=\"1\" stroke=\"#000000\" stroke-opacity=\"1\" stroke-width=\"3.2\"/>\n",
       "<circle clip-path=\"url(#clip402)\" cx=\"1301.51\" cy=\"746.531\" r=\"14.4\" fill=\"#009af9\" fill-rule=\"evenodd\" fill-opacity=\"1\" stroke=\"#000000\" stroke-opacity=\"1\" stroke-width=\"3.2\"/>\n",
       "<circle clip-path=\"url(#clip402)\" cx=\"1312.13\" cy=\"831.867\" r=\"14.4\" fill=\"#009af9\" fill-rule=\"evenodd\" fill-opacity=\"1\" stroke=\"#000000\" stroke-opacity=\"1\" stroke-width=\"3.2\"/>\n",
       "<circle clip-path=\"url(#clip402)\" cx=\"1322.75\" cy=\"749.102\" r=\"14.4\" fill=\"#009af9\" fill-rule=\"evenodd\" fill-opacity=\"1\" stroke=\"#000000\" stroke-opacity=\"1\" stroke-width=\"3.2\"/>\n",
       "<circle clip-path=\"url(#clip402)\" cx=\"1333.37\" cy=\"778.346\" r=\"14.4\" fill=\"#009af9\" fill-rule=\"evenodd\" fill-opacity=\"1\" stroke=\"#000000\" stroke-opacity=\"1\" stroke-width=\"3.2\"/>\n",
       "<circle clip-path=\"url(#clip402)\" cx=\"1344\" cy=\"832.922\" r=\"14.4\" fill=\"#009af9\" fill-rule=\"evenodd\" fill-opacity=\"1\" stroke=\"#000000\" stroke-opacity=\"1\" stroke-width=\"3.2\"/>\n",
       "<circle clip-path=\"url(#clip402)\" cx=\"1354.62\" cy=\"775.277\" r=\"14.4\" fill=\"#009af9\" fill-rule=\"evenodd\" fill-opacity=\"1\" stroke=\"#000000\" stroke-opacity=\"1\" stroke-width=\"3.2\"/>\n",
       "<circle clip-path=\"url(#clip402)\" cx=\"1365.24\" cy=\"744.085\" r=\"14.4\" fill=\"#009af9\" fill-rule=\"evenodd\" fill-opacity=\"1\" stroke=\"#000000\" stroke-opacity=\"1\" stroke-width=\"3.2\"/>\n",
       "<circle clip-path=\"url(#clip402)\" cx=\"1375.86\" cy=\"698.916\" r=\"14.4\" fill=\"#009af9\" fill-rule=\"evenodd\" fill-opacity=\"1\" stroke=\"#000000\" stroke-opacity=\"1\" stroke-width=\"3.2\"/>\n",
       "<circle clip-path=\"url(#clip402)\" cx=\"1386.48\" cy=\"737.135\" r=\"14.4\" fill=\"#009af9\" fill-rule=\"evenodd\" fill-opacity=\"1\" stroke=\"#000000\" stroke-opacity=\"1\" stroke-width=\"3.2\"/>\n",
       "<circle clip-path=\"url(#clip402)\" cx=\"1397.11\" cy=\"722.165\" r=\"14.4\" fill=\"#009af9\" fill-rule=\"evenodd\" fill-opacity=\"1\" stroke=\"#000000\" stroke-opacity=\"1\" stroke-width=\"3.2\"/>\n",
       "<circle clip-path=\"url(#clip402)\" cx=\"1407.73\" cy=\"675.294\" r=\"14.4\" fill=\"#009af9\" fill-rule=\"evenodd\" fill-opacity=\"1\" stroke=\"#000000\" stroke-opacity=\"1\" stroke-width=\"3.2\"/>\n",
       "<circle clip-path=\"url(#clip402)\" cx=\"1418.35\" cy=\"723.554\" r=\"14.4\" fill=\"#009af9\" fill-rule=\"evenodd\" fill-opacity=\"1\" stroke=\"#000000\" stroke-opacity=\"1\" stroke-width=\"3.2\"/>\n",
       "<circle clip-path=\"url(#clip402)\" cx=\"1428.97\" cy=\"723.192\" r=\"14.4\" fill=\"#009af9\" fill-rule=\"evenodd\" fill-opacity=\"1\" stroke=\"#000000\" stroke-opacity=\"1\" stroke-width=\"3.2\"/>\n",
       "<circle clip-path=\"url(#clip402)\" cx=\"1439.59\" cy=\"743.07\" r=\"14.4\" fill=\"#009af9\" fill-rule=\"evenodd\" fill-opacity=\"1\" stroke=\"#000000\" stroke-opacity=\"1\" stroke-width=\"3.2\"/>\n",
       "<circle clip-path=\"url(#clip402)\" cx=\"1450.22\" cy=\"740.306\" r=\"14.4\" fill=\"#009af9\" fill-rule=\"evenodd\" fill-opacity=\"1\" stroke=\"#000000\" stroke-opacity=\"1\" stroke-width=\"3.2\"/>\n",
       "<circle clip-path=\"url(#clip402)\" cx=\"1460.84\" cy=\"647.528\" r=\"14.4\" fill=\"#009af9\" fill-rule=\"evenodd\" fill-opacity=\"1\" stroke=\"#000000\" stroke-opacity=\"1\" stroke-width=\"3.2\"/>\n",
       "<circle clip-path=\"url(#clip402)\" cx=\"1471.46\" cy=\"730.89\" r=\"14.4\" fill=\"#009af9\" fill-rule=\"evenodd\" fill-opacity=\"1\" stroke=\"#000000\" stroke-opacity=\"1\" stroke-width=\"3.2\"/>\n",
       "<circle clip-path=\"url(#clip402)\" cx=\"1482.08\" cy=\"800.089\" r=\"14.4\" fill=\"#009af9\" fill-rule=\"evenodd\" fill-opacity=\"1\" stroke=\"#000000\" stroke-opacity=\"1\" stroke-width=\"3.2\"/>\n",
       "<circle clip-path=\"url(#clip402)\" cx=\"1492.7\" cy=\"678.791\" r=\"14.4\" fill=\"#009af9\" fill-rule=\"evenodd\" fill-opacity=\"1\" stroke=\"#000000\" stroke-opacity=\"1\" stroke-width=\"3.2\"/>\n",
       "<circle clip-path=\"url(#clip402)\" cx=\"1503.32\" cy=\"680.272\" r=\"14.4\" fill=\"#009af9\" fill-rule=\"evenodd\" fill-opacity=\"1\" stroke=\"#000000\" stroke-opacity=\"1\" stroke-width=\"3.2\"/>\n",
       "<circle clip-path=\"url(#clip402)\" cx=\"1513.95\" cy=\"689.834\" r=\"14.4\" fill=\"#009af9\" fill-rule=\"evenodd\" fill-opacity=\"1\" stroke=\"#000000\" stroke-opacity=\"1\" stroke-width=\"3.2\"/>\n",
       "<circle clip-path=\"url(#clip402)\" cx=\"1524.57\" cy=\"633.763\" r=\"14.4\" fill=\"#009af9\" fill-rule=\"evenodd\" fill-opacity=\"1\" stroke=\"#000000\" stroke-opacity=\"1\" stroke-width=\"3.2\"/>\n",
       "<circle clip-path=\"url(#clip402)\" cx=\"1535.19\" cy=\"587.323\" r=\"14.4\" fill=\"#009af9\" fill-rule=\"evenodd\" fill-opacity=\"1\" stroke=\"#000000\" stroke-opacity=\"1\" stroke-width=\"3.2\"/>\n",
       "<circle clip-path=\"url(#clip402)\" cx=\"1545.81\" cy=\"576.818\" r=\"14.4\" fill=\"#009af9\" fill-rule=\"evenodd\" fill-opacity=\"1\" stroke=\"#000000\" stroke-opacity=\"1\" stroke-width=\"3.2\"/>\n",
       "<circle clip-path=\"url(#clip402)\" cx=\"1556.43\" cy=\"622.578\" r=\"14.4\" fill=\"#009af9\" fill-rule=\"evenodd\" fill-opacity=\"1\" stroke=\"#000000\" stroke-opacity=\"1\" stroke-width=\"3.2\"/>\n",
       "<circle clip-path=\"url(#clip402)\" cx=\"1567.06\" cy=\"618.79\" r=\"14.4\" fill=\"#009af9\" fill-rule=\"evenodd\" fill-opacity=\"1\" stroke=\"#000000\" stroke-opacity=\"1\" stroke-width=\"3.2\"/>\n",
       "<circle clip-path=\"url(#clip402)\" cx=\"1577.68\" cy=\"645.134\" r=\"14.4\" fill=\"#009af9\" fill-rule=\"evenodd\" fill-opacity=\"1\" stroke=\"#000000\" stroke-opacity=\"1\" stroke-width=\"3.2\"/>\n",
       "<circle clip-path=\"url(#clip402)\" cx=\"1588.3\" cy=\"640.429\" r=\"14.4\" fill=\"#009af9\" fill-rule=\"evenodd\" fill-opacity=\"1\" stroke=\"#000000\" stroke-opacity=\"1\" stroke-width=\"3.2\"/>\n",
       "<circle clip-path=\"url(#clip402)\" cx=\"1598.92\" cy=\"603.379\" r=\"14.4\" fill=\"#009af9\" fill-rule=\"evenodd\" fill-opacity=\"1\" stroke=\"#000000\" stroke-opacity=\"1\" stroke-width=\"3.2\"/>\n",
       "<circle clip-path=\"url(#clip402)\" cx=\"1609.54\" cy=\"656.3\" r=\"14.4\" fill=\"#009af9\" fill-rule=\"evenodd\" fill-opacity=\"1\" stroke=\"#000000\" stroke-opacity=\"1\" stroke-width=\"3.2\"/>\n",
       "<circle clip-path=\"url(#clip402)\" cx=\"1620.17\" cy=\"611.4\" r=\"14.4\" fill=\"#009af9\" fill-rule=\"evenodd\" fill-opacity=\"1\" stroke=\"#000000\" stroke-opacity=\"1\" stroke-width=\"3.2\"/>\n",
       "<circle clip-path=\"url(#clip402)\" cx=\"1630.79\" cy=\"596.049\" r=\"14.4\" fill=\"#009af9\" fill-rule=\"evenodd\" fill-opacity=\"1\" stroke=\"#000000\" stroke-opacity=\"1\" stroke-width=\"3.2\"/>\n",
       "<circle clip-path=\"url(#clip402)\" cx=\"1641.41\" cy=\"603.265\" r=\"14.4\" fill=\"#009af9\" fill-rule=\"evenodd\" fill-opacity=\"1\" stroke=\"#000000\" stroke-opacity=\"1\" stroke-width=\"3.2\"/>\n",
       "<circle clip-path=\"url(#clip402)\" cx=\"1652.03\" cy=\"585.011\" r=\"14.4\" fill=\"#009af9\" fill-rule=\"evenodd\" fill-opacity=\"1\" stroke=\"#000000\" stroke-opacity=\"1\" stroke-width=\"3.2\"/>\n",
       "<circle clip-path=\"url(#clip402)\" cx=\"1662.65\" cy=\"554.552\" r=\"14.4\" fill=\"#009af9\" fill-rule=\"evenodd\" fill-opacity=\"1\" stroke=\"#000000\" stroke-opacity=\"1\" stroke-width=\"3.2\"/>\n",
       "<circle clip-path=\"url(#clip402)\" cx=\"1673.27\" cy=\"616.779\" r=\"14.4\" fill=\"#009af9\" fill-rule=\"evenodd\" fill-opacity=\"1\" stroke=\"#000000\" stroke-opacity=\"1\" stroke-width=\"3.2\"/>\n",
       "<circle clip-path=\"url(#clip402)\" cx=\"1683.9\" cy=\"594.303\" r=\"14.4\" fill=\"#009af9\" fill-rule=\"evenodd\" fill-opacity=\"1\" stroke=\"#000000\" stroke-opacity=\"1\" stroke-width=\"3.2\"/>\n",
       "<circle clip-path=\"url(#clip402)\" cx=\"1694.52\" cy=\"524.783\" r=\"14.4\" fill=\"#009af9\" fill-rule=\"evenodd\" fill-opacity=\"1\" stroke=\"#000000\" stroke-opacity=\"1\" stroke-width=\"3.2\"/>\n",
       "<circle clip-path=\"url(#clip402)\" cx=\"1705.14\" cy=\"574.089\" r=\"14.4\" fill=\"#009af9\" fill-rule=\"evenodd\" fill-opacity=\"1\" stroke=\"#000000\" stroke-opacity=\"1\" stroke-width=\"3.2\"/>\n",
       "<circle clip-path=\"url(#clip402)\" cx=\"1715.76\" cy=\"576.743\" r=\"14.4\" fill=\"#009af9\" fill-rule=\"evenodd\" fill-opacity=\"1\" stroke=\"#000000\" stroke-opacity=\"1\" stroke-width=\"3.2\"/>\n",
       "<circle clip-path=\"url(#clip402)\" cx=\"1726.38\" cy=\"488.87\" r=\"14.4\" fill=\"#009af9\" fill-rule=\"evenodd\" fill-opacity=\"1\" stroke=\"#000000\" stroke-opacity=\"1\" stroke-width=\"3.2\"/>\n",
       "<circle clip-path=\"url(#clip402)\" cx=\"1737.01\" cy=\"533.857\" r=\"14.4\" fill=\"#009af9\" fill-rule=\"evenodd\" fill-opacity=\"1\" stroke=\"#000000\" stroke-opacity=\"1\" stroke-width=\"3.2\"/>\n",
       "<circle clip-path=\"url(#clip402)\" cx=\"1747.63\" cy=\"535.396\" r=\"14.4\" fill=\"#009af9\" fill-rule=\"evenodd\" fill-opacity=\"1\" stroke=\"#000000\" stroke-opacity=\"1\" stroke-width=\"3.2\"/>\n",
       "<circle clip-path=\"url(#clip402)\" cx=\"1758.25\" cy=\"494.523\" r=\"14.4\" fill=\"#009af9\" fill-rule=\"evenodd\" fill-opacity=\"1\" stroke=\"#000000\" stroke-opacity=\"1\" stroke-width=\"3.2\"/>\n",
       "<circle clip-path=\"url(#clip402)\" cx=\"1768.87\" cy=\"517.373\" r=\"14.4\" fill=\"#009af9\" fill-rule=\"evenodd\" fill-opacity=\"1\" stroke=\"#000000\" stroke-opacity=\"1\" stroke-width=\"3.2\"/>\n",
       "<circle clip-path=\"url(#clip402)\" cx=\"1779.49\" cy=\"516.993\" r=\"14.4\" fill=\"#009af9\" fill-rule=\"evenodd\" fill-opacity=\"1\" stroke=\"#000000\" stroke-opacity=\"1\" stroke-width=\"3.2\"/>\n",
       "<circle clip-path=\"url(#clip402)\" cx=\"1790.12\" cy=\"450.81\" r=\"14.4\" fill=\"#009af9\" fill-rule=\"evenodd\" fill-opacity=\"1\" stroke=\"#000000\" stroke-opacity=\"1\" stroke-width=\"3.2\"/>\n",
       "<circle clip-path=\"url(#clip402)\" cx=\"1800.74\" cy=\"474.479\" r=\"14.4\" fill=\"#009af9\" fill-rule=\"evenodd\" fill-opacity=\"1\" stroke=\"#000000\" stroke-opacity=\"1\" stroke-width=\"3.2\"/>\n",
       "<circle clip-path=\"url(#clip402)\" cx=\"1811.36\" cy=\"528.318\" r=\"14.4\" fill=\"#009af9\" fill-rule=\"evenodd\" fill-opacity=\"1\" stroke=\"#000000\" stroke-opacity=\"1\" stroke-width=\"3.2\"/>\n",
       "<circle clip-path=\"url(#clip402)\" cx=\"1821.98\" cy=\"453.18\" r=\"14.4\" fill=\"#009af9\" fill-rule=\"evenodd\" fill-opacity=\"1\" stroke=\"#000000\" stroke-opacity=\"1\" stroke-width=\"3.2\"/>\n",
       "<circle clip-path=\"url(#clip402)\" cx=\"1832.6\" cy=\"512.631\" r=\"14.4\" fill=\"#009af9\" fill-rule=\"evenodd\" fill-opacity=\"1\" stroke=\"#000000\" stroke-opacity=\"1\" stroke-width=\"3.2\"/>\n",
       "<circle clip-path=\"url(#clip402)\" cx=\"1843.22\" cy=\"462.462\" r=\"14.4\" fill=\"#009af9\" fill-rule=\"evenodd\" fill-opacity=\"1\" stroke=\"#000000\" stroke-opacity=\"1\" stroke-width=\"3.2\"/>\n",
       "<circle clip-path=\"url(#clip402)\" cx=\"1853.85\" cy=\"454.247\" r=\"14.4\" fill=\"#009af9\" fill-rule=\"evenodd\" fill-opacity=\"1\" stroke=\"#000000\" stroke-opacity=\"1\" stroke-width=\"3.2\"/>\n",
       "<circle clip-path=\"url(#clip402)\" cx=\"1864.47\" cy=\"467.087\" r=\"14.4\" fill=\"#009af9\" fill-rule=\"evenodd\" fill-opacity=\"1\" stroke=\"#000000\" stroke-opacity=\"1\" stroke-width=\"3.2\"/>\n",
       "<circle clip-path=\"url(#clip402)\" cx=\"1875.09\" cy=\"417.286\" r=\"14.4\" fill=\"#009af9\" fill-rule=\"evenodd\" fill-opacity=\"1\" stroke=\"#000000\" stroke-opacity=\"1\" stroke-width=\"3.2\"/>\n",
       "<circle clip-path=\"url(#clip402)\" cx=\"1885.71\" cy=\"378.147\" r=\"14.4\" fill=\"#009af9\" fill-rule=\"evenodd\" fill-opacity=\"1\" stroke=\"#000000\" stroke-opacity=\"1\" stroke-width=\"3.2\"/>\n",
       "<circle clip-path=\"url(#clip402)\" cx=\"1896.33\" cy=\"467.983\" r=\"14.4\" fill=\"#009af9\" fill-rule=\"evenodd\" fill-opacity=\"1\" stroke=\"#000000\" stroke-opacity=\"1\" stroke-width=\"3.2\"/>\n",
       "<circle clip-path=\"url(#clip402)\" cx=\"1906.96\" cy=\"409.023\" r=\"14.4\" fill=\"#009af9\" fill-rule=\"evenodd\" fill-opacity=\"1\" stroke=\"#000000\" stroke-opacity=\"1\" stroke-width=\"3.2\"/>\n",
       "<circle clip-path=\"url(#clip402)\" cx=\"1917.58\" cy=\"454.529\" r=\"14.4\" fill=\"#009af9\" fill-rule=\"evenodd\" fill-opacity=\"1\" stroke=\"#000000\" stroke-opacity=\"1\" stroke-width=\"3.2\"/>\n",
       "<circle clip-path=\"url(#clip402)\" cx=\"1928.2\" cy=\"410.563\" r=\"14.4\" fill=\"#009af9\" fill-rule=\"evenodd\" fill-opacity=\"1\" stroke=\"#000000\" stroke-opacity=\"1\" stroke-width=\"3.2\"/>\n",
       "<circle clip-path=\"url(#clip402)\" cx=\"1938.82\" cy=\"392.717\" r=\"14.4\" fill=\"#009af9\" fill-rule=\"evenodd\" fill-opacity=\"1\" stroke=\"#000000\" stroke-opacity=\"1\" stroke-width=\"3.2\"/>\n",
       "<circle clip-path=\"url(#clip402)\" cx=\"1949.44\" cy=\"415.794\" r=\"14.4\" fill=\"#009af9\" fill-rule=\"evenodd\" fill-opacity=\"1\" stroke=\"#000000\" stroke-opacity=\"1\" stroke-width=\"3.2\"/>\n",
       "<circle clip-path=\"url(#clip402)\" cx=\"1960.07\" cy=\"441.354\" r=\"14.4\" fill=\"#009af9\" fill-rule=\"evenodd\" fill-opacity=\"1\" stroke=\"#000000\" stroke-opacity=\"1\" stroke-width=\"3.2\"/>\n",
       "<circle clip-path=\"url(#clip402)\" cx=\"1970.69\" cy=\"391.828\" r=\"14.4\" fill=\"#009af9\" fill-rule=\"evenodd\" fill-opacity=\"1\" stroke=\"#000000\" stroke-opacity=\"1\" stroke-width=\"3.2\"/>\n",
       "<circle clip-path=\"url(#clip402)\" cx=\"1981.31\" cy=\"423.949\" r=\"14.4\" fill=\"#009af9\" fill-rule=\"evenodd\" fill-opacity=\"1\" stroke=\"#000000\" stroke-opacity=\"1\" stroke-width=\"3.2\"/>\n",
       "<circle clip-path=\"url(#clip402)\" cx=\"1991.93\" cy=\"278.776\" r=\"14.4\" fill=\"#009af9\" fill-rule=\"evenodd\" fill-opacity=\"1\" stroke=\"#000000\" stroke-opacity=\"1\" stroke-width=\"3.2\"/>\n",
       "<circle clip-path=\"url(#clip402)\" cx=\"2002.55\" cy=\"360.107\" r=\"14.4\" fill=\"#009af9\" fill-rule=\"evenodd\" fill-opacity=\"1\" stroke=\"#000000\" stroke-opacity=\"1\" stroke-width=\"3.2\"/>\n",
       "<circle clip-path=\"url(#clip402)\" cx=\"2013.17\" cy=\"338.843\" r=\"14.4\" fill=\"#009af9\" fill-rule=\"evenodd\" fill-opacity=\"1\" stroke=\"#000000\" stroke-opacity=\"1\" stroke-width=\"3.2\"/>\n",
       "<circle clip-path=\"url(#clip402)\" cx=\"2023.8\" cy=\"367.2\" r=\"14.4\" fill=\"#009af9\" fill-rule=\"evenodd\" fill-opacity=\"1\" stroke=\"#000000\" stroke-opacity=\"1\" stroke-width=\"3.2\"/>\n",
       "<circle clip-path=\"url(#clip402)\" cx=\"2034.42\" cy=\"224.052\" r=\"14.4\" fill=\"#009af9\" fill-rule=\"evenodd\" fill-opacity=\"1\" stroke=\"#000000\" stroke-opacity=\"1\" stroke-width=\"3.2\"/>\n",
       "<circle clip-path=\"url(#clip402)\" cx=\"2045.04\" cy=\"324.925\" r=\"14.4\" fill=\"#009af9\" fill-rule=\"evenodd\" fill-opacity=\"1\" stroke=\"#000000\" stroke-opacity=\"1\" stroke-width=\"3.2\"/>\n",
       "<circle clip-path=\"url(#clip402)\" cx=\"2055.66\" cy=\"333.487\" r=\"14.4\" fill=\"#009af9\" fill-rule=\"evenodd\" fill-opacity=\"1\" stroke=\"#000000\" stroke-opacity=\"1\" stroke-width=\"3.2\"/>\n",
       "<circle clip-path=\"url(#clip402)\" cx=\"2066.28\" cy=\"352.566\" r=\"14.4\" fill=\"#009af9\" fill-rule=\"evenodd\" fill-opacity=\"1\" stroke=\"#000000\" stroke-opacity=\"1\" stroke-width=\"3.2\"/>\n",
       "<circle clip-path=\"url(#clip402)\" cx=\"2076.91\" cy=\"270.028\" r=\"14.4\" fill=\"#009af9\" fill-rule=\"evenodd\" fill-opacity=\"1\" stroke=\"#000000\" stroke-opacity=\"1\" stroke-width=\"3.2\"/>\n",
       "<circle clip-path=\"url(#clip402)\" cx=\"2087.53\" cy=\"190.233\" r=\"14.4\" fill=\"#009af9\" fill-rule=\"evenodd\" fill-opacity=\"1\" stroke=\"#000000\" stroke-opacity=\"1\" stroke-width=\"3.2\"/>\n",
       "<circle clip-path=\"url(#clip402)\" cx=\"2098.15\" cy=\"212.105\" r=\"14.4\" fill=\"#009af9\" fill-rule=\"evenodd\" fill-opacity=\"1\" stroke=\"#000000\" stroke-opacity=\"1\" stroke-width=\"3.2\"/>\n",
       "<circle clip-path=\"url(#clip402)\" cx=\"2108.77\" cy=\"215.047\" r=\"14.4\" fill=\"#009af9\" fill-rule=\"evenodd\" fill-opacity=\"1\" stroke=\"#000000\" stroke-opacity=\"1\" stroke-width=\"3.2\"/>\n",
       "<circle clip-path=\"url(#clip402)\" cx=\"2119.39\" cy=\"217.862\" r=\"14.4\" fill=\"#009af9\" fill-rule=\"evenodd\" fill-opacity=\"1\" stroke=\"#000000\" stroke-opacity=\"1\" stroke-width=\"3.2\"/>\n",
       "<circle clip-path=\"url(#clip402)\" cx=\"2130.02\" cy=\"331.379\" r=\"14.4\" fill=\"#009af9\" fill-rule=\"evenodd\" fill-opacity=\"1\" stroke=\"#000000\" stroke-opacity=\"1\" stroke-width=\"3.2\"/>\n",
       "<circle clip-path=\"url(#clip402)\" cx=\"2140.64\" cy=\"193.949\" r=\"14.4\" fill=\"#009af9\" fill-rule=\"evenodd\" fill-opacity=\"1\" stroke=\"#000000\" stroke-opacity=\"1\" stroke-width=\"3.2\"/>\n",
       "<circle clip-path=\"url(#clip402)\" cx=\"2151.26\" cy=\"169.545\" r=\"14.4\" fill=\"#009af9\" fill-rule=\"evenodd\" fill-opacity=\"1\" stroke=\"#000000\" stroke-opacity=\"1\" stroke-width=\"3.2\"/>\n",
       "<circle clip-path=\"url(#clip402)\" cx=\"2161.88\" cy=\"189.509\" r=\"14.4\" fill=\"#009af9\" fill-rule=\"evenodd\" fill-opacity=\"1\" stroke=\"#000000\" stroke-opacity=\"1\" stroke-width=\"3.2\"/>\n",
       "<circle clip-path=\"url(#clip402)\" cx=\"2172.5\" cy=\"264.837\" r=\"14.4\" fill=\"#009af9\" fill-rule=\"evenodd\" fill-opacity=\"1\" stroke=\"#000000\" stroke-opacity=\"1\" stroke-width=\"3.2\"/>\n",
       "<circle clip-path=\"url(#clip402)\" cx=\"2183.12\" cy=\"132.743\" r=\"14.4\" fill=\"#009af9\" fill-rule=\"evenodd\" fill-opacity=\"1\" stroke=\"#000000\" stroke-opacity=\"1\" stroke-width=\"3.2\"/>\n",
       "<circle clip-path=\"url(#clip402)\" cx=\"2193.75\" cy=\"126.916\" r=\"14.4\" fill=\"#009af9\" fill-rule=\"evenodd\" fill-opacity=\"1\" stroke=\"#000000\" stroke-opacity=\"1\" stroke-width=\"3.2\"/>\n",
       "<circle clip-path=\"url(#clip402)\" cx=\"2204.37\" cy=\"234.235\" r=\"14.4\" fill=\"#009af9\" fill-rule=\"evenodd\" fill-opacity=\"1\" stroke=\"#000000\" stroke-opacity=\"1\" stroke-width=\"3.2\"/>\n",
       "<circle clip-path=\"url(#clip402)\" cx=\"2214.99\" cy=\"195.411\" r=\"14.4\" fill=\"#009af9\" fill-rule=\"evenodd\" fill-opacity=\"1\" stroke=\"#000000\" stroke-opacity=\"1\" stroke-width=\"3.2\"/>\n",
       "<circle clip-path=\"url(#clip402)\" cx=\"2225.61\" cy=\"215.43\" r=\"14.4\" fill=\"#009af9\" fill-rule=\"evenodd\" fill-opacity=\"1\" stroke=\"#000000\" stroke-opacity=\"1\" stroke-width=\"3.2\"/>\n",
       "<circle clip-path=\"url(#clip402)\" cx=\"2236.23\" cy=\"150.115\" r=\"14.4\" fill=\"#009af9\" fill-rule=\"evenodd\" fill-opacity=\"1\" stroke=\"#000000\" stroke-opacity=\"1\" stroke-width=\"3.2\"/>\n",
       "<circle clip-path=\"url(#clip402)\" cx=\"2246.86\" cy=\"159.679\" r=\"14.4\" fill=\"#009af9\" fill-rule=\"evenodd\" fill-opacity=\"1\" stroke=\"#000000\" stroke-opacity=\"1\" stroke-width=\"3.2\"/>\n",
       "<circle clip-path=\"url(#clip402)\" cx=\"2257.48\" cy=\"151.093\" r=\"14.4\" fill=\"#009af9\" fill-rule=\"evenodd\" fill-opacity=\"1\" stroke=\"#000000\" stroke-opacity=\"1\" stroke-width=\"3.2\"/>\n",
       "<circle clip-path=\"url(#clip402)\" cx=\"2268.1\" cy=\"116.192\" r=\"14.4\" fill=\"#009af9\" fill-rule=\"evenodd\" fill-opacity=\"1\" stroke=\"#000000\" stroke-opacity=\"1\" stroke-width=\"3.2\"/>\n",
       "<circle clip-path=\"url(#clip402)\" cx=\"2278.72\" cy=\"87.9763\" r=\"14.4\" fill=\"#009af9\" fill-rule=\"evenodd\" fill-opacity=\"1\" stroke=\"#000000\" stroke-opacity=\"1\" stroke-width=\"3.2\"/>\n",
       "<circle clip-path=\"url(#clip402)\" cx=\"2289.34\" cy=\"115.946\" r=\"14.4\" fill=\"#009af9\" fill-rule=\"evenodd\" fill-opacity=\"1\" stroke=\"#000000\" stroke-opacity=\"1\" stroke-width=\"3.2\"/>\n",
       "<polyline clip-path=\"url(#clip402)\" style=\"stroke:#e26f46; stroke-linecap:round; stroke-linejoin:round; stroke-width:4; stroke-opacity:1; fill:none\" points=\"\n",
       "  175.59,1365.79 186.212,1361.61 196.834,1357.4 207.455,1353.18 218.077,1348.93 228.699,1344.66 239.321,1340.37 249.943,1336.06 260.565,1331.73 271.187,1327.38 \n",
       "  281.809,1323 292.43,1318.61 303.052,1314.2 313.674,1309.76 324.296,1305.3 334.918,1300.82 345.54,1296.32 356.162,1291.8 366.784,1287.26 377.405,1282.7 \n",
       "  388.027,1278.12 398.649,1273.52 409.271,1268.89 419.893,1264.24 430.515,1259.58 441.137,1254.89 451.759,1250.18 462.38,1245.45 473.002,1240.7 483.624,1235.93 \n",
       "  494.246,1231.14 504.868,1226.32 515.49,1221.49 526.112,1216.63 536.734,1211.76 547.355,1206.86 557.977,1201.94 568.599,1197 579.221,1192.04 589.843,1187.06 \n",
       "  600.465,1182.06 611.087,1177.04 621.709,1171.99 632.33,1166.93 642.952,1161.84 653.574,1156.73 664.196,1151.6 674.818,1146.46 685.44,1141.29 696.062,1136.1 \n",
       "  706.684,1130.88 717.306,1125.65 727.927,1120.4 738.549,1115.12 749.171,1109.83 759.793,1104.51 770.415,1099.17 781.037,1093.81 791.659,1088.43 802.281,1083.03 \n",
       "  812.902,1077.61 823.524,1072.17 834.146,1066.71 844.768,1061.22 855.39,1055.72 866.012,1050.19 876.634,1044.64 887.256,1039.08 897.877,1033.49 908.499,1027.88 \n",
       "  919.121,1022.24 929.743,1016.59 940.365,1010.92 950.987,1005.23 961.609,999.511 972.231,993.775 982.852,988.018 993.474,982.24 1004.1,976.442 1014.72,970.622 \n",
       "  1025.34,964.781 1035.96,958.919 1046.58,953.037 1057.21,947.133 1067.83,941.209 1078.45,935.263 1089.07,929.297 1099.69,923.309 1110.31,917.301 1120.94,911.271 \n",
       "  1131.56,905.221 1142.18,899.15 1152.8,893.058 1163.42,886.944 1174.05,880.81 1184.67,874.655 1195.29,868.479 1205.91,862.282 1216.53,856.064 1227.16,849.825 \n",
       "  1237.78,843.565 1248.4,837.284 1259.02,830.982 1269.64,824.659 1280.26,818.315 1290.89,811.951 1301.51,805.565 1312.13,799.158 1322.75,792.73 1333.37,786.282 \n",
       "  1344,779.812 1354.62,773.322 1365.24,766.81 1375.86,760.278 1386.48,753.724 1397.11,747.15 1407.73,740.554 1418.35,733.938 1428.97,727.301 1439.59,720.643 \n",
       "  1450.22,713.963 1460.84,707.263 1471.46,700.542 1482.08,693.8 1492.7,687.037 1503.32,680.253 1513.95,673.448 1524.57,666.622 1535.19,659.775 1545.81,652.907 \n",
       "  1556.43,646.018 1567.06,639.108 1577.68,632.178 1588.3,625.226 1598.92,618.253 1609.54,611.259 1620.17,604.245 1630.79,597.209 1641.41,590.153 1652.03,583.075 \n",
       "  1662.65,575.977 1673.27,568.857 1683.9,561.717 1694.52,554.555 1705.14,547.373 1715.76,540.17 1726.38,532.945 1737.01,525.7 1747.63,518.434 1758.25,511.147 \n",
       "  1768.87,503.839 1779.49,496.51 1790.12,489.16 1800.74,481.789 1811.36,474.397 1821.98,466.984 1832.6,459.55 1843.22,452.095 1853.85,444.619 1864.47,437.122 \n",
       "  1875.09,429.605 1885.71,422.066 1896.33,414.506 1906.96,406.926 1917.58,399.324 1928.2,391.702 1938.82,384.058 1949.44,376.394 1960.07,368.708 1970.69,361.002 \n",
       "  1981.31,353.274 1991.93,345.526 2002.55,337.757 2013.17,329.966 2023.8,322.155 2034.42,314.323 2045.04,306.47 2055.66,298.596 2066.28,290.701 2076.91,282.785 \n",
       "  2087.53,274.848 2098.15,266.89 2108.77,258.911 2119.39,250.911 2130.02,242.89 2140.64,234.848 2151.26,226.785 2161.88,218.702 2172.5,210.597 2183.12,202.471 \n",
       "  2193.75,194.325 2204.37,186.157 2214.99,177.968 2225.61,169.759 2236.23,161.528 2246.86,153.277 2257.48,145.005 2268.1,136.711 2278.72,128.397 2289.34,120.062 \n",
       "  \n",
       "  \"/>\n",
       "<path clip-path=\"url(#clip400)\" d=\"\n",
       "M186.863 250.738 L463.351 250.738 L463.351 95.2176 L186.863 95.2176  Z\n",
       "  \" fill=\"#ffffff\" fill-rule=\"evenodd\" fill-opacity=\"1\"/>\n",
       "<polyline clip-path=\"url(#clip400)\" style=\"stroke:#000000; stroke-linecap:round; stroke-linejoin:round; stroke-width:4; stroke-opacity:1; fill:none\" points=\"\n",
       "  186.863,250.738 463.351,250.738 463.351,95.2176 186.863,95.2176 186.863,250.738 \n",
       "  \"/>\n",
       "<circle clip-path=\"url(#clip400)\" cx=\"286.444\" cy=\"147.058\" r=\"23.04\" fill=\"#009af9\" fill-rule=\"evenodd\" fill-opacity=\"1\" stroke=\"#000000\" stroke-opacity=\"1\" stroke-width=\"5.12\"/>\n",
       "<path clip-path=\"url(#clip400)\" d=\"M399.868 166.745 Q398.063 171.375 396.35 172.787 Q394.637 174.199 391.766 174.199 L388.364 174.199 L388.364 170.634 L390.864 170.634 Q392.623 170.634 393.595 169.8 Q394.567 168.967 395.748 165.865 L396.512 163.921 L386.026 138.412 L390.54 138.412 L398.641 158.689 L406.743 138.412 L411.257 138.412 L399.868 166.745 Z\" fill=\"#000000\" fill-rule=\"evenodd\" fill-opacity=\"1\" /><path clip-path=\"url(#clip400)\" d=\"M418.549 160.402 L426.188 160.402 L426.188 134.037 L417.877 135.703 L417.877 131.444 L426.141 129.778 L430.817 129.778 L430.817 160.402 L438.456 160.402 L438.456 164.338 L418.549 164.338 L418.549 160.402 Z\" fill=\"#000000\" fill-rule=\"evenodd\" fill-opacity=\"1\" /><polyline clip-path=\"url(#clip400)\" style=\"stroke:#e26f46; stroke-linecap:round; stroke-linejoin:round; stroke-width:4; stroke-opacity:1; fill:none\" points=\"\n",
       "  211.758,198.898 361.13,198.898 \n",
       "  \"/>\n",
       "<path clip-path=\"url(#clip400)\" d=\"M399.868 218.585 Q398.063 223.215 396.35 224.627 Q394.637 226.039 391.766 226.039 L388.364 226.039 L388.364 222.474 L390.864 222.474 Q392.623 222.474 393.595 221.64 Q394.567 220.807 395.748 217.705 L396.512 215.761 L386.026 190.252 L390.54 190.252 L398.641 210.529 L406.743 190.252 L411.257 190.252 L399.868 218.585 Z\" fill=\"#000000\" fill-rule=\"evenodd\" fill-opacity=\"1\" /><path clip-path=\"url(#clip400)\" d=\"M421.766 212.242 L438.086 212.242 L438.086 216.178 L416.141 216.178 L416.141 212.242 Q418.803 209.488 423.387 204.858 Q427.993 200.205 429.174 198.863 Q431.419 196.34 432.299 194.604 Q433.201 192.844 433.201 191.155 Q433.201 188.4 431.257 186.664 Q429.336 184.928 426.234 184.928 Q424.035 184.928 421.581 185.692 Q419.151 186.455 416.373 188.006 L416.373 183.284 Q419.197 182.15 421.65 181.571 Q424.104 180.993 426.141 180.993 Q431.512 180.993 434.706 183.678 Q437.9 186.363 437.9 190.854 Q437.9 192.983 437.09 194.905 Q436.303 196.803 434.197 199.395 Q433.618 200.067 430.516 203.284 Q427.414 206.479 421.766 212.242 Z\" fill=\"#000000\" fill-rule=\"evenodd\" fill-opacity=\"1\" /></svg>\n"
      ]
     },
     "execution_count": 4,
     "metadata": {},
     "output_type": "execute_result"
    }
   ],
   "source": [
    "# Lets fit a quadratic function with random noise:\n",
    "\n",
    "f = x -> x^2 + 2x + 1 + 0.1randn()\n",
    "\n",
    "m = 200\n",
    "x = range(0,1; length=m) # makes 1000 evenly spaced points between 0 and 1\n",
    "𝐟 = f.(x)\n",
    "\n",
    "# We want to find the polynomial p(x) = p_0 + p_1*x + p_2*x^2  so that\n",
    "# p(x[k]) ≈ f(x[k])\n",
    "# in the sense that norm([p(x[k]) - f(x[k]) for k = 1:m]) == norm(p.(x) -f.(x))\n",
    "# Make the Vandermonde matrix\n",
    "\n",
    "V = [x[k]^j for k=1:m, j=0:2]\n",
    "# Then p.(x) == V*c for c = [p_0,p_1,p_2]\n",
    "# Thus we want to minimise\n",
    "# norm(V*c - 𝐟)\n",
    "# i.e.\n",
    "\n",
    "c = V \\ 𝐟\n",
    "p = x -> c[1] + c[2]x + c[3]x^2\n",
    "\n",
    "\n",
    "scatter(x, 𝐟)\n",
    "plot!(x, p.(x))"
   ]
  },
  {
   "cell_type": "code",
   "execution_count": 8,
   "id": "6acd1671",
   "metadata": {},
   "outputs": [
    {
     "data": {
      "text/plain": [
       "true"
      ]
     },
     "execution_count": 8,
     "metadata": {},
     "output_type": "execute_result"
    }
   ],
   "source": [
    "Q,R̂ = qr(V)\n",
    "# Q is special type reprenting both Q̂ and Q. It acts on both ℝ^m and ℝ^n\n",
    "Q*[1,2,3] ≈ Q*[1; 2; 3; zeros(m-3)]"
   ]
  },
  {
   "cell_type": "code",
   "execution_count": 9,
   "id": "4ff7224d",
   "metadata": {},
   "outputs": [
    {
     "data": {
      "text/plain": [
       "3-element Vector{Float64}:\n",
       " 0.9925098089329052\n",
       " 2.0190314052284424\n",
       " 1.0089084076327104"
      ]
     },
     "execution_count": 9,
     "metadata": {},
     "output_type": "execute_result"
    }
   ],
   "source": [
    "# Q' behaves like U(m). Thus to get Q̂ we need to truncate:\n",
    "R̂ \\ (Q'𝐟)[1:3]"
   ]
  },
  {
   "cell_type": "code",
   "execution_count": 10,
   "id": "4ac15450",
   "metadata": {},
   "outputs": [
    {
     "data": {
      "text/plain": [
       "3-element Vector{Float64}:\n",
       " 0.992509808932904\n",
       " 2.0190314052284433\n",
       " 1.0089084076327093"
      ]
     },
     "execution_count": 10,
     "metadata": {},
     "output_type": "execute_result"
    }
   ],
   "source": [
    "# Alternatively:\n",
    "Q̂ = Q[:,1:3]\n",
    "R̂ \\ Q̂'𝐟"
   ]
  },
  {
   "cell_type": "markdown",
   "id": "e81dfe5e",
   "metadata": {},
   "source": [
    "## Householder"
   ]
  },
  {
   "cell_type": "code",
   "execution_count": 12,
   "id": "9288ad40",
   "metadata": {},
   "outputs": [
    {
     "data": {
      "text/plain": [
       "2"
      ]
     },
     "execution_count": 12,
     "metadata": {},
     "output_type": "execute_result"
    }
   ],
   "source": [
    "A = [1 2 3; \n",
    "     4 5 6;\n",
    "     7 8 9; \n",
    "     10 11 12]\n",
    "rank(A)"
   ]
  },
  {
   "cell_type": "code",
   "execution_count": 20,
   "id": "c943aba0",
   "metadata": {},
   "outputs": [
    {
     "data": {
      "text/plain": [
       "householderreflection (generic function with 1 method)"
      ]
     },
     "execution_count": 20,
     "metadata": {},
     "output_type": "execute_result"
    }
   ],
   "source": [
    "function householderreflection(x)\n",
    "    T = float(eltype(x))\n",
    "    y = Vector{T}(x)\n",
    "    y[1] += norm(x)*sign(x[1])\n",
    "    w = y/norm(y)\n",
    "    I - 2w*w' # I represents identity matrix on any dimension\n",
    "end"
   ]
  },
  {
   "cell_type": "code",
   "execution_count": 56,
   "id": "95f85f79",
   "metadata": {},
   "outputs": [
    {
     "data": {
      "text/plain": [
       "4-element Vector{Float64}:\n",
       " -12.884098726725126\n",
       "   0.0\n",
       "   8.881784197001252e-16\n",
       "   8.881784197001252e-16"
      ]
     },
     "execution_count": 56,
     "metadata": {},
     "output_type": "execute_result"
    }
   ],
   "source": [
    "A = [1 2 3; \n",
    "     4 5 6;\n",
    "     7 8 9; \n",
    "     10 11 13]\n",
    "\n",
    "m,n = size(A)\n",
    "\n",
    "𝐚₁ = A[:,1]\n",
    "Q₁ = householderreflection(𝐚₁)\n",
    "Q₁*𝐚₁ # first column made \"sparse\""
   ]
  },
  {
   "cell_type": "code",
   "execution_count": 57,
   "id": "a72e66e8",
   "metadata": {},
   "outputs": [
    {
     "data": {
      "text/plain": [
       "true"
      ]
     },
     "execution_count": 57,
     "metadata": {},
     "output_type": "execute_result"
    }
   ],
   "source": [
    "Q₁A = Q₁*A # first column made \"sparse\"\n",
    "α₁, 𝐰₁ = Q₁A[1,1],Q₁A[1,:]\n",
    "\n",
    "R₁ = Q₁ * R₁\n",
    "A ≈ Q₁ * R₁ # partial-QR"
   ]
  },
  {
   "cell_type": "code",
   "execution_count": 58,
   "id": "907ec578",
   "metadata": {},
   "outputs": [
    {
     "data": {
      "text/plain": [
       "3×2 Matrix{Float64}:\n",
       " -1.04132      -1.77024\n",
       " -7.64634e-19  -0.546457\n",
       "  3.84754e-17   0.0372184"
      ]
     },
     "execution_count": 58,
     "metadata": {},
     "output_type": "execute_result"
    }
   ],
   "source": [
    "A₂ = Q₁A[2:end,2:end]\n",
    "𝐚₂ = A₂[:,1]\n",
    "α₂, 𝐰₂ = R₂[1,1],R₂[1,:]\n",
    "Q₂ = householderreflection(𝐚₂)\n",
    "\n",
    "Q₂ * A₂"
   ]
  },
  {
   "cell_type": "code",
   "execution_count": 59,
   "id": "f87b2f5b",
   "metadata": {},
   "outputs": [
    {
     "data": {
      "text/plain": [
       "true"
      ]
     },
     "execution_count": 59,
     "metadata": {},
     "output_type": "execute_result"
    }
   ],
   "source": [
    "Q̃₂ = Matrix(1.0I, m, m)\n",
    "Q̃₂[2:end, 2:end] = Q₂\n",
    "\n",
    "R₂ = Q̃₂*Q₁*A # first two columns made sparse\n",
    "\n",
    "A ≈  Q₁*Q̃₂ * R₂ # partial-QR"
   ]
  },
  {
   "cell_type": "code",
   "execution_count": 78,
   "id": "a404010e",
   "metadata": {},
   "outputs": [
    {
     "data": {
      "text/plain": [
       "\u001b[32m\u001b[1mTest Passed\u001b[22m\u001b[39m"
      ]
     },
     "execution_count": 78,
     "metadata": {},
     "output_type": "execute_result"
    }
   ],
   "source": [
    "A₃ = (Q₂ * A₂)[2:end,2:end]\n",
    "𝐚₃ = A₃[:,1]\n",
    "\n",
    "Q₃ = householderreflection(𝐚₃)\n",
    "Q̃₃ = Matrix(1.0I, m, m)\n",
    "Q̃₃[3:end, 3:end] = Q₃\n",
    "\n",
    "R = Q̃₃ * Q̃₂*Q₁*A # first two columns made sparse\n",
    "\n",
    "Q = Q₁*Q̃₂*Q̃₃\n",
    "\n",
    "@test A ≈ Q*R\n",
    "@test Q'Q ≈ I"
   ]
  },
  {
   "cell_type": "code",
   "execution_count": 79,
   "id": "d75af5ff",
   "metadata": {},
   "outputs": [
    {
     "data": {
      "text/plain": [
       "\u001b[32m\u001b[1mTest Passed\u001b[22m\u001b[39m"
      ]
     },
     "execution_count": 79,
     "metadata": {},
     "output_type": "execute_result"
    }
   ],
   "source": [
    "Q₁ * Q̃₂ # Q₂ acts on just columns 2:n\n",
    "Q = copy(Q₁)\n",
    "Q[:,2:end] = Q[:,2:end] * Q₂\n",
    "@test Q == Q₁ * Q̃₂\n",
    "\n",
    "Q₁ * Q̃₂ *Q̃₃ # Q₃ acts on just columns 3:n\n",
    "Q[:,3:end] = Q[:,3:end] * Q₃\n",
    "@test Q ≈ Q₁ * Q̃₂ *Q̃₃\n",
    "\n",
    "@test A ≈ Q*R"
   ]
  },
  {
   "cell_type": "code",
   "execution_count": 86,
   "id": "cf1099d6",
   "metadata": {},
   "outputs": [
    {
     "data": {
      "text/plain": [
       "4×3 Matrix{Float64}:\n",
       "  1.0   2.0   3.0\n",
       "  4.0   5.0   6.0\n",
       "  7.0   8.0   9.0\n",
       " 10.0  11.0  13.0"
      ]
     },
     "execution_count": 86,
     "metadata": {},
     "output_type": "execute_result"
    }
   ],
   "source": [
    "# algorithm\n",
    "function householderqr(A)\n",
    "\n",
    "    m,n = size(A)\n",
    "\n",
    "    T = float(eltype(A))\n",
    "    R = zeros(T, m, n)\n",
    "    Q = Matrix{T}(I, m, m)\n",
    "\n",
    "    Aⱼ = A\n",
    "\n",
    "\n",
    "    for j = 1:n\n",
    "        𝐚ⱼ = Aⱼ[:,1]\n",
    "        Qⱼ = householderreflection(𝐚ⱼ)\n",
    "        QⱼAⱼ = Qⱼ*Aⱼ # WARNING!!! O(n*m^2) operations! should be O(n*m)\n",
    "        α,𝐰 = QⱼAⱼ[1,1],QⱼAⱼ[1,2:end]\n",
    "        Aⱼ₊₁ = QⱼAⱼ[2:end,2:end]\n",
    "\n",
    "        # populate R\n",
    "        R[j,j] = α\n",
    "        R[j,j+1:end] = 𝐰\n",
    "\n",
    "        # update Q\n",
    "        Q[:,j:end] = Q[:,j:end] * Qⱼ\n",
    "\n",
    "        Aⱼ = Aⱼ₊₁\n",
    "    end\n",
    "\n",
    "    Q,R\n",
    "    \n",
    "end"
   ]
  },
  {
   "cell_type": "code",
   "execution_count": null,
   "id": "f50fd77f",
   "metadata": {},
   "outputs": [],
   "source": []
  }
 ],
 "metadata": {
  "kernelspec": {
   "display_name": "Julia 1.8.3-pre",
   "language": "julia",
   "name": "julia-1.8"
  },
  "language_info": {
   "file_extension": ".jl",
   "mimetype": "application/julia",
   "name": "julia",
   "version": "1.8.3"
  }
 },
 "nbformat": 4,
 "nbformat_minor": 5
}
